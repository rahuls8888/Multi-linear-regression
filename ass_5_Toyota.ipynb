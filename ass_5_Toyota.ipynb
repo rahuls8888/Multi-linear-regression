{
  "cells": [
    {
      "cell_type": "code",
      "execution_count": null,
      "id": "725bb906",
      "metadata": {
        "id": "725bb906"
      },
      "outputs": [],
      "source": [
        "import pandas as  pd\n",
        "import seaborn as sns\n",
        "import numpy as np\n",
        "import matplotlib.pyplot as plt\n",
        "from statsmodels.graphics.regressionplots import influence_plot"
      ]
    },
    {
      "cell_type": "code",
      "execution_count": null,
      "id": "c99b301c",
      "metadata": {
        "id": "c99b301c"
      },
      "outputs": [],
      "source": [
        "b=pd.read_csv(\"ToyotaCorolla (1).csv\",encoding=\"latin1\")"
      ]
    },
    {
      "cell_type": "code",
      "execution_count": null,
      "id": "3be69f9a",
      "metadata": {
        "id": "3be69f9a",
        "outputId": "c1061604-028b-4f86-af0c-ccd7a4425217"
      },
      "outputs": [
        {
          "data": {
            "text/html": [
              "<div>\n",
              "<style scoped>\n",
              "    .dataframe tbody tr th:only-of-type {\n",
              "        vertical-align: middle;\n",
              "    }\n",
              "\n",
              "    .dataframe tbody tr th {\n",
              "        vertical-align: top;\n",
              "    }\n",
              "\n",
              "    .dataframe thead th {\n",
              "        text-align: right;\n",
              "    }\n",
              "</style>\n",
              "<table border=\"1\" class=\"dataframe\">\n",
              "  <thead>\n",
              "    <tr style=\"text-align: right;\">\n",
              "      <th></th>\n",
              "      <th>Id</th>\n",
              "      <th>Model</th>\n",
              "      <th>Price</th>\n",
              "      <th>Age_08_04</th>\n",
              "      <th>Mfg_Month</th>\n",
              "      <th>Mfg_Year</th>\n",
              "      <th>KM</th>\n",
              "      <th>Fuel_Type</th>\n",
              "      <th>HP</th>\n",
              "      <th>Met_Color</th>\n",
              "      <th>...</th>\n",
              "      <th>Central_Lock</th>\n",
              "      <th>Powered_Windows</th>\n",
              "      <th>Power_Steering</th>\n",
              "      <th>Radio</th>\n",
              "      <th>Mistlamps</th>\n",
              "      <th>Sport_Model</th>\n",
              "      <th>Backseat_Divider</th>\n",
              "      <th>Metallic_Rim</th>\n",
              "      <th>Radio_cassette</th>\n",
              "      <th>Tow_Bar</th>\n",
              "    </tr>\n",
              "  </thead>\n",
              "  <tbody>\n",
              "    <tr>\n",
              "      <th>0</th>\n",
              "      <td>1</td>\n",
              "      <td>TOYOTA Corolla 2.0 D4D HATCHB TERRA 2/3-Doors</td>\n",
              "      <td>13500</td>\n",
              "      <td>23</td>\n",
              "      <td>10</td>\n",
              "      <td>2002</td>\n",
              "      <td>46986</td>\n",
              "      <td>Diesel</td>\n",
              "      <td>90</td>\n",
              "      <td>1</td>\n",
              "      <td>...</td>\n",
              "      <td>1</td>\n",
              "      <td>1</td>\n",
              "      <td>1</td>\n",
              "      <td>0</td>\n",
              "      <td>0</td>\n",
              "      <td>0</td>\n",
              "      <td>1</td>\n",
              "      <td>0</td>\n",
              "      <td>0</td>\n",
              "      <td>0</td>\n",
              "    </tr>\n",
              "    <tr>\n",
              "      <th>1</th>\n",
              "      <td>2</td>\n",
              "      <td>TOYOTA Corolla 2.0 D4D HATCHB TERRA 2/3-Doors</td>\n",
              "      <td>13750</td>\n",
              "      <td>23</td>\n",
              "      <td>10</td>\n",
              "      <td>2002</td>\n",
              "      <td>72937</td>\n",
              "      <td>Diesel</td>\n",
              "      <td>90</td>\n",
              "      <td>1</td>\n",
              "      <td>...</td>\n",
              "      <td>1</td>\n",
              "      <td>0</td>\n",
              "      <td>1</td>\n",
              "      <td>0</td>\n",
              "      <td>0</td>\n",
              "      <td>0</td>\n",
              "      <td>1</td>\n",
              "      <td>0</td>\n",
              "      <td>0</td>\n",
              "      <td>0</td>\n",
              "    </tr>\n",
              "    <tr>\n",
              "      <th>2</th>\n",
              "      <td>3</td>\n",
              "      <td>TOYOTA Corolla 2.0 D4D HATCHB TERRA 2/3-Doors</td>\n",
              "      <td>13950</td>\n",
              "      <td>24</td>\n",
              "      <td>9</td>\n",
              "      <td>2002</td>\n",
              "      <td>41711</td>\n",
              "      <td>Diesel</td>\n",
              "      <td>90</td>\n",
              "      <td>1</td>\n",
              "      <td>...</td>\n",
              "      <td>0</td>\n",
              "      <td>0</td>\n",
              "      <td>1</td>\n",
              "      <td>0</td>\n",
              "      <td>0</td>\n",
              "      <td>0</td>\n",
              "      <td>1</td>\n",
              "      <td>0</td>\n",
              "      <td>0</td>\n",
              "      <td>0</td>\n",
              "    </tr>\n",
              "    <tr>\n",
              "      <th>3</th>\n",
              "      <td>4</td>\n",
              "      <td>TOYOTA Corolla 2.0 D4D HATCHB TERRA 2/3-Doors</td>\n",
              "      <td>14950</td>\n",
              "      <td>26</td>\n",
              "      <td>7</td>\n",
              "      <td>2002</td>\n",
              "      <td>48000</td>\n",
              "      <td>Diesel</td>\n",
              "      <td>90</td>\n",
              "      <td>0</td>\n",
              "      <td>...</td>\n",
              "      <td>0</td>\n",
              "      <td>0</td>\n",
              "      <td>1</td>\n",
              "      <td>0</td>\n",
              "      <td>0</td>\n",
              "      <td>0</td>\n",
              "      <td>1</td>\n",
              "      <td>0</td>\n",
              "      <td>0</td>\n",
              "      <td>0</td>\n",
              "    </tr>\n",
              "    <tr>\n",
              "      <th>4</th>\n",
              "      <td>5</td>\n",
              "      <td>TOYOTA Corolla 2.0 D4D HATCHB SOL 2/3-Doors</td>\n",
              "      <td>13750</td>\n",
              "      <td>30</td>\n",
              "      <td>3</td>\n",
              "      <td>2002</td>\n",
              "      <td>38500</td>\n",
              "      <td>Diesel</td>\n",
              "      <td>90</td>\n",
              "      <td>0</td>\n",
              "      <td>...</td>\n",
              "      <td>1</td>\n",
              "      <td>1</td>\n",
              "      <td>1</td>\n",
              "      <td>0</td>\n",
              "      <td>1</td>\n",
              "      <td>0</td>\n",
              "      <td>1</td>\n",
              "      <td>0</td>\n",
              "      <td>0</td>\n",
              "      <td>0</td>\n",
              "    </tr>\n",
              "  </tbody>\n",
              "</table>\n",
              "<p>5 rows × 38 columns</p>\n",
              "</div>"
            ],
            "text/plain": [
              "   Id                                           Model  Price  Age_08_04  \\\n",
              "0   1   TOYOTA Corolla 2.0 D4D HATCHB TERRA 2/3-Doors  13500         23   \n",
              "1   2   TOYOTA Corolla 2.0 D4D HATCHB TERRA 2/3-Doors  13750         23   \n",
              "2   3   TOYOTA Corolla 2.0 D4D HATCHB TERRA 2/3-Doors  13950         24   \n",
              "3   4   TOYOTA Corolla 2.0 D4D HATCHB TERRA 2/3-Doors  14950         26   \n",
              "4   5     TOYOTA Corolla 2.0 D4D HATCHB SOL 2/3-Doors  13750         30   \n",
              "\n",
              "   Mfg_Month  Mfg_Year     KM Fuel_Type  HP  Met_Color  ... Central_Lock  \\\n",
              "0         10      2002  46986    Diesel  90          1  ...            1   \n",
              "1         10      2002  72937    Diesel  90          1  ...            1   \n",
              "2          9      2002  41711    Diesel  90          1  ...            0   \n",
              "3          7      2002  48000    Diesel  90          0  ...            0   \n",
              "4          3      2002  38500    Diesel  90          0  ...            1   \n",
              "\n",
              "   Powered_Windows  Power_Steering  Radio  Mistlamps  Sport_Model  \\\n",
              "0                1               1      0          0            0   \n",
              "1                0               1      0          0            0   \n",
              "2                0               1      0          0            0   \n",
              "3                0               1      0          0            0   \n",
              "4                1               1      0          1            0   \n",
              "\n",
              "   Backseat_Divider  Metallic_Rim  Radio_cassette  Tow_Bar  \n",
              "0                 1             0               0        0  \n",
              "1                 1             0               0        0  \n",
              "2                 1             0               0        0  \n",
              "3                 1             0               0        0  \n",
              "4                 1             0               0        0  \n",
              "\n",
              "[5 rows x 38 columns]"
            ]
          },
          "execution_count": 4,
          "metadata": {},
          "output_type": "execute_result"
        }
      ],
      "source": [
        "b.head()"
      ]
    },
    {
      "cell_type": "code",
      "execution_count": null,
      "id": "f9f5a4e2",
      "metadata": {
        "id": "f9f5a4e2",
        "outputId": "5c1fdee2-f06a-432b-9b98-3252064f85ac"
      },
      "outputs": [
        {
          "data": {
            "text/plain": [
              "Index(['Id', 'Model', 'Price', 'Age_08_04', 'Mfg_Month', 'Mfg_Year', 'KM',\n",
              "       'Fuel_Type', 'HP', 'Met_Color', 'Color', 'Automatic', 'cc', 'Doors',\n",
              "       'Cylinders', 'Gears', 'Quarterly_Tax', 'Weight', 'Mfr_Guarantee',\n",
              "       'BOVAG_Guarantee', 'Guarantee_Period', 'ABS', 'Airbag_1', 'Airbag_2',\n",
              "       'Airco', 'Automatic_airco', 'Boardcomputer', 'CD_Player',\n",
              "       'Central_Lock', 'Powered_Windows', 'Power_Steering', 'Radio',\n",
              "       'Mistlamps', 'Sport_Model', 'Backseat_Divider', 'Metallic_Rim',\n",
              "       'Radio_cassette', 'Tow_Bar'],\n",
              "      dtype='object')"
            ]
          },
          "execution_count": 5,
          "metadata": {},
          "output_type": "execute_result"
        }
      ],
      "source": [
        "b.columns"
      ]
    },
    {
      "cell_type": "code",
      "execution_count": null,
      "id": "5d1d904b",
      "metadata": {
        "id": "5d1d904b"
      },
      "outputs": [],
      "source": [
        "q=b[[\"Price\",\"Age_08_04\",\"KM\",\"HP\",\"cc\",\"Doors\",\"Gears\",\"Quarterly_Tax\",\"Weight\"]]"
      ]
    },
    {
      "cell_type": "code",
      "execution_count": null,
      "id": "afd175f3",
      "metadata": {
        "id": "afd175f3"
      },
      "outputs": [],
      "source": [
        "import statsmodels.formula.api as smf"
      ]
    },
    {
      "cell_type": "code",
      "execution_count": null,
      "id": "e1a1d2a3",
      "metadata": {
        "id": "e1a1d2a3"
      },
      "outputs": [],
      "source": [
        "w1=smf.ols(\"Price~Age_08_04+KM+HP+cc+Doors+Gears+Quarterly_Tax+Weight\",data=q).fit()"
      ]
    },
    {
      "cell_type": "code",
      "execution_count": null,
      "id": "34fa1645",
      "metadata": {
        "id": "34fa1645",
        "outputId": "1135126a-d58f-4c84-8460-1b99ad05b86c"
      },
      "outputs": [
        {
          "data": {
            "text/html": [
              "<table class=\"simpletable\">\n",
              "<caption>OLS Regression Results</caption>\n",
              "<tr>\n",
              "  <th>Dep. Variable:</th>          <td>Price</td>      <th>  R-squared:         </th> <td>   0.864</td> \n",
              "</tr>\n",
              "<tr>\n",
              "  <th>Model:</th>                   <td>OLS</td>       <th>  Adj. R-squared:    </th> <td>   0.863</td> \n",
              "</tr>\n",
              "<tr>\n",
              "  <th>Method:</th>             <td>Least Squares</td>  <th>  F-statistic:       </th> <td>   1131.</td> \n",
              "</tr>\n",
              "<tr>\n",
              "  <th>Date:</th>             <td>Wed, 01 Nov 2023</td> <th>  Prob (F-statistic):</th>  <td>  0.00</td>  \n",
              "</tr>\n",
              "<tr>\n",
              "  <th>Time:</th>                 <td>14:39:22</td>     <th>  Log-Likelihood:    </th> <td> -12376.</td> \n",
              "</tr>\n",
              "<tr>\n",
              "  <th>No. Observations:</th>      <td>  1436</td>      <th>  AIC:               </th> <td>2.477e+04</td>\n",
              "</tr>\n",
              "<tr>\n",
              "  <th>Df Residuals:</th>          <td>  1427</td>      <th>  BIC:               </th> <td>2.482e+04</td>\n",
              "</tr>\n",
              "<tr>\n",
              "  <th>Df Model:</th>              <td>     8</td>      <th>                     </th>     <td> </td>    \n",
              "</tr>\n",
              "<tr>\n",
              "  <th>Covariance Type:</th>      <td>nonrobust</td>    <th>                     </th>     <td> </td>    \n",
              "</tr>\n",
              "</table>\n",
              "<table class=\"simpletable\">\n",
              "<tr>\n",
              "        <td></td>           <th>coef</th>     <th>std err</th>      <th>t</th>      <th>P>|t|</th>  <th>[0.025</th>    <th>0.975]</th>  \n",
              "</tr>\n",
              "<tr>\n",
              "  <th>Intercept</th>     <td>-5573.1064</td> <td> 1411.390</td> <td>   -3.949</td> <td> 0.000</td> <td>-8341.728</td> <td>-2804.485</td>\n",
              "</tr>\n",
              "<tr>\n",
              "  <th>Age_08_04</th>     <td> -121.6584</td> <td>    2.616</td> <td>  -46.512</td> <td> 0.000</td> <td> -126.789</td> <td> -116.527</td>\n",
              "</tr>\n",
              "<tr>\n",
              "  <th>KM</th>            <td>   -0.0208</td> <td>    0.001</td> <td>  -16.622</td> <td> 0.000</td> <td>   -0.023</td> <td>   -0.018</td>\n",
              "</tr>\n",
              "<tr>\n",
              "  <th>HP</th>            <td>   31.6809</td> <td>    2.818</td> <td>   11.241</td> <td> 0.000</td> <td>   26.152</td> <td>   37.209</td>\n",
              "</tr>\n",
              "<tr>\n",
              "  <th>cc</th>            <td>   -0.1211</td> <td>    0.090</td> <td>   -1.344</td> <td> 0.179</td> <td>   -0.298</td> <td>    0.056</td>\n",
              "</tr>\n",
              "<tr>\n",
              "  <th>Doors</th>         <td>   -1.6166</td> <td>   40.006</td> <td>   -0.040</td> <td> 0.968</td> <td>  -80.093</td> <td>   76.859</td>\n",
              "</tr>\n",
              "<tr>\n",
              "  <th>Gears</th>         <td>  594.3199</td> <td>  197.055</td> <td>    3.016</td> <td> 0.003</td> <td>  207.771</td> <td>  980.869</td>\n",
              "</tr>\n",
              "<tr>\n",
              "  <th>Quarterly_Tax</th> <td>    3.9491</td> <td>    1.310</td> <td>    3.015</td> <td> 0.003</td> <td>    1.379</td> <td>    6.519</td>\n",
              "</tr>\n",
              "<tr>\n",
              "  <th>Weight</th>        <td>   16.9586</td> <td>    1.068</td> <td>   15.880</td> <td> 0.000</td> <td>   14.864</td> <td>   19.054</td>\n",
              "</tr>\n",
              "</table>\n",
              "<table class=\"simpletable\">\n",
              "<tr>\n",
              "  <th>Omnibus:</th>       <td>151.719</td> <th>  Durbin-Watson:     </th> <td>   1.543</td> \n",
              "</tr>\n",
              "<tr>\n",
              "  <th>Prob(Omnibus):</th> <td> 0.000</td>  <th>  Jarque-Bera (JB):  </th> <td>1011.853</td> \n",
              "</tr>\n",
              "<tr>\n",
              "  <th>Skew:</th>          <td>-0.219</td>  <th>  Prob(JB):          </th> <td>1.90e-220</td>\n",
              "</tr>\n",
              "<tr>\n",
              "  <th>Kurtosis:</th>      <td> 7.089</td>  <th>  Cond. No.          </th> <td>3.13e+06</td> \n",
              "</tr>\n",
              "</table><br/><br/>Notes:<br/>[1] Standard Errors assume that the covariance matrix of the errors is correctly specified.<br/>[2] The condition number is large, 3.13e+06. This might indicate that there are<br/>strong multicollinearity or other numerical problems."
            ],
            "text/plain": [
              "<class 'statsmodels.iolib.summary.Summary'>\n",
              "\"\"\"\n",
              "                            OLS Regression Results                            \n",
              "==============================================================================\n",
              "Dep. Variable:                  Price   R-squared:                       0.864\n",
              "Model:                            OLS   Adj. R-squared:                  0.863\n",
              "Method:                 Least Squares   F-statistic:                     1131.\n",
              "Date:                Wed, 01 Nov 2023   Prob (F-statistic):               0.00\n",
              "Time:                        14:39:22   Log-Likelihood:                -12376.\n",
              "No. Observations:                1436   AIC:                         2.477e+04\n",
              "Df Residuals:                    1427   BIC:                         2.482e+04\n",
              "Df Model:                           8                                         \n",
              "Covariance Type:            nonrobust                                         \n",
              "=================================================================================\n",
              "                    coef    std err          t      P>|t|      [0.025      0.975]\n",
              "---------------------------------------------------------------------------------\n",
              "Intercept     -5573.1064   1411.390     -3.949      0.000   -8341.728   -2804.485\n",
              "Age_08_04      -121.6584      2.616    -46.512      0.000    -126.789    -116.527\n",
              "KM               -0.0208      0.001    -16.622      0.000      -0.023      -0.018\n",
              "HP               31.6809      2.818     11.241      0.000      26.152      37.209\n",
              "cc               -0.1211      0.090     -1.344      0.179      -0.298       0.056\n",
              "Doors            -1.6166     40.006     -0.040      0.968     -80.093      76.859\n",
              "Gears           594.3199    197.055      3.016      0.003     207.771     980.869\n",
              "Quarterly_Tax     3.9491      1.310      3.015      0.003       1.379       6.519\n",
              "Weight           16.9586      1.068     15.880      0.000      14.864      19.054\n",
              "==============================================================================\n",
              "Omnibus:                      151.719   Durbin-Watson:                   1.543\n",
              "Prob(Omnibus):                  0.000   Jarque-Bera (JB):             1011.853\n",
              "Skew:                          -0.219   Prob(JB):                    1.90e-220\n",
              "Kurtosis:                       7.089   Cond. No.                     3.13e+06\n",
              "==============================================================================\n",
              "\n",
              "Notes:\n",
              "[1] Standard Errors assume that the covariance matrix of the errors is correctly specified.\n",
              "[2] The condition number is large, 3.13e+06. This might indicate that there are\n",
              "strong multicollinearity or other numerical problems.\n",
              "\"\"\""
            ]
          },
          "execution_count": 46,
          "metadata": {},
          "output_type": "execute_result"
        }
      ],
      "source": [
        "w1.summary()"
      ]
    },
    {
      "cell_type": "code",
      "execution_count": null,
      "id": "c924e582",
      "metadata": {
        "id": "c924e582"
      },
      "outputs": [],
      "source": []
    },
    {
      "cell_type": "code",
      "execution_count": null,
      "id": "99a4d8e3",
      "metadata": {
        "id": "99a4d8e3"
      },
      "outputs": [],
      "source": []
    },
    {
      "cell_type": "code",
      "execution_count": null,
      "id": "2e0fb12d",
      "metadata": {
        "id": "2e0fb12d",
        "outputId": "f801dc3b-3152-42b4-8a37-26c8a7f6afeb"
      },
      "outputs": [
        {
          "name": "stdout",
          "output_type": "stream",
          "text": [
            "<class 'pandas.core.frame.DataFrame'>\n",
            "RangeIndex: 1436 entries, 0 to 1435\n",
            "Data columns (total 9 columns):\n",
            " #   Column         Non-Null Count  Dtype\n",
            "---  ------         --------------  -----\n",
            " 0   Price          1436 non-null   int64\n",
            " 1   Age_08_04      1436 non-null   int64\n",
            " 2   KM             1436 non-null   int64\n",
            " 3   HP             1436 non-null   int64\n",
            " 4   cc             1436 non-null   int64\n",
            " 5   Doors          1436 non-null   int64\n",
            " 6   Gears          1436 non-null   int64\n",
            " 7   Quarterly_Tax  1436 non-null   int64\n",
            " 8   Weight         1436 non-null   int64\n",
            "dtypes: int64(9)\n",
            "memory usage: 101.1 KB\n"
          ]
        }
      ],
      "source": [
        "q.info()"
      ]
    },
    {
      "cell_type": "code",
      "execution_count": null,
      "id": "cf73ba5b",
      "metadata": {
        "id": "cf73ba5b",
        "outputId": "d9abf1d3-36cc-4ecb-ed00-1986f9b09f3e"
      },
      "outputs": [
        {
          "data": {
            "text/plain": [
              "Price            0\n",
              "Age_08_04        0\n",
              "KM               0\n",
              "HP               0\n",
              "cc               0\n",
              "Doors            0\n",
              "Gears            0\n",
              "Quarterly_Tax    0\n",
              "Weight           0\n",
              "dtype: int64"
            ]
          },
          "execution_count": 16,
          "metadata": {},
          "output_type": "execute_result"
        }
      ],
      "source": [
        "q.isna().sum()"
      ]
    },
    {
      "cell_type": "code",
      "execution_count": null,
      "id": "13ca647f",
      "metadata": {
        "id": "13ca647f",
        "outputId": "a51e1a08-1564-475e-bb06-15bebd9b2f5b"
      },
      "outputs": [
        {
          "data": {
            "text/html": [
              "<div>\n",
              "<style scoped>\n",
              "    .dataframe tbody tr th:only-of-type {\n",
              "        vertical-align: middle;\n",
              "    }\n",
              "\n",
              "    .dataframe tbody tr th {\n",
              "        vertical-align: top;\n",
              "    }\n",
              "\n",
              "    .dataframe thead th {\n",
              "        text-align: right;\n",
              "    }\n",
              "</style>\n",
              "<table border=\"1\" class=\"dataframe\">\n",
              "  <thead>\n",
              "    <tr style=\"text-align: right;\">\n",
              "      <th></th>\n",
              "      <th>Price</th>\n",
              "      <th>Age_08_04</th>\n",
              "      <th>KM</th>\n",
              "      <th>HP</th>\n",
              "      <th>cc</th>\n",
              "      <th>Doors</th>\n",
              "      <th>Gears</th>\n",
              "      <th>Quarterly_Tax</th>\n",
              "      <th>Weight</th>\n",
              "    </tr>\n",
              "  </thead>\n",
              "  <tbody>\n",
              "    <tr>\n",
              "      <th>0</th>\n",
              "      <td>13500</td>\n",
              "      <td>23</td>\n",
              "      <td>46986</td>\n",
              "      <td>90</td>\n",
              "      <td>2000</td>\n",
              "      <td>3</td>\n",
              "      <td>5</td>\n",
              "      <td>210</td>\n",
              "      <td>1165</td>\n",
              "    </tr>\n",
              "    <tr>\n",
              "      <th>1</th>\n",
              "      <td>13750</td>\n",
              "      <td>23</td>\n",
              "      <td>72937</td>\n",
              "      <td>90</td>\n",
              "      <td>2000</td>\n",
              "      <td>3</td>\n",
              "      <td>5</td>\n",
              "      <td>210</td>\n",
              "      <td>1165</td>\n",
              "    </tr>\n",
              "    <tr>\n",
              "      <th>2</th>\n",
              "      <td>13950</td>\n",
              "      <td>24</td>\n",
              "      <td>41711</td>\n",
              "      <td>90</td>\n",
              "      <td>2000</td>\n",
              "      <td>3</td>\n",
              "      <td>5</td>\n",
              "      <td>210</td>\n",
              "      <td>1165</td>\n",
              "    </tr>\n",
              "    <tr>\n",
              "      <th>3</th>\n",
              "      <td>14950</td>\n",
              "      <td>26</td>\n",
              "      <td>48000</td>\n",
              "      <td>90</td>\n",
              "      <td>2000</td>\n",
              "      <td>3</td>\n",
              "      <td>5</td>\n",
              "      <td>210</td>\n",
              "      <td>1165</td>\n",
              "    </tr>\n",
              "    <tr>\n",
              "      <th>4</th>\n",
              "      <td>13750</td>\n",
              "      <td>30</td>\n",
              "      <td>38500</td>\n",
              "      <td>90</td>\n",
              "      <td>2000</td>\n",
              "      <td>3</td>\n",
              "      <td>5</td>\n",
              "      <td>210</td>\n",
              "      <td>1170</td>\n",
              "    </tr>\n",
              "  </tbody>\n",
              "</table>\n",
              "</div>"
            ],
            "text/plain": [
              "   Price  Age_08_04     KM  HP    cc  Doors  Gears  Quarterly_Tax  Weight\n",
              "0  13500         23  46986  90  2000      3      5            210    1165\n",
              "1  13750         23  72937  90  2000      3      5            210    1165\n",
              "2  13950         24  41711  90  2000      3      5            210    1165\n",
              "3  14950         26  48000  90  2000      3      5            210    1165\n",
              "4  13750         30  38500  90  2000      3      5            210    1170"
            ]
          },
          "execution_count": 17,
          "metadata": {},
          "output_type": "execute_result"
        }
      ],
      "source": [
        "q.head()"
      ]
    },
    {
      "cell_type": "code",
      "execution_count": null,
      "id": "c9385c8c",
      "metadata": {
        "id": "c9385c8c"
      },
      "outputs": [],
      "source": [
        "e=smf.ols(\"Price~Age_08_04+KM+HP+cc+Gears+Quarterly_Tax+Weight\",data=b).fit()"
      ]
    },
    {
      "cell_type": "code",
      "execution_count": null,
      "id": "0be83009",
      "metadata": {
        "id": "0be83009",
        "outputId": "b77c036a-0d9f-40cb-fc17-eb9f00cfd76c"
      },
      "outputs": [
        {
          "data": {
            "text/html": [
              "<table class=\"simpletable\">\n",
              "<caption>OLS Regression Results</caption>\n",
              "<tr>\n",
              "  <th>Dep. Variable:</th>          <td>Price</td>      <th>  R-squared:         </th> <td>   0.864</td> \n",
              "</tr>\n",
              "<tr>\n",
              "  <th>Model:</th>                   <td>OLS</td>       <th>  Adj. R-squared:    </th> <td>   0.863</td> \n",
              "</tr>\n",
              "<tr>\n",
              "  <th>Method:</th>             <td>Least Squares</td>  <th>  F-statistic:       </th> <td>   1293.</td> \n",
              "</tr>\n",
              "<tr>\n",
              "  <th>Date:</th>             <td>Wed, 01 Nov 2023</td> <th>  Prob (F-statistic):</th>  <td>  0.00</td>  \n",
              "</tr>\n",
              "<tr>\n",
              "  <th>Time:</th>                 <td>14:34:16</td>     <th>  Log-Likelihood:    </th> <td> -12376.</td> \n",
              "</tr>\n",
              "<tr>\n",
              "  <th>No. Observations:</th>      <td>  1436</td>      <th>  AIC:               </th> <td>2.477e+04</td>\n",
              "</tr>\n",
              "<tr>\n",
              "  <th>Df Residuals:</th>          <td>  1428</td>      <th>  BIC:               </th> <td>2.481e+04</td>\n",
              "</tr>\n",
              "<tr>\n",
              "  <th>Df Model:</th>              <td>     7</td>      <th>                     </th>     <td> </td>    \n",
              "</tr>\n",
              "<tr>\n",
              "  <th>Covariance Type:</th>      <td>nonrobust</td>    <th>                     </th>     <td> </td>    \n",
              "</tr>\n",
              "</table>\n",
              "<table class=\"simpletable\">\n",
              "<tr>\n",
              "        <td></td>           <th>coef</th>     <th>std err</th>      <th>t</th>      <th>P>|t|</th>  <th>[0.025</th>    <th>0.975]</th>  \n",
              "</tr>\n",
              "<tr>\n",
              "  <th>Intercept</th>     <td>-5575.1401</td> <td> 1409.999</td> <td>   -3.954</td> <td> 0.000</td> <td>-8341.032</td> <td>-2809.248</td>\n",
              "</tr>\n",
              "<tr>\n",
              "  <th>Age_08_04</th>     <td> -121.6581</td> <td>    2.615</td> <td>  -46.528</td> <td> 0.000</td> <td> -126.787</td> <td> -116.529</td>\n",
              "</tr>\n",
              "<tr>\n",
              "  <th>KM</th>            <td>   -0.0208</td> <td>    0.001</td> <td>  -16.636</td> <td> 0.000</td> <td>   -0.023</td> <td>   -0.018</td>\n",
              "</tr>\n",
              "<tr>\n",
              "  <th>HP</th>            <td>   31.6728</td> <td>    2.810</td> <td>   11.270</td> <td> 0.000</td> <td>   26.160</td> <td>   37.186</td>\n",
              "</tr>\n",
              "<tr>\n",
              "  <th>cc</th>            <td>   -0.1210</td> <td>    0.090</td> <td>   -1.344</td> <td> 0.179</td> <td>   -0.298</td> <td>    0.056</td>\n",
              "</tr>\n",
              "<tr>\n",
              "  <th>Gears</th>         <td>  595.8324</td> <td>  193.400</td> <td>    3.081</td> <td> 0.002</td> <td>  216.453</td> <td>  975.212</td>\n",
              "</tr>\n",
              "<tr>\n",
              "  <th>Quarterly_Tax</th> <td>    3.9531</td> <td>    1.306</td> <td>    3.027</td> <td> 0.003</td> <td>    1.391</td> <td>    6.515</td>\n",
              "</tr>\n",
              "<tr>\n",
              "  <th>Weight</th>        <td>   16.9478</td> <td>    1.033</td> <td>   16.401</td> <td> 0.000</td> <td>   14.921</td> <td>   18.975</td>\n",
              "</tr>\n",
              "</table>\n",
              "<table class=\"simpletable\">\n",
              "<tr>\n",
              "  <th>Omnibus:</th>       <td>151.495</td> <th>  Durbin-Watson:     </th> <td>   1.543</td> \n",
              "</tr>\n",
              "<tr>\n",
              "  <th>Prob(Omnibus):</th> <td> 0.000</td>  <th>  Jarque-Bera (JB):  </th> <td>1009.287</td> \n",
              "</tr>\n",
              "<tr>\n",
              "  <th>Skew:</th>          <td>-0.218</td>  <th>  Prob(JB):          </th> <td>6.86e-220</td>\n",
              "</tr>\n",
              "<tr>\n",
              "  <th>Kurtosis:</th>      <td> 7.084</td>  <th>  Cond. No.          </th> <td>3.12e+06</td> \n",
              "</tr>\n",
              "</table><br/><br/>Notes:<br/>[1] Standard Errors assume that the covariance matrix of the errors is correctly specified.<br/>[2] The condition number is large, 3.12e+06. This might indicate that there are<br/>strong multicollinearity or other numerical problems."
            ],
            "text/plain": [
              "<class 'statsmodels.iolib.summary.Summary'>\n",
              "\"\"\"\n",
              "                            OLS Regression Results                            \n",
              "==============================================================================\n",
              "Dep. Variable:                  Price   R-squared:                       0.864\n",
              "Model:                            OLS   Adj. R-squared:                  0.863\n",
              "Method:                 Least Squares   F-statistic:                     1293.\n",
              "Date:                Wed, 01 Nov 2023   Prob (F-statistic):               0.00\n",
              "Time:                        14:34:16   Log-Likelihood:                -12376.\n",
              "No. Observations:                1436   AIC:                         2.477e+04\n",
              "Df Residuals:                    1428   BIC:                         2.481e+04\n",
              "Df Model:                           7                                         \n",
              "Covariance Type:            nonrobust                                         \n",
              "=================================================================================\n",
              "                    coef    std err          t      P>|t|      [0.025      0.975]\n",
              "---------------------------------------------------------------------------------\n",
              "Intercept     -5575.1401   1409.999     -3.954      0.000   -8341.032   -2809.248\n",
              "Age_08_04      -121.6581      2.615    -46.528      0.000    -126.787    -116.529\n",
              "KM               -0.0208      0.001    -16.636      0.000      -0.023      -0.018\n",
              "HP               31.6728      2.810     11.270      0.000      26.160      37.186\n",
              "cc               -0.1210      0.090     -1.344      0.179      -0.298       0.056\n",
              "Gears           595.8324    193.400      3.081      0.002     216.453     975.212\n",
              "Quarterly_Tax     3.9531      1.306      3.027      0.003       1.391       6.515\n",
              "Weight           16.9478      1.033     16.401      0.000      14.921      18.975\n",
              "==============================================================================\n",
              "Omnibus:                      151.495   Durbin-Watson:                   1.543\n",
              "Prob(Omnibus):                  0.000   Jarque-Bera (JB):             1009.287\n",
              "Skew:                          -0.218   Prob(JB):                    6.86e-220\n",
              "Kurtosis:                       7.084   Cond. No.                     3.12e+06\n",
              "==============================================================================\n",
              "\n",
              "Notes:\n",
              "[1] Standard Errors assume that the covariance matrix of the errors is correctly specified.\n",
              "[2] The condition number is large, 3.12e+06. This might indicate that there are\n",
              "strong multicollinearity or other numerical problems.\n",
              "\"\"\""
            ]
          },
          "execution_count": 37,
          "metadata": {},
          "output_type": "execute_result"
        }
      ],
      "source": [
        "e.summary()"
      ]
    },
    {
      "cell_type": "code",
      "execution_count": null,
      "id": "19fee90e",
      "metadata": {
        "id": "19fee90e",
        "outputId": "dca6780e-fa45-49dc-cb2b-7b8b070f1009"
      },
      "outputs": [
        {
          "data": {
            "text/html": [
              "<table class=\"simpletable\">\n",
              "<caption>OLS Regression Results</caption>\n",
              "<tr>\n",
              "  <th>Dep. Variable:</th>          <td>Price</td>      <th>  R-squared:         </th> <td>   0.016</td> \n",
              "</tr>\n",
              "<tr>\n",
              "  <th>Model:</th>                   <td>OLS</td>       <th>  Adj. R-squared:    </th> <td>   0.015</td> \n",
              "</tr>\n",
              "<tr>\n",
              "  <th>Method:</th>             <td>Least Squares</td>  <th>  F-statistic:       </th> <td>   23.28</td> \n",
              "</tr>\n",
              "<tr>\n",
              "  <th>Date:</th>             <td>Wed, 01 Nov 2023</td> <th>  Prob (F-statistic):</th> <td>1.55e-06</td> \n",
              "</tr>\n",
              "<tr>\n",
              "  <th>Time:</th>                 <td>14:36:31</td>     <th>  Log-Likelihood:    </th> <td> -13795.</td> \n",
              "</tr>\n",
              "<tr>\n",
              "  <th>No. Observations:</th>      <td>  1436</td>      <th>  AIC:               </th> <td>2.759e+04</td>\n",
              "</tr>\n",
              "<tr>\n",
              "  <th>Df Residuals:</th>          <td>  1434</td>      <th>  BIC:               </th> <td>2.760e+04</td>\n",
              "</tr>\n",
              "<tr>\n",
              "  <th>Df Model:</th>              <td>     1</td>      <th>                     </th>     <td> </td>    \n",
              "</tr>\n",
              "<tr>\n",
              "  <th>Covariance Type:</th>      <td>nonrobust</td>    <th>                     </th>     <td> </td>    \n",
              "</tr>\n",
              "</table>\n",
              "<table class=\"simpletable\">\n",
              "<tr>\n",
              "      <td></td>         <th>coef</th>     <th>std err</th>      <th>t</th>      <th>P>|t|</th>  <th>[0.025</th>    <th>0.975]</th>  \n",
              "</tr>\n",
              "<tr>\n",
              "  <th>Intercept</th> <td> 9027.5548</td> <td>  365.576</td> <td>   24.694</td> <td> 0.000</td> <td> 8310.435</td> <td> 9744.675</td>\n",
              "</tr>\n",
              "<tr>\n",
              "  <th>cc</th>        <td>    1.0802</td> <td>    0.224</td> <td>    4.825</td> <td> 0.000</td> <td>    0.641</td> <td>    1.519</td>\n",
              "</tr>\n",
              "</table>\n",
              "<table class=\"simpletable\">\n",
              "<tr>\n",
              "  <th>Omnibus:</th>       <td>465.181</td> <th>  Durbin-Watson:     </th> <td>   0.267</td> \n",
              "</tr>\n",
              "<tr>\n",
              "  <th>Prob(Omnibus):</th> <td> 0.000</td>  <th>  Jarque-Bera (JB):  </th> <td>1390.401</td> \n",
              "</tr>\n",
              "<tr>\n",
              "  <th>Skew:</th>          <td> 1.649</td>  <th>  Prob(JB):          </th> <td>1.20e-302</td>\n",
              "</tr>\n",
              "<tr>\n",
              "  <th>Kurtosis:</th>      <td> 6.516</td>  <th>  Cond. No.          </th> <td>6.29e+03</td> \n",
              "</tr>\n",
              "</table><br/><br/>Notes:<br/>[1] Standard Errors assume that the covariance matrix of the errors is correctly specified.<br/>[2] The condition number is large, 6.29e+03. This might indicate that there are<br/>strong multicollinearity or other numerical problems."
            ],
            "text/plain": [
              "<class 'statsmodels.iolib.summary.Summary'>\n",
              "\"\"\"\n",
              "                            OLS Regression Results                            \n",
              "==============================================================================\n",
              "Dep. Variable:                  Price   R-squared:                       0.016\n",
              "Model:                            OLS   Adj. R-squared:                  0.015\n",
              "Method:                 Least Squares   F-statistic:                     23.28\n",
              "Date:                Wed, 01 Nov 2023   Prob (F-statistic):           1.55e-06\n",
              "Time:                        14:36:31   Log-Likelihood:                -13795.\n",
              "No. Observations:                1436   AIC:                         2.759e+04\n",
              "Df Residuals:                    1434   BIC:                         2.760e+04\n",
              "Df Model:                           1                                         \n",
              "Covariance Type:            nonrobust                                         \n",
              "==============================================================================\n",
              "                 coef    std err          t      P>|t|      [0.025      0.975]\n",
              "------------------------------------------------------------------------------\n",
              "Intercept   9027.5548    365.576     24.694      0.000    8310.435    9744.675\n",
              "cc             1.0802      0.224      4.825      0.000       0.641       1.519\n",
              "==============================================================================\n",
              "Omnibus:                      465.181   Durbin-Watson:                   0.267\n",
              "Prob(Omnibus):                  0.000   Jarque-Bera (JB):             1390.401\n",
              "Skew:                           1.649   Prob(JB):                    1.20e-302\n",
              "Kurtosis:                       6.516   Cond. No.                     6.29e+03\n",
              "==============================================================================\n",
              "\n",
              "Notes:\n",
              "[1] Standard Errors assume that the covariance matrix of the errors is correctly specified.\n",
              "[2] The condition number is large, 6.29e+03. This might indicate that there are\n",
              "strong multicollinearity or other numerical problems.\n",
              "\"\"\""
            ]
          },
          "execution_count": 39,
          "metadata": {},
          "output_type": "execute_result"
        }
      ],
      "source": [
        "m=smf.ols(\"Price~cc\",data=q).fit()\n",
        "m.summary()"
      ]
    },
    {
      "cell_type": "code",
      "execution_count": null,
      "id": "cccd4c0c",
      "metadata": {
        "id": "cccd4c0c",
        "outputId": "51d75b1b-bde5-4ae1-a730-49bd411a1eb4"
      },
      "outputs": [
        {
          "data": {
            "text/html": [
              "<table class=\"simpletable\">\n",
              "<caption>OLS Regression Results</caption>\n",
              "<tr>\n",
              "  <th>Dep. Variable:</th>          <td>Price</td>      <th>  R-squared:         </th> <td>   0.034</td> \n",
              "</tr>\n",
              "<tr>\n",
              "  <th>Model:</th>                   <td>OLS</td>       <th>  Adj. R-squared:    </th> <td>   0.034</td> \n",
              "</tr>\n",
              "<tr>\n",
              "  <th>Method:</th>             <td>Least Squares</td>  <th>  F-statistic:       </th> <td>   51.00</td> \n",
              "</tr>\n",
              "<tr>\n",
              "  <th>Date:</th>             <td>Wed, 01 Nov 2023</td> <th>  Prob (F-statistic):</th> <td>1.46e-12</td> \n",
              "</tr>\n",
              "<tr>\n",
              "  <th>Time:</th>                 <td>14:37:05</td>     <th>  Log-Likelihood:    </th> <td> -13782.</td> \n",
              "</tr>\n",
              "<tr>\n",
              "  <th>No. Observations:</th>      <td>  1436</td>      <th>  AIC:               </th> <td>2.757e+04</td>\n",
              "</tr>\n",
              "<tr>\n",
              "  <th>Df Residuals:</th>          <td>  1434</td>      <th>  BIC:               </th> <td>2.758e+04</td>\n",
              "</tr>\n",
              "<tr>\n",
              "  <th>Df Model:</th>              <td>     1</td>      <th>                     </th>     <td> </td>    \n",
              "</tr>\n",
              "<tr>\n",
              "  <th>Covariance Type:</th>      <td>nonrobust</td>    <th>                     </th>     <td> </td>    \n",
              "</tr>\n",
              "</table>\n",
              "<table class=\"simpletable\">\n",
              "<tr>\n",
              "      <td></td>         <th>coef</th>     <th>std err</th>      <th>t</th>      <th>P>|t|</th>  <th>[0.025</th>    <th>0.975]</th>  \n",
              "</tr>\n",
              "<tr>\n",
              "  <th>Intercept</th> <td> 7885.0058</td> <td>  409.438</td> <td>   19.258</td> <td> 0.000</td> <td> 7081.843</td> <td> 8688.168</td>\n",
              "</tr>\n",
              "<tr>\n",
              "  <th>Doors</th>     <td>  705.5586</td> <td>   98.795</td> <td>    7.142</td> <td> 0.000</td> <td>  511.761</td> <td>  899.356</td>\n",
              "</tr>\n",
              "</table>\n",
              "<table class=\"simpletable\">\n",
              "<tr>\n",
              "  <th>Omnibus:</th>       <td>466.779</td> <th>  Durbin-Watson:     </th> <td>   0.287</td> \n",
              "</tr>\n",
              "<tr>\n",
              "  <th>Prob(Omnibus):</th> <td> 0.000</td>  <th>  Jarque-Bera (JB):  </th> <td>1406.209</td> \n",
              "</tr>\n",
              "<tr>\n",
              "  <th>Skew:</th>          <td> 1.651</td>  <th>  Prob(JB):          </th> <td>4.42e-306</td>\n",
              "</tr>\n",
              "<tr>\n",
              "  <th>Kurtosis:</th>      <td> 6.549</td>  <th>  Cond. No.          </th> <td>    19.0</td> \n",
              "</tr>\n",
              "</table><br/><br/>Notes:<br/>[1] Standard Errors assume that the covariance matrix of the errors is correctly specified."
            ],
            "text/plain": [
              "<class 'statsmodels.iolib.summary.Summary'>\n",
              "\"\"\"\n",
              "                            OLS Regression Results                            \n",
              "==============================================================================\n",
              "Dep. Variable:                  Price   R-squared:                       0.034\n",
              "Model:                            OLS   Adj. R-squared:                  0.034\n",
              "Method:                 Least Squares   F-statistic:                     51.00\n",
              "Date:                Wed, 01 Nov 2023   Prob (F-statistic):           1.46e-12\n",
              "Time:                        14:37:05   Log-Likelihood:                -13782.\n",
              "No. Observations:                1436   AIC:                         2.757e+04\n",
              "Df Residuals:                    1434   BIC:                         2.758e+04\n",
              "Df Model:                           1                                         \n",
              "Covariance Type:            nonrobust                                         \n",
              "==============================================================================\n",
              "                 coef    std err          t      P>|t|      [0.025      0.975]\n",
              "------------------------------------------------------------------------------\n",
              "Intercept   7885.0058    409.438     19.258      0.000    7081.843    8688.168\n",
              "Doors        705.5586     98.795      7.142      0.000     511.761     899.356\n",
              "==============================================================================\n",
              "Omnibus:                      466.779   Durbin-Watson:                   0.287\n",
              "Prob(Omnibus):                  0.000   Jarque-Bera (JB):             1406.209\n",
              "Skew:                           1.651   Prob(JB):                    4.42e-306\n",
              "Kurtosis:                       6.549   Cond. No.                         19.0\n",
              "==============================================================================\n",
              "\n",
              "Notes:\n",
              "[1] Standard Errors assume that the covariance matrix of the errors is correctly specified.\n",
              "\"\"\""
            ]
          },
          "execution_count": 40,
          "metadata": {},
          "output_type": "execute_result"
        }
      ],
      "source": [
        "m1=smf.ols(\"Price~Doors\",data=q).fit()\n",
        "m1.summary()"
      ]
    },
    {
      "cell_type": "code",
      "execution_count": null,
      "id": "b9c2ccdc",
      "metadata": {
        "id": "b9c2ccdc"
      },
      "outputs": [],
      "source": [
        "m3=smf.ols(\"Price~cc+Doors\",data=q).fit()"
      ]
    },
    {
      "cell_type": "code",
      "execution_count": null,
      "id": "73a68faa",
      "metadata": {
        "id": "73a68faa",
        "outputId": "d6ade6d8-773f-4689-ea28-d494bba1ff2f"
      },
      "outputs": [
        {
          "data": {
            "text/html": [
              "<table class=\"simpletable\">\n",
              "<caption>OLS Regression Results</caption>\n",
              "<tr>\n",
              "  <th>Dep. Variable:</th>          <td>Price</td>      <th>  R-squared:         </th> <td>   0.047</td> \n",
              "</tr>\n",
              "<tr>\n",
              "  <th>Model:</th>                   <td>OLS</td>       <th>  Adj. R-squared:    </th> <td>   0.046</td> \n",
              "</tr>\n",
              "<tr>\n",
              "  <th>Method:</th>             <td>Least Squares</td>  <th>  F-statistic:       </th> <td>   35.24</td> \n",
              "</tr>\n",
              "<tr>\n",
              "  <th>Date:</th>             <td>Wed, 01 Nov 2023</td> <th>  Prob (F-statistic):</th> <td>1.15e-15</td> \n",
              "</tr>\n",
              "<tr>\n",
              "  <th>Time:</th>                 <td>14:38:23</td>     <th>  Log-Likelihood:    </th> <td> -13772.</td> \n",
              "</tr>\n",
              "<tr>\n",
              "  <th>No. Observations:</th>      <td>  1436</td>      <th>  AIC:               </th> <td>2.755e+04</td>\n",
              "</tr>\n",
              "<tr>\n",
              "  <th>Df Residuals:</th>          <td>  1433</td>      <th>  BIC:               </th> <td>2.757e+04</td>\n",
              "</tr>\n",
              "<tr>\n",
              "  <th>Df Model:</th>              <td>     2</td>      <th>                     </th>     <td> </td>    \n",
              "</tr>\n",
              "<tr>\n",
              "  <th>Covariance Type:</th>      <td>nonrobust</td>    <th>                     </th>     <td> </td>    \n",
              "</tr>\n",
              "</table>\n",
              "<table class=\"simpletable\">\n",
              "<tr>\n",
              "      <td></td>         <th>coef</th>     <th>std err</th>      <th>t</th>      <th>P>|t|</th>  <th>[0.025</th>    <th>0.975]</th>  \n",
              "</tr>\n",
              "<tr>\n",
              "  <th>Intercept</th> <td> 6509.4211</td> <td>  515.773</td> <td>   12.621</td> <td> 0.000</td> <td> 5497.670</td> <td> 7521.173</td>\n",
              "</tr>\n",
              "<tr>\n",
              "  <th>cc</th>        <td>    0.9597</td> <td>    0.221</td> <td>    4.340</td> <td> 0.000</td> <td>    0.526</td> <td>    1.393</td>\n",
              "</tr>\n",
              "<tr>\n",
              "  <th>Doors</th>     <td>  671.3973</td> <td>   98.501</td> <td>    6.816</td> <td> 0.000</td> <td>  478.176</td> <td>  864.619</td>\n",
              "</tr>\n",
              "</table>\n",
              "<table class=\"simpletable\">\n",
              "<tr>\n",
              "  <th>Omnibus:</th>       <td>448.845</td> <th>  Durbin-Watson:     </th> <td>   0.290</td> \n",
              "</tr>\n",
              "<tr>\n",
              "  <th>Prob(Omnibus):</th> <td> 0.000</td>  <th>  Jarque-Bera (JB):  </th> <td>1294.854</td> \n",
              "</tr>\n",
              "<tr>\n",
              "  <th>Skew:</th>          <td> 1.603</td>  <th>  Prob(JB):          </th> <td>6.70e-282</td>\n",
              "</tr>\n",
              "<tr>\n",
              "  <th>Kurtosis:</th>      <td> 6.370</td>  <th>  Cond. No.          </th> <td>9.09e+03</td> \n",
              "</tr>\n",
              "</table><br/><br/>Notes:<br/>[1] Standard Errors assume that the covariance matrix of the errors is correctly specified.<br/>[2] The condition number is large, 9.09e+03. This might indicate that there are<br/>strong multicollinearity or other numerical problems."
            ],
            "text/plain": [
              "<class 'statsmodels.iolib.summary.Summary'>\n",
              "\"\"\"\n",
              "                            OLS Regression Results                            \n",
              "==============================================================================\n",
              "Dep. Variable:                  Price   R-squared:                       0.047\n",
              "Model:                            OLS   Adj. R-squared:                  0.046\n",
              "Method:                 Least Squares   F-statistic:                     35.24\n",
              "Date:                Wed, 01 Nov 2023   Prob (F-statistic):           1.15e-15\n",
              "Time:                        14:38:23   Log-Likelihood:                -13772.\n",
              "No. Observations:                1436   AIC:                         2.755e+04\n",
              "Df Residuals:                    1433   BIC:                         2.757e+04\n",
              "Df Model:                           2                                         \n",
              "Covariance Type:            nonrobust                                         \n",
              "==============================================================================\n",
              "                 coef    std err          t      P>|t|      [0.025      0.975]\n",
              "------------------------------------------------------------------------------\n",
              "Intercept   6509.4211    515.773     12.621      0.000    5497.670    7521.173\n",
              "cc             0.9597      0.221      4.340      0.000       0.526       1.393\n",
              "Doors        671.3973     98.501      6.816      0.000     478.176     864.619\n",
              "==============================================================================\n",
              "Omnibus:                      448.845   Durbin-Watson:                   0.290\n",
              "Prob(Omnibus):                  0.000   Jarque-Bera (JB):             1294.854\n",
              "Skew:                           1.603   Prob(JB):                    6.70e-282\n",
              "Kurtosis:                       6.370   Cond. No.                     9.09e+03\n",
              "==============================================================================\n",
              "\n",
              "Notes:\n",
              "[1] Standard Errors assume that the covariance matrix of the errors is correctly specified.\n",
              "[2] The condition number is large, 9.09e+03. This might indicate that there are\n",
              "strong multicollinearity or other numerical problems.\n",
              "\"\"\""
            ]
          },
          "execution_count": 42,
          "metadata": {},
          "output_type": "execute_result"
        }
      ],
      "source": [
        "m3.summary()"
      ]
    },
    {
      "cell_type": "code",
      "execution_count": null,
      "id": "795525a2",
      "metadata": {
        "id": "795525a2"
      },
      "outputs": [],
      "source": [
        "w2=smf.ols(\"cc~Age_08_04+KM+HP+Doors+Gears+Quarterly_Tax+Weight\",data=q).fit()"
      ]
    },
    {
      "cell_type": "code",
      "execution_count": null,
      "id": "92f2f2a1",
      "metadata": {
        "id": "92f2f2a1",
        "outputId": "a7de390e-f082-4805-b57f-976da8b595fc"
      },
      "outputs": [
        {
          "data": {
            "text/html": [
              "<table class=\"simpletable\">\n",
              "<caption>OLS Regression Results</caption>\n",
              "<tr>\n",
              "  <th>Dep. Variable:</th>           <td>cc</td>        <th>  R-squared:         </th> <td>   0.141</td> \n",
              "</tr>\n",
              "<tr>\n",
              "  <th>Model:</th>                   <td>OLS</td>       <th>  Adj. R-squared:    </th> <td>   0.137</td> \n",
              "</tr>\n",
              "<tr>\n",
              "  <th>Method:</th>             <td>Least Squares</td>  <th>  F-statistic:       </th> <td>   33.43</td> \n",
              "</tr>\n",
              "<tr>\n",
              "  <th>Date:</th>             <td>Wed, 01 Nov 2023</td> <th>  Prob (F-statistic):</th> <td>2.72e-43</td> \n",
              "</tr>\n",
              "<tr>\n",
              "  <th>Time:</th>                 <td>14:20:50</td>     <th>  Log-Likelihood:    </th> <td> -10617.</td> \n",
              "</tr>\n",
              "<tr>\n",
              "  <th>No. Observations:</th>      <td>  1436</td>      <th>  AIC:               </th> <td>2.125e+04</td>\n",
              "</tr>\n",
              "<tr>\n",
              "  <th>Df Residuals:</th>          <td>  1428</td>      <th>  BIC:               </th> <td>2.129e+04</td>\n",
              "</tr>\n",
              "<tr>\n",
              "  <th>Df Model:</th>              <td>     7</td>      <th>                     </th>     <td> </td>    \n",
              "</tr>\n",
              "<tr>\n",
              "  <th>Covariance Type:</th>      <td>nonrobust</td>    <th>                     </th>     <td> </td>    \n",
              "</tr>\n",
              "</table>\n",
              "<table class=\"simpletable\">\n",
              "<tr>\n",
              "        <td></td>           <th>coef</th>     <th>std err</th>      <th>t</th>      <th>P>|t|</th>  <th>[0.025</th>    <th>0.975]</th>  \n",
              "</tr>\n",
              "<tr>\n",
              "  <th>Intercept</th>     <td> -789.4237</td> <td>  414.054</td> <td>   -1.907</td> <td> 0.057</td> <td>-1601.642</td> <td>   22.795</td>\n",
              "</tr>\n",
              "<tr>\n",
              "  <th>Age_08_04</th>     <td>    0.3437</td> <td>    0.768</td> <td>    0.447</td> <td> 0.655</td> <td>   -1.163</td> <td>    1.851</td>\n",
              "</tr>\n",
              "<tr>\n",
              "  <th>KM</th>            <td>    0.0010</td> <td>    0.000</td> <td>    2.709</td> <td> 0.007</td> <td>    0.000</td> <td>    0.002</td>\n",
              "</tr>\n",
              "<tr>\n",
              "  <th>HP</th>            <td>    2.8929</td> <td>    0.824</td> <td>    3.509</td> <td> 0.000</td> <td>    1.276</td> <td>    4.510</td>\n",
              "</tr>\n",
              "<tr>\n",
              "  <th>Doors</th>         <td>   -7.1195</td> <td>   11.750</td> <td>   -0.606</td> <td> 0.545</td> <td>  -30.168</td> <td>   15.929</td>\n",
              "</tr>\n",
              "<tr>\n",
              "  <th>Gears</th>         <td>  -32.5369</td> <td>   57.876</td> <td>   -0.562</td> <td> 0.574</td> <td> -146.069</td> <td>   80.995</td>\n",
              "</tr>\n",
              "<tr>\n",
              "  <th>Quarterly_Tax</th> <td>    1.7659</td> <td>    0.382</td> <td>    4.623</td> <td> 0.000</td> <td>    1.017</td> <td>    2.515</td>\n",
              "</tr>\n",
              "<tr>\n",
              "  <th>Weight</th>        <td>    1.8870</td> <td>    0.310</td> <td>    6.093</td> <td> 0.000</td> <td>    1.279</td> <td>    2.494</td>\n",
              "</tr>\n",
              "</table>\n",
              "<table class=\"simpletable\">\n",
              "<tr>\n",
              "  <th>Omnibus:</th>       <td>3960.159</td> <th>  Durbin-Watson:     </th>   <td>   1.994</td>  \n",
              "</tr>\n",
              "<tr>\n",
              "  <th>Prob(Omnibus):</th>  <td> 0.000</td>  <th>  Jarque-Bera (JB):  </th> <td>85538734.825</td>\n",
              "</tr>\n",
              "<tr>\n",
              "  <th>Skew:</th>           <td>33.016</td>  <th>  Prob(JB):          </th>   <td>    0.00</td>  \n",
              "</tr>\n",
              "<tr>\n",
              "  <th>Kurtosis:</th>      <td>1196.841</td> <th>  Cond. No.          </th>   <td>3.12e+06</td>  \n",
              "</tr>\n",
              "</table><br/><br/>Notes:<br/>[1] Standard Errors assume that the covariance matrix of the errors is correctly specified.<br/>[2] The condition number is large, 3.12e+06. This might indicate that there are<br/>strong multicollinearity or other numerical problems."
            ],
            "text/plain": [
              "<class 'statsmodels.iolib.summary.Summary'>\n",
              "\"\"\"\n",
              "                            OLS Regression Results                            \n",
              "==============================================================================\n",
              "Dep. Variable:                     cc   R-squared:                       0.141\n",
              "Model:                            OLS   Adj. R-squared:                  0.137\n",
              "Method:                 Least Squares   F-statistic:                     33.43\n",
              "Date:                Wed, 01 Nov 2023   Prob (F-statistic):           2.72e-43\n",
              "Time:                        14:20:50   Log-Likelihood:                -10617.\n",
              "No. Observations:                1436   AIC:                         2.125e+04\n",
              "Df Residuals:                    1428   BIC:                         2.129e+04\n",
              "Df Model:                           7                                         \n",
              "Covariance Type:            nonrobust                                         \n",
              "=================================================================================\n",
              "                    coef    std err          t      P>|t|      [0.025      0.975]\n",
              "---------------------------------------------------------------------------------\n",
              "Intercept      -789.4237    414.054     -1.907      0.057   -1601.642      22.795\n",
              "Age_08_04         0.3437      0.768      0.447      0.655      -1.163       1.851\n",
              "KM                0.0010      0.000      2.709      0.007       0.000       0.002\n",
              "HP                2.8929      0.824      3.509      0.000       1.276       4.510\n",
              "Doors            -7.1195     11.750     -0.606      0.545     -30.168      15.929\n",
              "Gears           -32.5369     57.876     -0.562      0.574    -146.069      80.995\n",
              "Quarterly_Tax     1.7659      0.382      4.623      0.000       1.017       2.515\n",
              "Weight            1.8870      0.310      6.093      0.000       1.279       2.494\n",
              "==============================================================================\n",
              "Omnibus:                     3960.159   Durbin-Watson:                   1.994\n",
              "Prob(Omnibus):                  0.000   Jarque-Bera (JB):         85538734.825\n",
              "Skew:                          33.016   Prob(JB):                         0.00\n",
              "Kurtosis:                    1196.841   Cond. No.                     3.12e+06\n",
              "==============================================================================\n",
              "\n",
              "Notes:\n",
              "[1] Standard Errors assume that the covariance matrix of the errors is correctly specified.\n",
              "[2] The condition number is large, 3.12e+06. This might indicate that there are\n",
              "strong multicollinearity or other numerical problems.\n",
              "\"\"\""
            ]
          },
          "execution_count": 20,
          "metadata": {},
          "output_type": "execute_result"
        }
      ],
      "source": [
        "w2.summary()"
      ]
    },
    {
      "cell_type": "code",
      "execution_count": null,
      "id": "af11d4cd",
      "metadata": {
        "id": "af11d4cd"
      },
      "outputs": [],
      "source": [
        "vif=w2.rsquared\n",
        "c_b=1/(1-vif)"
      ]
    },
    {
      "cell_type": "code",
      "execution_count": null,
      "id": "50303c85",
      "metadata": {
        "id": "50303c85",
        "outputId": "815920df-6b28-4e7f-879e-852078a2dc60"
      },
      "outputs": [
        {
          "data": {
            "text/plain": [
              "1.1638939849423804"
            ]
          },
          "execution_count": 23,
          "metadata": {},
          "output_type": "execute_result"
        }
      ],
      "source": [
        "c_b"
      ]
    },
    {
      "cell_type": "code",
      "execution_count": null,
      "id": "5f09dd44",
      "metadata": {
        "id": "5f09dd44"
      },
      "outputs": [],
      "source": [
        "w3=smf.ols(\"Doors~cc+Age_08_04+KM+HP+Gears+Quarterly_Tax+Weight\",data=q).fit()"
      ]
    },
    {
      "cell_type": "code",
      "execution_count": null,
      "id": "0115520d",
      "metadata": {
        "id": "0115520d",
        "outputId": "569fccbe-fee3-467a-c8b7-f178658126c4"
      },
      "outputs": [
        {
          "data": {
            "text/html": [
              "<table class=\"simpletable\">\n",
              "<caption>OLS Regression Results</caption>\n",
              "<tr>\n",
              "  <th>Dep. Variable:</th>          <td>Doors</td>      <th>  R-squared:         </th> <td>   0.135</td>\n",
              "</tr>\n",
              "<tr>\n",
              "  <th>Model:</th>                   <td>OLS</td>       <th>  Adj. R-squared:    </th> <td>   0.131</td>\n",
              "</tr>\n",
              "<tr>\n",
              "  <th>Method:</th>             <td>Least Squares</td>  <th>  F-statistic:       </th> <td>   31.94</td>\n",
              "</tr>\n",
              "<tr>\n",
              "  <th>Date:</th>             <td>Wed, 01 Nov 2023</td> <th>  Prob (F-statistic):</th> <td>2.23e-41</td>\n",
              "</tr>\n",
              "<tr>\n",
              "  <th>Time:</th>                 <td>14:25:50</td>     <th>  Log-Likelihood:    </th> <td> -1863.0</td>\n",
              "</tr>\n",
              "<tr>\n",
              "  <th>No. Observations:</th>      <td>  1436</td>      <th>  AIC:               </th> <td>   3742.</td>\n",
              "</tr>\n",
              "<tr>\n",
              "  <th>Df Residuals:</th>          <td>  1428</td>      <th>  BIC:               </th> <td>   3784.</td>\n",
              "</tr>\n",
              "<tr>\n",
              "  <th>Df Model:</th>              <td>     7</td>      <th>                     </th>     <td> </td>   \n",
              "</tr>\n",
              "<tr>\n",
              "  <th>Covariance Type:</th>      <td>nonrobust</td>    <th>                     </th>     <td> </td>   \n",
              "</tr>\n",
              "</table>\n",
              "<table class=\"simpletable\">\n",
              "<tr>\n",
              "        <td></td>           <th>coef</th>     <th>std err</th>      <th>t</th>      <th>P>|t|</th>  <th>[0.025</th>    <th>0.975]</th>  \n",
              "</tr>\n",
              "<tr>\n",
              "  <th>Intercept</th>     <td>    1.2580</td> <td>    0.933</td> <td>    1.348</td> <td> 0.178</td> <td>   -0.572</td> <td>    3.088</td>\n",
              "</tr>\n",
              "<tr>\n",
              "  <th>cc</th>            <td> -3.61e-05</td> <td> 5.96e-05</td> <td>   -0.606</td> <td> 0.545</td> <td>   -0.000</td> <td> 8.08e-05</td>\n",
              "</tr>\n",
              "<tr>\n",
              "  <th>Age_08_04</th>     <td>   -0.0002</td> <td>    0.002</td> <td>   -0.118</td> <td> 0.906</td> <td>   -0.004</td> <td>    0.003</td>\n",
              "</tr>\n",
              "<tr>\n",
              "  <th>KM</th>            <td> 9.288e-07</td> <td> 8.28e-07</td> <td>    1.122</td> <td> 0.262</td> <td>-6.96e-07</td> <td> 2.55e-06</td>\n",
              "</tr>\n",
              "<tr>\n",
              "  <th>HP</th>            <td>    0.0050</td> <td>    0.002</td> <td>    2.683</td> <td> 0.007</td> <td>    0.001</td> <td>    0.009</td>\n",
              "</tr>\n",
              "<tr>\n",
              "  <th>Gears</th>         <td>   -0.9356</td> <td>    0.128</td> <td>   -7.311</td> <td> 0.000</td> <td>   -1.187</td> <td>   -0.685</td>\n",
              "</tr>\n",
              "<tr>\n",
              "  <th>Quarterly_Tax</th> <td>   -0.0025</td> <td>    0.001</td> <td>   -2.848</td> <td> 0.004</td> <td>   -0.004</td> <td>   -0.001</td>\n",
              "</tr>\n",
              "<tr>\n",
              "  <th>Weight</th>        <td>    0.0067</td> <td>    0.001</td> <td>    9.806</td> <td> 0.000</td> <td>    0.005</td> <td>    0.008</td>\n",
              "</tr>\n",
              "</table>\n",
              "<table class=\"simpletable\">\n",
              "<tr>\n",
              "  <th>Omnibus:</th>       <td>1455.925</td> <th>  Durbin-Watson:     </th> <td>   1.743</td>\n",
              "</tr>\n",
              "<tr>\n",
              "  <th>Prob(Omnibus):</th>  <td> 0.000</td>  <th>  Jarque-Bera (JB):  </th> <td> 105.391</td>\n",
              "</tr>\n",
              "<tr>\n",
              "  <th>Skew:</th>           <td>-0.251</td>  <th>  Prob(JB):          </th> <td>1.30e-23</td>\n",
              "</tr>\n",
              "<tr>\n",
              "  <th>Kurtosis:</th>       <td> 1.771</td>  <th>  Cond. No.          </th> <td>3.12e+06</td>\n",
              "</tr>\n",
              "</table><br/><br/>Notes:<br/>[1] Standard Errors assume that the covariance matrix of the errors is correctly specified.<br/>[2] The condition number is large, 3.12e+06. This might indicate that there are<br/>strong multicollinearity or other numerical problems."
            ],
            "text/plain": [
              "<class 'statsmodels.iolib.summary.Summary'>\n",
              "\"\"\"\n",
              "                            OLS Regression Results                            \n",
              "==============================================================================\n",
              "Dep. Variable:                  Doors   R-squared:                       0.135\n",
              "Model:                            OLS   Adj. R-squared:                  0.131\n",
              "Method:                 Least Squares   F-statistic:                     31.94\n",
              "Date:                Wed, 01 Nov 2023   Prob (F-statistic):           2.23e-41\n",
              "Time:                        14:25:50   Log-Likelihood:                -1863.0\n",
              "No. Observations:                1436   AIC:                             3742.\n",
              "Df Residuals:                    1428   BIC:                             3784.\n",
              "Df Model:                           7                                         \n",
              "Covariance Type:            nonrobust                                         \n",
              "=================================================================================\n",
              "                    coef    std err          t      P>|t|      [0.025      0.975]\n",
              "---------------------------------------------------------------------------------\n",
              "Intercept         1.2580      0.933      1.348      0.178      -0.572       3.088\n",
              "cc             -3.61e-05   5.96e-05     -0.606      0.545      -0.000    8.08e-05\n",
              "Age_08_04        -0.0002      0.002     -0.118      0.906      -0.004       0.003\n",
              "KM             9.288e-07   8.28e-07      1.122      0.262   -6.96e-07    2.55e-06\n",
              "HP                0.0050      0.002      2.683      0.007       0.001       0.009\n",
              "Gears            -0.9356      0.128     -7.311      0.000      -1.187      -0.685\n",
              "Quarterly_Tax    -0.0025      0.001     -2.848      0.004      -0.004      -0.001\n",
              "Weight            0.0067      0.001      9.806      0.000       0.005       0.008\n",
              "==============================================================================\n",
              "Omnibus:                     1455.925   Durbin-Watson:                   1.743\n",
              "Prob(Omnibus):                  0.000   Jarque-Bera (JB):              105.391\n",
              "Skew:                          -0.251   Prob(JB):                     1.30e-23\n",
              "Kurtosis:                       1.771   Cond. No.                     3.12e+06\n",
              "==============================================================================\n",
              "\n",
              "Notes:\n",
              "[1] Standard Errors assume that the covariance matrix of the errors is correctly specified.\n",
              "[2] The condition number is large, 3.12e+06. This might indicate that there are\n",
              "strong multicollinearity or other numerical problems.\n",
              "\"\"\""
            ]
          },
          "execution_count": 25,
          "metadata": {},
          "output_type": "execute_result"
        }
      ],
      "source": [
        "w3.summary()"
      ]
    },
    {
      "cell_type": "code",
      "execution_count": null,
      "id": "5efd1248",
      "metadata": {
        "id": "5efd1248"
      },
      "outputs": [],
      "source": [
        "vif1=w3.rsquared\n",
        "d_b=1/(1-vif1)"
      ]
    },
    {
      "cell_type": "code",
      "execution_count": null,
      "id": "409b54e5",
      "metadata": {
        "id": "409b54e5",
        "outputId": "beba4db1-b403-4f52-e09d-82325755fb92"
      },
      "outputs": [
        {
          "data": {
            "text/plain": [
              "1.156575207076043"
            ]
          },
          "execution_count": 28,
          "metadata": {},
          "output_type": "execute_result"
        }
      ],
      "source": [
        "d_b"
      ]
    },
    {
      "cell_type": "code",
      "execution_count": null,
      "id": "05b9f5b8",
      "metadata": {
        "id": "05b9f5b8",
        "outputId": "a5a4193d-65f0-412f-c59c-935c61f8f179"
      },
      "outputs": [
        {
          "name": "stdout",
          "output_type": "stream",
          "text": [
            "21249.700687392546\n",
            "0.1408152177627192\n"
          ]
        }
      ],
      "source": [
        "print(w2.aic)\n",
        "print(w2.rsquared)"
      ]
    },
    {
      "cell_type": "code",
      "execution_count": null,
      "id": "4afa5c7e",
      "metadata": {
        "id": "4afa5c7e",
        "outputId": "b40d348a-9bde-4f5c-99c5-702282c1857f"
      },
      "outputs": [
        {
          "name": "stdout",
          "output_type": "stream",
          "text": [
            "3742.071999131689\n",
            "0.13537831877953144\n"
          ]
        }
      ],
      "source": [
        "print(w3.aic)\n",
        "print(w3.rsquared)"
      ]
    },
    {
      "cell_type": "code",
      "execution_count": null,
      "id": "eb6e86e2",
      "metadata": {
        "id": "eb6e86e2"
      },
      "outputs": [],
      "source": [
        "import statsmodels.api as sm"
      ]
    },
    {
      "cell_type": "code",
      "execution_count": null,
      "id": "0432e1be",
      "metadata": {
        "id": "0432e1be",
        "outputId": "aa1b63e9-9d6a-471a-e33e-291e8989004a"
      },
      "outputs": [
        {
          "data": {
            "image/png": "[encoded data removed]",
            "text/plain": [
              "<Figure size 432x288 with 1 Axes>"
            ]
          },
          "metadata": {
            "needs_background": "light"
          },
          "output_type": "display_data"
        }
      ],
      "source": [
        "qqplot=sm.qqplot(w2.resid,line=\"q\")"
      ]
    },
    {
      "cell_type": "code",
      "execution_count": null,
      "id": "2c478c3c",
      "metadata": {
        "id": "2c478c3c"
      },
      "outputs": [],
      "source": [
        "def standardized(v):\n",
        "  eqn = (v-v.mean())/v.std()\n",
        "  return eqn"
      ]
    },
    {
      "cell_type": "code",
      "execution_count": null,
      "id": "fe56b825",
      "metadata": {
        "id": "fe56b825",
        "outputId": "842ebc50-ee07-4d80-f3ca-65de8d178389"
      },
      "outputs": [
        {
          "data": {
            "image/png": "[encoded data removed]",
            "text/plain": [
              "<Figure size 432x288 with 1 Axes>"
            ]
          },
          "metadata": {
            "needs_background": "light"
          },
          "output_type": "display_data"
        }
      ],
      "source": [
        "sns.scatterplot(x=standardized(w2.fittedvalues),y=standardized(w2.resid))\n",
        "plt.xlabel=(\"standardized fitted values\")\n",
        "plt.ylabel=(\"standardized fitted values\")"
      ]
    },
    {
      "cell_type": "code",
      "execution_count": null,
      "id": "9c57e757",
      "metadata": {
        "id": "9c57e757",
        "outputId": "0716ad8a-d259-4167-d8b6-ec4b51676f04"
      },
      "outputs": [
        {
          "name": "stdout",
          "output_type": "stream",
          "text": [
            "eval_env: 1\n"
          ]
        },
        {
          "data": {
            "image/png": "[encoded data removed]",
            "text/plain": [
              "<Figure size 1080x720 with 4 Axes>"
            ]
          },
          "metadata": {
            "needs_background": "light"
          },
          "output_type": "display_data"
        }
      ],
      "source": [
        "fig=plt.figure(figsize=(15,10))\n",
        "fig = sm.graphics.plot_regress_exog(w1,\"cc\",fig=fig)\n",
        "plt.show()\n"
      ]
    },
    {
      "cell_type": "code",
      "execution_count": null,
      "id": "b03e2891",
      "metadata": {
        "id": "b03e2891",
        "outputId": "4e5bdafe-7de1-4e7c-8310-2e566513286f"
      },
      "outputs": [
        {
          "data": {
            "image/png": "[encoded data removed]",
            "text/plain": [
              "<Figure size 432x288 with 1 Axes>"
            ]
          },
          "metadata": {
            "needs_background": "light"
          },
          "output_type": "display_data"
        }
      ],
      "source": [
        "influence_plot(w1)\n",
        "plt.show()"
      ]
    },
    {
      "cell_type": "code",
      "execution_count": null,
      "id": "cf8b4775",
      "metadata": {
        "id": "cf8b4775",
        "outputId": "b138f7c2-f826-4c74-e42c-ed3b99122315"
      },
      "outputs": [
        {
          "data": {
            "text/plain": [
              "(1436, 9)"
            ]
          },
          "execution_count": 54,
          "metadata": {},
          "output_type": "execute_result"
        }
      ],
      "source": [
        "q.shape"
      ]
    },
    {
      "cell_type": "code",
      "execution_count": null,
      "id": "462b26c4",
      "metadata": {
        "id": "462b26c4"
      },
      "outputs": [],
      "source": [
        "k = q.shape[1] #no. features\n",
        "n = q.shape[0] #no. rows/observations\n",
        "\n",
        "leverage_cutoff =3*((k+1)/n)"
      ]
    },
    {
      "cell_type": "code",
      "execution_count": null,
      "id": "9886f9e6",
      "metadata": {
        "id": "9886f9e6",
        "outputId": "cb58f315-b911-444b-a728-d3018d4acb3a"
      },
      "outputs": [
        {
          "data": {
            "text/plain": [
              "0.020891364902506964"
            ]
          },
          "execution_count": 59,
          "metadata": {},
          "output_type": "execute_result"
        }
      ],
      "source": [
        "leverage_cutoff"
      ]
    },
    {
      "cell_type": "code",
      "execution_count": null,
      "id": "794cd7ba",
      "metadata": {
        "id": "794cd7ba"
      },
      "outputs": [],
      "source": [
        "q1=pd.read_csv(\"ToyotaCorolla (1).csv\",encoding=\"latin1\")"
      ]
    },
    {
      "cell_type": "code",
      "execution_count": null,
      "id": "ee963d3f",
      "metadata": {
        "id": "ee963d3f",
        "outputId": "0fd1e9de-6225-4ac7-e327-d0dec6125ab1"
      },
      "outputs": [
        {
          "data": {
            "text/html": [
              "<div>\n",
              "<style scoped>\n",
              "    .dataframe tbody tr th:only-of-type {\n",
              "        vertical-align: middle;\n",
              "    }\n",
              "\n",
              "    .dataframe tbody tr th {\n",
              "        vertical-align: top;\n",
              "    }\n",
              "\n",
              "    .dataframe thead th {\n",
              "        text-align: right;\n",
              "    }\n",
              "</style>\n",
              "<table border=\"1\" class=\"dataframe\">\n",
              "  <thead>\n",
              "    <tr style=\"text-align: right;\">\n",
              "      <th></th>\n",
              "      <th>Price</th>\n",
              "      <th>Age_08_04</th>\n",
              "      <th>KM</th>\n",
              "      <th>HP</th>\n",
              "      <th>cc</th>\n",
              "      <th>Doors</th>\n",
              "      <th>Gears</th>\n",
              "      <th>Quarterly_Tax</th>\n",
              "      <th>Weight</th>\n",
              "    </tr>\n",
              "  </thead>\n",
              "  <tbody>\n",
              "    <tr>\n",
              "      <th>0</th>\n",
              "      <td>13500</td>\n",
              "      <td>23</td>\n",
              "      <td>46986</td>\n",
              "      <td>90</td>\n",
              "      <td>2000</td>\n",
              "      <td>3</td>\n",
              "      <td>5</td>\n",
              "      <td>210</td>\n",
              "      <td>1165</td>\n",
              "    </tr>\n",
              "    <tr>\n",
              "      <th>1</th>\n",
              "      <td>13750</td>\n",
              "      <td>23</td>\n",
              "      <td>72937</td>\n",
              "      <td>90</td>\n",
              "      <td>2000</td>\n",
              "      <td>3</td>\n",
              "      <td>5</td>\n",
              "      <td>210</td>\n",
              "      <td>1165</td>\n",
              "    </tr>\n",
              "    <tr>\n",
              "      <th>2</th>\n",
              "      <td>13950</td>\n",
              "      <td>24</td>\n",
              "      <td>41711</td>\n",
              "      <td>90</td>\n",
              "      <td>2000</td>\n",
              "      <td>3</td>\n",
              "      <td>5</td>\n",
              "      <td>210</td>\n",
              "      <td>1165</td>\n",
              "    </tr>\n",
              "    <tr>\n",
              "      <th>3</th>\n",
              "      <td>14950</td>\n",
              "      <td>26</td>\n",
              "      <td>48000</td>\n",
              "      <td>90</td>\n",
              "      <td>2000</td>\n",
              "      <td>3</td>\n",
              "      <td>5</td>\n",
              "      <td>210</td>\n",
              "      <td>1165</td>\n",
              "    </tr>\n",
              "    <tr>\n",
              "      <th>4</th>\n",
              "      <td>13750</td>\n",
              "      <td>30</td>\n",
              "      <td>38500</td>\n",
              "      <td>90</td>\n",
              "      <td>2000</td>\n",
              "      <td>3</td>\n",
              "      <td>5</td>\n",
              "      <td>210</td>\n",
              "      <td>1170</td>\n",
              "    </tr>\n",
              "    <tr>\n",
              "      <th>...</th>\n",
              "      <td>...</td>\n",
              "      <td>...</td>\n",
              "      <td>...</td>\n",
              "      <td>...</td>\n",
              "      <td>...</td>\n",
              "      <td>...</td>\n",
              "      <td>...</td>\n",
              "      <td>...</td>\n",
              "      <td>...</td>\n",
              "    </tr>\n",
              "    <tr>\n",
              "      <th>1431</th>\n",
              "      <td>7500</td>\n",
              "      <td>69</td>\n",
              "      <td>20544</td>\n",
              "      <td>86</td>\n",
              "      <td>1300</td>\n",
              "      <td>3</td>\n",
              "      <td>5</td>\n",
              "      <td>69</td>\n",
              "      <td>1025</td>\n",
              "    </tr>\n",
              "    <tr>\n",
              "      <th>1432</th>\n",
              "      <td>10845</td>\n",
              "      <td>72</td>\n",
              "      <td>19000</td>\n",
              "      <td>86</td>\n",
              "      <td>1300</td>\n",
              "      <td>3</td>\n",
              "      <td>5</td>\n",
              "      <td>69</td>\n",
              "      <td>1015</td>\n",
              "    </tr>\n",
              "    <tr>\n",
              "      <th>1433</th>\n",
              "      <td>8500</td>\n",
              "      <td>71</td>\n",
              "      <td>17016</td>\n",
              "      <td>86</td>\n",
              "      <td>1300</td>\n",
              "      <td>3</td>\n",
              "      <td>5</td>\n",
              "      <td>69</td>\n",
              "      <td>1015</td>\n",
              "    </tr>\n",
              "    <tr>\n",
              "      <th>1434</th>\n",
              "      <td>7250</td>\n",
              "      <td>70</td>\n",
              "      <td>16916</td>\n",
              "      <td>86</td>\n",
              "      <td>1300</td>\n",
              "      <td>3</td>\n",
              "      <td>5</td>\n",
              "      <td>69</td>\n",
              "      <td>1015</td>\n",
              "    </tr>\n",
              "    <tr>\n",
              "      <th>1435</th>\n",
              "      <td>6950</td>\n",
              "      <td>76</td>\n",
              "      <td>1</td>\n",
              "      <td>110</td>\n",
              "      <td>1600</td>\n",
              "      <td>5</td>\n",
              "      <td>5</td>\n",
              "      <td>19</td>\n",
              "      <td>1114</td>\n",
              "    </tr>\n",
              "  </tbody>\n",
              "</table>\n",
              "<p>1436 rows × 9 columns</p>\n",
              "</div>"
            ],
            "text/plain": [
              "      Price  Age_08_04     KM   HP    cc  Doors  Gears  Quarterly_Tax  Weight\n",
              "0     13500         23  46986   90  2000      3      5            210    1165\n",
              "1     13750         23  72937   90  2000      3      5            210    1165\n",
              "2     13950         24  41711   90  2000      3      5            210    1165\n",
              "3     14950         26  48000   90  2000      3      5            210    1165\n",
              "4     13750         30  38500   90  2000      3      5            210    1170\n",
              "...     ...        ...    ...  ...   ...    ...    ...            ...     ...\n",
              "1431   7500         69  20544   86  1300      3      5             69    1025\n",
              "1432  10845         72  19000   86  1300      3      5             69    1015\n",
              "1433   8500         71  17016   86  1300      3      5             69    1015\n",
              "1434   7250         70  16916   86  1300      3      5             69    1015\n",
              "1435   6950         76      1  110  1600      5      5             19    1114\n",
              "\n",
              "[1436 rows x 9 columns]"
            ]
          },
          "execution_count": 61,
          "metadata": {},
          "output_type": "execute_result"
        }
      ],
      "source": [
        "q1[[\"Price\",\"Age_08_04\",\"KM\",\"HP\",\"cc\",\"Doors\",\"Gears\",\"Quarterly_Tax\",\"Weight\"]]"
      ]
    },
    {
      "cell_type": "code",
      "execution_count": null,
      "id": "d46430fa",
      "metadata": {
        "id": "d46430fa",
        "outputId": "34867e01-3bc4-4487-9391-b8a46d0d06dc"
      },
      "outputs": [
        {
          "data": {
            "text/plain": [
              "array([7.23682667e-03, 3.96793393e-03, 5.46476784e-03, ...,\n",
              "       8.44762355e-07, 6.97878368e-04, 1.08627724e-02])"
            ]
          },
          "execution_count": 63,
          "metadata": {},
          "output_type": "execute_result"
        }
      ],
      "source": [
        "model_influence=w1.get_influence()\n",
        "(c,_)=model_influence.cooks_distance\n",
        "c"
      ]
    },
    {
      "cell_type": "code",
      "execution_count": null,
      "id": "b734b2be",
      "metadata": {
        "id": "b734b2be",
        "outputId": "c8981c96-0e2c-4627-da0d-4cf2dd8743db"
      },
      "outputs": [
        {
          "data": {
            "image/png": "[encoded data removed]",
            "text/plain": [
              "<Figure size 720x432 with 1 Axes>"
            ]
          },
          "metadata": {
            "needs_background": "light"
          },
          "output_type": "display_data"
        }
      ],
      "source": [
        "fig=plt.subplots(figsize=(10,6))\n",
        "plt.stem(np.arange(len(q1)),np.round(c,5))\n",
        "\n",
        "plt.show()"
      ]
    },
    {
      "cell_type": "code",
      "execution_count": null,
      "id": "ea535df6",
      "metadata": {
        "id": "ea535df6",
        "outputId": "fbe084be-dcb5-4701-a891-968d49211fc6"
      },
      "outputs": [
        {
          "data": {
            "text/plain": [
              "(80, 79.5201062414182)"
            ]
          },
          "execution_count": 65,
          "metadata": {},
          "output_type": "execute_result"
        }
      ],
      "source": [
        "(np.argmax(c),np.max(c))"
      ]
    },
    {
      "cell_type": "code",
      "execution_count": null,
      "id": "fc7619a2",
      "metadata": {
        "id": "fc7619a2"
      },
      "outputs": [],
      "source": [
        "#remove 80"
      ]
    },
    {
      "cell_type": "code",
      "execution_count": null,
      "id": "9cf512a7",
      "metadata": {
        "id": "9cf512a7"
      },
      "outputs": [],
      "source": [
        "q2=q1.drop(q1.index[[80]],axis=0).reset_index()"
      ]
    },
    {
      "cell_type": "code",
      "execution_count": null,
      "id": "63a1058b",
      "metadata": {
        "id": "63a1058b",
        "outputId": "094b0b7e-6767-4f66-db01-5ea06d52038a"
      },
      "outputs": [
        {
          "data": {
            "text/html": [
              "<div>\n",
              "<style scoped>\n",
              "    .dataframe tbody tr th:only-of-type {\n",
              "        vertical-align: middle;\n",
              "    }\n",
              "\n",
              "    .dataframe tbody tr th {\n",
              "        vertical-align: top;\n",
              "    }\n",
              "\n",
              "    .dataframe thead th {\n",
              "        text-align: right;\n",
              "    }\n",
              "</style>\n",
              "<table border=\"1\" class=\"dataframe\">\n",
              "  <thead>\n",
              "    <tr style=\"text-align: right;\">\n",
              "      <th></th>\n",
              "      <th>index</th>\n",
              "      <th>Id</th>\n",
              "      <th>Model</th>\n",
              "      <th>Price</th>\n",
              "      <th>Age_08_04</th>\n",
              "      <th>Mfg_Month</th>\n",
              "      <th>Mfg_Year</th>\n",
              "      <th>KM</th>\n",
              "      <th>Fuel_Type</th>\n",
              "      <th>HP</th>\n",
              "      <th>...</th>\n",
              "      <th>Central_Lock</th>\n",
              "      <th>Powered_Windows</th>\n",
              "      <th>Power_Steering</th>\n",
              "      <th>Radio</th>\n",
              "      <th>Mistlamps</th>\n",
              "      <th>Sport_Model</th>\n",
              "      <th>Backseat_Divider</th>\n",
              "      <th>Metallic_Rim</th>\n",
              "      <th>Radio_cassette</th>\n",
              "      <th>Tow_Bar</th>\n",
              "    </tr>\n",
              "  </thead>\n",
              "  <tbody>\n",
              "    <tr>\n",
              "      <th>1430</th>\n",
              "      <td>1431</td>\n",
              "      <td>1438</td>\n",
              "      <td>TOYOTA Corolla 1.3 16V HATCHB G6 2/3-Doors</td>\n",
              "      <td>7500</td>\n",
              "      <td>69</td>\n",
              "      <td>12</td>\n",
              "      <td>1998</td>\n",
              "      <td>20544</td>\n",
              "      <td>Petrol</td>\n",
              "      <td>86</td>\n",
              "      <td>...</td>\n",
              "      <td>1</td>\n",
              "      <td>1</td>\n",
              "      <td>1</td>\n",
              "      <td>0</td>\n",
              "      <td>1</td>\n",
              "      <td>1</td>\n",
              "      <td>1</td>\n",
              "      <td>0</td>\n",
              "      <td>0</td>\n",
              "      <td>0</td>\n",
              "    </tr>\n",
              "    <tr>\n",
              "      <th>1431</th>\n",
              "      <td>1432</td>\n",
              "      <td>1439</td>\n",
              "      <td>TOYOTA Corolla 1.3 16V HATCHB LINEA TERRA 2/3-...</td>\n",
              "      <td>10845</td>\n",
              "      <td>72</td>\n",
              "      <td>9</td>\n",
              "      <td>1998</td>\n",
              "      <td>19000</td>\n",
              "      <td>Petrol</td>\n",
              "      <td>86</td>\n",
              "      <td>...</td>\n",
              "      <td>0</td>\n",
              "      <td>0</td>\n",
              "      <td>1</td>\n",
              "      <td>0</td>\n",
              "      <td>0</td>\n",
              "      <td>1</td>\n",
              "      <td>1</td>\n",
              "      <td>0</td>\n",
              "      <td>0</td>\n",
              "      <td>0</td>\n",
              "    </tr>\n",
              "    <tr>\n",
              "      <th>1432</th>\n",
              "      <td>1433</td>\n",
              "      <td>1440</td>\n",
              "      <td>TOYOTA Corolla 1.3 16V HATCHB LINEA TERRA 2/3-...</td>\n",
              "      <td>8500</td>\n",
              "      <td>71</td>\n",
              "      <td>10</td>\n",
              "      <td>1998</td>\n",
              "      <td>17016</td>\n",
              "      <td>Petrol</td>\n",
              "      <td>86</td>\n",
              "      <td>...</td>\n",
              "      <td>0</td>\n",
              "      <td>0</td>\n",
              "      <td>1</td>\n",
              "      <td>0</td>\n",
              "      <td>0</td>\n",
              "      <td>0</td>\n",
              "      <td>1</td>\n",
              "      <td>0</td>\n",
              "      <td>0</td>\n",
              "      <td>0</td>\n",
              "    </tr>\n",
              "    <tr>\n",
              "      <th>1433</th>\n",
              "      <td>1434</td>\n",
              "      <td>1441</td>\n",
              "      <td>TOYOTA Corolla 1.3 16V HATCHB LINEA TERRA 2/3-...</td>\n",
              "      <td>7250</td>\n",
              "      <td>70</td>\n",
              "      <td>11</td>\n",
              "      <td>1998</td>\n",
              "      <td>16916</td>\n",
              "      <td>Petrol</td>\n",
              "      <td>86</td>\n",
              "      <td>...</td>\n",
              "      <td>0</td>\n",
              "      <td>0</td>\n",
              "      <td>0</td>\n",
              "      <td>0</td>\n",
              "      <td>0</td>\n",
              "      <td>0</td>\n",
              "      <td>1</td>\n",
              "      <td>0</td>\n",
              "      <td>0</td>\n",
              "      <td>0</td>\n",
              "    </tr>\n",
              "    <tr>\n",
              "      <th>1434</th>\n",
              "      <td>1435</td>\n",
              "      <td>1442</td>\n",
              "      <td>TOYOTA Corolla 1.6 LB LINEA TERRA 4/5-Doors</td>\n",
              "      <td>6950</td>\n",
              "      <td>76</td>\n",
              "      <td>5</td>\n",
              "      <td>1998</td>\n",
              "      <td>1</td>\n",
              "      <td>Petrol</td>\n",
              "      <td>110</td>\n",
              "      <td>...</td>\n",
              "      <td>0</td>\n",
              "      <td>0</td>\n",
              "      <td>1</td>\n",
              "      <td>0</td>\n",
              "      <td>0</td>\n",
              "      <td>0</td>\n",
              "      <td>0</td>\n",
              "      <td>0</td>\n",
              "      <td>0</td>\n",
              "      <td>0</td>\n",
              "    </tr>\n",
              "  </tbody>\n",
              "</table>\n",
              "<p>5 rows × 39 columns</p>\n",
              "</div>"
            ],
            "text/plain": [
              "      index    Id                                              Model  Price  \\\n",
              "1430   1431  1438         TOYOTA Corolla 1.3 16V HATCHB G6 2/3-Doors   7500   \n",
              "1431   1432  1439  TOYOTA Corolla 1.3 16V HATCHB LINEA TERRA 2/3-...  10845   \n",
              "1432   1433  1440  TOYOTA Corolla 1.3 16V HATCHB LINEA TERRA 2/3-...   8500   \n",
              "1433   1434  1441  TOYOTA Corolla 1.3 16V HATCHB LINEA TERRA 2/3-...   7250   \n",
              "1434   1435  1442        TOYOTA Corolla 1.6 LB LINEA TERRA 4/5-Doors   6950   \n",
              "\n",
              "      Age_08_04  Mfg_Month  Mfg_Year     KM Fuel_Type   HP  ...  Central_Lock  \\\n",
              "1430         69         12      1998  20544    Petrol   86  ...             1   \n",
              "1431         72          9      1998  19000    Petrol   86  ...             0   \n",
              "1432         71         10      1998  17016    Petrol   86  ...             0   \n",
              "1433         70         11      1998  16916    Petrol   86  ...             0   \n",
              "1434         76          5      1998      1    Petrol  110  ...             0   \n",
              "\n",
              "     Powered_Windows  Power_Steering  Radio  Mistlamps  Sport_Model  \\\n",
              "1430               1               1      0          1            1   \n",
              "1431               0               1      0          0            1   \n",
              "1432               0               1      0          0            0   \n",
              "1433               0               0      0          0            0   \n",
              "1434               0               1      0          0            0   \n",
              "\n",
              "      Backseat_Divider  Metallic_Rim  Radio_cassette  Tow_Bar  \n",
              "1430                 1             0               0        0  \n",
              "1431                 1             0               0        0  \n",
              "1432                 1             0               0        0  \n",
              "1433                 1             0               0        0  \n",
              "1434                 0             0               0        0  \n",
              "\n",
              "[5 rows x 39 columns]"
            ]
          },
          "execution_count": 68,
          "metadata": {},
          "output_type": "execute_result"
        }
      ],
      "source": [
        "q2.tail()"
      ]
    },
    {
      "cell_type": "code",
      "execution_count": null,
      "id": "a7fe0ad0",
      "metadata": {
        "id": "a7fe0ad0"
      },
      "outputs": [],
      "source": [
        "final=smf.ols(\"Price~Age_08_04+KM+HP+cc+Gears+Quarterly_Tax+Weight\",data=q2).fit()\n"
      ]
    },
    {
      "cell_type": "code",
      "execution_count": null,
      "id": "2085daca",
      "metadata": {
        "id": "2085daca",
        "outputId": "7091b9c7-a481-428c-e327-0fed31e51474"
      },
      "outputs": [
        {
          "data": {
            "text/html": [
              "<table class=\"simpletable\">\n",
              "<caption>OLS Regression Results</caption>\n",
              "<tr>\n",
              "  <th>Dep. Variable:</th>          <td>Price</td>      <th>  R-squared:         </th> <td>   0.869</td> \n",
              "</tr>\n",
              "<tr>\n",
              "  <th>Model:</th>                   <td>OLS</td>       <th>  Adj. R-squared:    </th> <td>   0.869</td> \n",
              "</tr>\n",
              "<tr>\n",
              "  <th>Method:</th>             <td>Least Squares</td>  <th>  F-statistic:       </th> <td>   1356.</td> \n",
              "</tr>\n",
              "<tr>\n",
              "  <th>Date:</th>             <td>Wed, 01 Nov 2023</td> <th>  Prob (F-statistic):</th>  <td>  0.00</td>  \n",
              "</tr>\n",
              "<tr>\n",
              "  <th>Time:</th>                 <td>15:02:21</td>     <th>  Log-Likelihood:    </th> <td> -12335.</td> \n",
              "</tr>\n",
              "<tr>\n",
              "  <th>No. Observations:</th>      <td>  1435</td>      <th>  AIC:               </th> <td>2.469e+04</td>\n",
              "</tr>\n",
              "<tr>\n",
              "  <th>Df Residuals:</th>          <td>  1427</td>      <th>  BIC:               </th> <td>2.473e+04</td>\n",
              "</tr>\n",
              "<tr>\n",
              "  <th>Df Model:</th>              <td>     7</td>      <th>                     </th>     <td> </td>    \n",
              "</tr>\n",
              "<tr>\n",
              "  <th>Covariance Type:</th>      <td>nonrobust</td>    <th>                     </th>     <td> </td>    \n",
              "</tr>\n",
              "</table>\n",
              "<table class=\"simpletable\">\n",
              "<tr>\n",
              "        <td></td>           <th>coef</th>     <th>std err</th>      <th>t</th>      <th>P>|t|</th>  <th>[0.025</th>    <th>0.975]</th>  \n",
              "</tr>\n",
              "<tr>\n",
              "  <th>Intercept</th>     <td>-6313.9396</td> <td> 1381.857</td> <td>   -4.569</td> <td> 0.000</td> <td>-9024.628</td> <td>-3603.251</td>\n",
              "</tr>\n",
              "<tr>\n",
              "  <th>Age_08_04</th>     <td> -120.4577</td> <td>    2.561</td> <td>  -47.031</td> <td> 0.000</td> <td> -125.482</td> <td> -115.433</td>\n",
              "</tr>\n",
              "<tr>\n",
              "  <th>KM</th>            <td>   -0.0179</td> <td>    0.001</td> <td>  -14.029</td> <td> 0.000</td> <td>   -0.020</td> <td>   -0.015</td>\n",
              "</tr>\n",
              "<tr>\n",
              "  <th>HP</th>            <td>   39.1593</td> <td>    2.898</td> <td>   13.512</td> <td> 0.000</td> <td>   33.474</td> <td>   44.844</td>\n",
              "</tr>\n",
              "<tr>\n",
              "  <th>cc</th>            <td>   -2.5069</td> <td>    0.306</td> <td>   -8.188</td> <td> 0.000</td> <td>   -3.107</td> <td>   -1.906</td>\n",
              "</tr>\n",
              "<tr>\n",
              "  <th>Gears</th>         <td>  549.7311</td> <td>  189.216</td> <td>    2.905</td> <td> 0.004</td> <td>  178.561</td> <td>  920.902</td>\n",
              "</tr>\n",
              "<tr>\n",
              "  <th>Quarterly_Tax</th> <td>    9.0759</td> <td>    1.424</td> <td>    6.374</td> <td> 0.000</td> <td>    6.283</td> <td>   11.869</td>\n",
              "</tr>\n",
              "<tr>\n",
              "  <th>Weight</th>        <td>   19.9623</td> <td>    1.076</td> <td>   18.547</td> <td> 0.000</td> <td>   17.851</td> <td>   22.074</td>\n",
              "</tr>\n",
              "</table>\n",
              "<table class=\"simpletable\">\n",
              "<tr>\n",
              "  <th>Omnibus:</th>       <td>239.713</td> <th>  Durbin-Watson:     </th> <td>   1.592</td>\n",
              "</tr>\n",
              "<tr>\n",
              "  <th>Prob(Omnibus):</th> <td> 0.000</td>  <th>  Jarque-Bera (JB):  </th> <td>2556.740</td>\n",
              "</tr>\n",
              "<tr>\n",
              "  <th>Skew:</th>          <td>-0.425</td>  <th>  Prob(JB):          </th> <td>    0.00</td>\n",
              "</tr>\n",
              "<tr>\n",
              "  <th>Kurtosis:</th>      <td> 9.484</td>  <th>  Cond. No.          </th> <td>3.13e+06</td>\n",
              "</tr>\n",
              "</table><br/><br/>Notes:<br/>[1] Standard Errors assume that the covariance matrix of the errors is correctly specified.<br/>[2] The condition number is large, 3.13e+06. This might indicate that there are<br/>strong multicollinearity or other numerical problems."
            ],
            "text/plain": [
              "<class 'statsmodels.iolib.summary.Summary'>\n",
              "\"\"\"\n",
              "                            OLS Regression Results                            \n",
              "==============================================================================\n",
              "Dep. Variable:                  Price   R-squared:                       0.869\n",
              "Model:                            OLS   Adj. R-squared:                  0.869\n",
              "Method:                 Least Squares   F-statistic:                     1356.\n",
              "Date:                Wed, 01 Nov 2023   Prob (F-statistic):               0.00\n",
              "Time:                        15:02:21   Log-Likelihood:                -12335.\n",
              "No. Observations:                1435   AIC:                         2.469e+04\n",
              "Df Residuals:                    1427   BIC:                         2.473e+04\n",
              "Df Model:                           7                                         \n",
              "Covariance Type:            nonrobust                                         \n",
              "=================================================================================\n",
              "                    coef    std err          t      P>|t|      [0.025      0.975]\n",
              "---------------------------------------------------------------------------------\n",
              "Intercept     -6313.9396   1381.857     -4.569      0.000   -9024.628   -3603.251\n",
              "Age_08_04      -120.4577      2.561    -47.031      0.000    -125.482    -115.433\n",
              "KM               -0.0179      0.001    -14.029      0.000      -0.020      -0.015\n",
              "HP               39.1593      2.898     13.512      0.000      33.474      44.844\n",
              "cc               -2.5069      0.306     -8.188      0.000      -3.107      -1.906\n",
              "Gears           549.7311    189.216      2.905      0.004     178.561     920.902\n",
              "Quarterly_Tax     9.0759      1.424      6.374      0.000       6.283      11.869\n",
              "Weight           19.9623      1.076     18.547      0.000      17.851      22.074\n",
              "==============================================================================\n",
              "Omnibus:                      239.713   Durbin-Watson:                   1.592\n",
              "Prob(Omnibus):                  0.000   Jarque-Bera (JB):             2556.740\n",
              "Skew:                          -0.425   Prob(JB):                         0.00\n",
              "Kurtosis:                       9.484   Cond. No.                     3.13e+06\n",
              "==============================================================================\n",
              "\n",
              "Notes:\n",
              "[1] Standard Errors assume that the covariance matrix of the errors is correctly specified.\n",
              "[2] The condition number is large, 3.13e+06. This might indicate that there are\n",
              "strong multicollinearity or other numerical problems.\n",
              "\"\"\""
            ]
          },
          "execution_count": 72,
          "metadata": {},
          "output_type": "execute_result"
        }
      ],
      "source": [
        "final.summary()"
      ]
    },
    {
      "cell_type": "code",
      "execution_count": null,
      "id": "697698cc",
      "metadata": {
        "id": "697698cc",
        "outputId": "c46b16de-3d21-4863-9048-dfe18ab56eca"
      },
      "outputs": [
        {
          "data": {
            "text/plain": [
              "(0.8693349475698541, 24685.765438793034)"
            ]
          },
          "execution_count": 73,
          "metadata": {},
          "output_type": "execute_result"
        }
      ],
      "source": [
        "(final.rsquared,final.aic)"
      ]
    },
    {
      "cell_type": "code",
      "execution_count": null,
      "id": "30a39663",
      "metadata": {
        "id": "30a39663"
      },
      "outputs": [],
      "source": []
    },
    {
      "cell_type": "code",
      "execution_count": null,
      "id": "8c191ca5",
      "metadata": {
        "id": "8c191ca5"
      },
      "outputs": [],
      "source": []
    }
  ],
  "metadata": {
    "kernelspec": {
      "display_name": "Python 3 (ipykernel)",
      "language": "python",
      "name": "python3"
    },
    "language_info": {
      "codemirror_mode": {
        "name": "ipython",
        "version": 3
      },
      "file_extension": ".py",
      "mimetype": "text/x-python",
      "name": "python",
      "nbconvert_exporter": "python",
      "pygments_lexer": "ipython3",
      "version": "3.9.12"
    },
    "colab": {
      "provenance": []
    }
  },
  "nbformat": 4,
  "nbformat_minor": 5
}