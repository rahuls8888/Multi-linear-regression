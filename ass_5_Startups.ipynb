{
  "cells": [
    {
      "cell_type": "code",
      "execution_count": null,
      "id": "4ca5e23d",
      "metadata": {
        "id": "4ca5e23d"
      },
      "outputs": [],
      "source": [
        "import pandas as  pd\n",
        "import seaborn as sns\n",
        "import numpy as np\n",
        "import matplotlib.pyplot as plt\n",
        "from statsmodels.graphics.regressionplots import influence_plot"
      ]
    },
    {
      "cell_type": "code",
      "execution_count": null,
      "id": "9cea2b5a",
      "metadata": {
        "id": "9cea2b5a"
      },
      "outputs": [],
      "source": [
        "a=pd.read_csv(\"50_Startups (2).csv\")"
      ]
    },
    {
      "cell_type": "code",
      "execution_count": null,
      "id": "0752b34b",
      "metadata": {
        "id": "0752b34b",
        "outputId": "6f62d1b5-679c-4d2e-a811-2d4dd647d2af"
      },
      "outputs": [
        {
          "data": {
            "text/html": [
              "<div>\n",
              "<style scoped>\n",
              "    .dataframe tbody tr th:only-of-type {\n",
              "        vertical-align: middle;\n",
              "    }\n",
              "\n",
              "    .dataframe tbody tr th {\n",
              "        vertical-align: top;\n",
              "    }\n",
              "\n",
              "    .dataframe thead th {\n",
              "        text-align: right;\n",
              "    }\n",
              "</style>\n",
              "<table border=\"1\" class=\"dataframe\">\n",
              "  <thead>\n",
              "    <tr style=\"text-align: right;\">\n",
              "      <th></th>\n",
              "      <th>R&amp;D Spend</th>\n",
              "      <th>Administration</th>\n",
              "      <th>Marketing Spend</th>\n",
              "      <th>State</th>\n",
              "      <th>Profit</th>\n",
              "    </tr>\n",
              "  </thead>\n",
              "  <tbody>\n",
              "    <tr>\n",
              "      <th>0</th>\n",
              "      <td>165349.20</td>\n",
              "      <td>136897.80</td>\n",
              "      <td>471784.10</td>\n",
              "      <td>New York</td>\n",
              "      <td>192261.83</td>\n",
              "    </tr>\n",
              "    <tr>\n",
              "      <th>1</th>\n",
              "      <td>162597.70</td>\n",
              "      <td>151377.59</td>\n",
              "      <td>443898.53</td>\n",
              "      <td>California</td>\n",
              "      <td>191792.06</td>\n",
              "    </tr>\n",
              "    <tr>\n",
              "      <th>2</th>\n",
              "      <td>153441.51</td>\n",
              "      <td>101145.55</td>\n",
              "      <td>407934.54</td>\n",
              "      <td>Florida</td>\n",
              "      <td>191050.39</td>\n",
              "    </tr>\n",
              "    <tr>\n",
              "      <th>3</th>\n",
              "      <td>144372.41</td>\n",
              "      <td>118671.85</td>\n",
              "      <td>383199.62</td>\n",
              "      <td>New York</td>\n",
              "      <td>182901.99</td>\n",
              "    </tr>\n",
              "    <tr>\n",
              "      <th>4</th>\n",
              "      <td>142107.34</td>\n",
              "      <td>91391.77</td>\n",
              "      <td>366168.42</td>\n",
              "      <td>Florida</td>\n",
              "      <td>166187.94</td>\n",
              "    </tr>\n",
              "  </tbody>\n",
              "</table>\n",
              "</div>"
            ],
            "text/plain": [
              "   R&D Spend  Administration  Marketing Spend       State     Profit\n",
              "0  165349.20       136897.80        471784.10    New York  192261.83\n",
              "1  162597.70       151377.59        443898.53  California  191792.06\n",
              "2  153441.51       101145.55        407934.54     Florida  191050.39\n",
              "3  144372.41       118671.85        383199.62    New York  182901.99\n",
              "4  142107.34        91391.77        366168.42     Florida  166187.94"
            ]
          },
          "execution_count": 4,
          "metadata": {},
          "output_type": "execute_result"
        }
      ],
      "source": [
        "a.head()"
      ]
    },
    {
      "cell_type": "code",
      "execution_count": null,
      "id": "682a43eb",
      "metadata": {
        "id": "682a43eb"
      },
      "outputs": [],
      "source": [
        "a.rename(columns={\"R&D Spend\":\"RandDspend\",\"Marketing Spend\":\"marketspend\"},inplace=True)"
      ]
    },
    {
      "cell_type": "code",
      "execution_count": null,
      "id": "c0e4084f",
      "metadata": {
        "id": "c0e4084f",
        "outputId": "5f302cdc-f656-4d84-e0cf-8fc38bd9b830"
      },
      "outputs": [
        {
          "data": {
            "text/html": [
              "<div>\n",
              "<style scoped>\n",
              "    .dataframe tbody tr th:only-of-type {\n",
              "        vertical-align: middle;\n",
              "    }\n",
              "\n",
              "    .dataframe tbody tr th {\n",
              "        vertical-align: top;\n",
              "    }\n",
              "\n",
              "    .dataframe thead th {\n",
              "        text-align: right;\n",
              "    }\n",
              "</style>\n",
              "<table border=\"1\" class=\"dataframe\">\n",
              "  <thead>\n",
              "    <tr style=\"text-align: right;\">\n",
              "      <th></th>\n",
              "      <th>RandDspend</th>\n",
              "      <th>Administration</th>\n",
              "      <th>marketspend</th>\n",
              "      <th>State</th>\n",
              "      <th>Profit</th>\n",
              "    </tr>\n",
              "  </thead>\n",
              "  <tbody>\n",
              "    <tr>\n",
              "      <th>0</th>\n",
              "      <td>165349.20</td>\n",
              "      <td>136897.80</td>\n",
              "      <td>471784.10</td>\n",
              "      <td>New York</td>\n",
              "      <td>192261.83</td>\n",
              "    </tr>\n",
              "    <tr>\n",
              "      <th>1</th>\n",
              "      <td>162597.70</td>\n",
              "      <td>151377.59</td>\n",
              "      <td>443898.53</td>\n",
              "      <td>California</td>\n",
              "      <td>191792.06</td>\n",
              "    </tr>\n",
              "    <tr>\n",
              "      <th>2</th>\n",
              "      <td>153441.51</td>\n",
              "      <td>101145.55</td>\n",
              "      <td>407934.54</td>\n",
              "      <td>Florida</td>\n",
              "      <td>191050.39</td>\n",
              "    </tr>\n",
              "    <tr>\n",
              "      <th>3</th>\n",
              "      <td>144372.41</td>\n",
              "      <td>118671.85</td>\n",
              "      <td>383199.62</td>\n",
              "      <td>New York</td>\n",
              "      <td>182901.99</td>\n",
              "    </tr>\n",
              "    <tr>\n",
              "      <th>4</th>\n",
              "      <td>142107.34</td>\n",
              "      <td>91391.77</td>\n",
              "      <td>366168.42</td>\n",
              "      <td>Florida</td>\n",
              "      <td>166187.94</td>\n",
              "    </tr>\n",
              "  </tbody>\n",
              "</table>\n",
              "</div>"
            ],
            "text/plain": [
              "   RandDspend  Administration  marketspend       State     Profit\n",
              "0   165349.20       136897.80    471784.10    New York  192261.83\n",
              "1   162597.70       151377.59    443898.53  California  191792.06\n",
              "2   153441.51       101145.55    407934.54     Florida  191050.39\n",
              "3   144372.41       118671.85    383199.62    New York  182901.99\n",
              "4   142107.34        91391.77    366168.42     Florida  166187.94"
            ]
          },
          "execution_count": 6,
          "metadata": {},
          "output_type": "execute_result"
        }
      ],
      "source": [
        "a.head()"
      ]
    },
    {
      "cell_type": "code",
      "execution_count": null,
      "id": "cdbc8a50",
      "metadata": {
        "id": "cdbc8a50"
      },
      "outputs": [],
      "source": [
        "a.drop(\"State\",axis=1,inplace=True)"
      ]
    },
    {
      "cell_type": "code",
      "execution_count": null,
      "id": "8e8b25fa",
      "metadata": {
        "id": "8e8b25fa"
      },
      "outputs": [],
      "source": [
        "import statsmodels.formula.api as smf\n",
        "import statsmodels.api as sm"
      ]
    },
    {
      "cell_type": "code",
      "execution_count": null,
      "id": "3cb01b6c",
      "metadata": {
        "id": "3cb01b6c",
        "outputId": "013e7984-0155-4c36-da85-43981f41db8a"
      },
      "outputs": [
        {
          "name": "stdout",
          "output_type": "stream",
          "text": [
            "<class 'pandas.core.frame.DataFrame'>\n",
            "RangeIndex: 50 entries, 0 to 49\n",
            "Data columns (total 4 columns):\n",
            " #   Column          Non-Null Count  Dtype  \n",
            "---  ------          --------------  -----  \n",
            " 0   RandDspend      50 non-null     float64\n",
            " 1   Administration  50 non-null     float64\n",
            " 2   marketspend     50 non-null     float64\n",
            " 3   Profit          50 non-null     float64\n",
            "dtypes: float64(4)\n",
            "memory usage: 1.7 KB\n"
          ]
        }
      ],
      "source": [
        "a.info()"
      ]
    },
    {
      "cell_type": "code",
      "execution_count": null,
      "id": "fc1539b9",
      "metadata": {
        "id": "fc1539b9",
        "outputId": "aa09366f-ebff-48b3-d8d0-93b0cdc06560"
      },
      "outputs": [
        {
          "data": {
            "text/plain": [
              "RandDspend        0\n",
              "Administration    0\n",
              "marketspend       0\n",
              "Profit            0\n",
              "dtype: int64"
            ]
          },
          "execution_count": 12,
          "metadata": {},
          "output_type": "execute_result"
        }
      ],
      "source": [
        "a.isna().sum()"
      ]
    },
    {
      "cell_type": "code",
      "execution_count": null,
      "id": "a4565acd",
      "metadata": {
        "id": "a4565acd"
      },
      "outputs": [],
      "source": [
        "w1=smf.ols(\"Profit~marketspend+RandDspend+Administration\",data=a).fit()"
      ]
    },
    {
      "cell_type": "code",
      "execution_count": null,
      "id": "7648b1a2",
      "metadata": {
        "id": "7648b1a2",
        "outputId": "d2bcdc11-70a9-4e41-a478-d3e5346d254b"
      },
      "outputs": [
        {
          "data": {
            "text/html": [
              "<table class=\"simpletable\">\n",
              "<caption>OLS Regression Results</caption>\n",
              "<tr>\n",
              "  <th>Dep. Variable:</th>         <td>Profit</td>      <th>  R-squared:         </th> <td>   0.951</td>\n",
              "</tr>\n",
              "<tr>\n",
              "  <th>Model:</th>                   <td>OLS</td>       <th>  Adj. R-squared:    </th> <td>   0.948</td>\n",
              "</tr>\n",
              "<tr>\n",
              "  <th>Method:</th>             <td>Least Squares</td>  <th>  F-statistic:       </th> <td>   296.0</td>\n",
              "</tr>\n",
              "<tr>\n",
              "  <th>Date:</th>             <td>Wed, 01 Nov 2023</td> <th>  Prob (F-statistic):</th> <td>4.53e-30</td>\n",
              "</tr>\n",
              "<tr>\n",
              "  <th>Time:</th>                 <td>11:43:29</td>     <th>  Log-Likelihood:    </th> <td> -525.39</td>\n",
              "</tr>\n",
              "<tr>\n",
              "  <th>No. Observations:</th>      <td>    50</td>      <th>  AIC:               </th> <td>   1059.</td>\n",
              "</tr>\n",
              "<tr>\n",
              "  <th>Df Residuals:</th>          <td>    46</td>      <th>  BIC:               </th> <td>   1066.</td>\n",
              "</tr>\n",
              "<tr>\n",
              "  <th>Df Model:</th>              <td>     3</td>      <th>                     </th>     <td> </td>   \n",
              "</tr>\n",
              "<tr>\n",
              "  <th>Covariance Type:</th>      <td>nonrobust</td>    <th>                     </th>     <td> </td>   \n",
              "</tr>\n",
              "</table>\n",
              "<table class=\"simpletable\">\n",
              "<tr>\n",
              "         <td></td>           <th>coef</th>     <th>std err</th>      <th>t</th>      <th>P>|t|</th>  <th>[0.025</th>    <th>0.975]</th>  \n",
              "</tr>\n",
              "<tr>\n",
              "  <th>Intercept</th>      <td> 5.012e+04</td> <td> 6572.353</td> <td>    7.626</td> <td> 0.000</td> <td> 3.69e+04</td> <td> 6.34e+04</td>\n",
              "</tr>\n",
              "<tr>\n",
              "  <th>RandDspend</th>     <td>    0.8057</td> <td>    0.045</td> <td>   17.846</td> <td> 0.000</td> <td>    0.715</td> <td>    0.897</td>\n",
              "</tr>\n",
              "<tr>\n",
              "  <th>Administration</th> <td>   -0.0268</td> <td>    0.051</td> <td>   -0.526</td> <td> 0.602</td> <td>   -0.130</td> <td>    0.076</td>\n",
              "</tr>\n",
              "<tr>\n",
              "  <th>marketspend</th>    <td>    0.0272</td> <td>    0.016</td> <td>    1.655</td> <td> 0.105</td> <td>   -0.006</td> <td>    0.060</td>\n",
              "</tr>\n",
              "</table>\n",
              "<table class=\"simpletable\">\n",
              "<tr>\n",
              "  <th>Omnibus:</th>       <td>14.838</td> <th>  Durbin-Watson:     </th> <td>   1.282</td>\n",
              "</tr>\n",
              "<tr>\n",
              "  <th>Prob(Omnibus):</th> <td> 0.001</td> <th>  Jarque-Bera (JB):  </th> <td>  21.442</td>\n",
              "</tr>\n",
              "<tr>\n",
              "  <th>Skew:</th>          <td>-0.949</td> <th>  Prob(JB):          </th> <td>2.21e-05</td>\n",
              "</tr>\n",
              "<tr>\n",
              "  <th>Kurtosis:</th>      <td> 5.586</td> <th>  Cond. No.          </th> <td>1.40e+06</td>\n",
              "</tr>\n",
              "</table><br/><br/>Notes:<br/>[1] Standard Errors assume that the covariance matrix of the errors is correctly specified.<br/>[2] The condition number is large, 1.4e+06. This might indicate that there are<br/>strong multicollinearity or other numerical problems."
            ],
            "text/plain": [
              "<class 'statsmodels.iolib.summary.Summary'>\n",
              "\"\"\"\n",
              "                            OLS Regression Results                            \n",
              "==============================================================================\n",
              "Dep. Variable:                 Profit   R-squared:                       0.951\n",
              "Model:                            OLS   Adj. R-squared:                  0.948\n",
              "Method:                 Least Squares   F-statistic:                     296.0\n",
              "Date:                Wed, 01 Nov 2023   Prob (F-statistic):           4.53e-30\n",
              "Time:                        11:43:29   Log-Likelihood:                -525.39\n",
              "No. Observations:                  50   AIC:                             1059.\n",
              "Df Residuals:                      46   BIC:                             1066.\n",
              "Df Model:                           3                                         \n",
              "Covariance Type:            nonrobust                                         \n",
              "==================================================================================\n",
              "                     coef    std err          t      P>|t|      [0.025      0.975]\n",
              "----------------------------------------------------------------------------------\n",
              "Intercept       5.012e+04   6572.353      7.626      0.000    3.69e+04    6.34e+04\n",
              "RandDspend         0.8057      0.045     17.846      0.000       0.715       0.897\n",
              "Administration    -0.0268      0.051     -0.526      0.602      -0.130       0.076\n",
              "marketspend        0.0272      0.016      1.655      0.105      -0.006       0.060\n",
              "==============================================================================\n",
              "Omnibus:                       14.838   Durbin-Watson:                   1.282\n",
              "Prob(Omnibus):                  0.001   Jarque-Bera (JB):               21.442\n",
              "Skew:                          -0.949   Prob(JB):                     2.21e-05\n",
              "Kurtosis:                       5.586   Cond. No.                     1.40e+06\n",
              "==============================================================================\n",
              "\n",
              "Notes:\n",
              "[1] Standard Errors assume that the covariance matrix of the errors is correctly specified.\n",
              "[2] The condition number is large, 1.4e+06. This might indicate that there are\n",
              "strong multicollinearity or other numerical problems.\n",
              "\"\"\""
            ]
          },
          "execution_count": 14,
          "metadata": {},
          "output_type": "execute_result"
        }
      ],
      "source": [
        "w1.summary()"
      ]
    },
    {
      "cell_type": "code",
      "execution_count": null,
      "id": "59b23f65",
      "metadata": {
        "id": "59b23f65",
        "outputId": "70917d9c-252a-4314-931a-7269067ce728"
      },
      "outputs": [
        {
          "data": {
            "text/plain": [
              "<seaborn.axisgrid.PairGrid at 0x1afa1fbffd0>"
            ]
          },
          "execution_count": 15,
          "metadata": {},
          "output_type": "execute_result"
        },
        {
          "data": {
            "image/png": "[encoded data removed]",
            "text/plain": [
              "<Figure size 720x720 with 20 Axes>"
            ]
          },
          "metadata": {
            "needs_background": "light"
          },
          "output_type": "display_data"
        }
      ],
      "source": [
        "sns.pairplot(a)"
      ]
    },
    {
      "cell_type": "code",
      "execution_count": null,
      "id": "2da1aab2",
      "metadata": {
        "id": "2da1aab2"
      },
      "outputs": [],
      "source": [
        "w2=smf.ols(\"Profit~Administration+RandDspend\",data=a).fit()"
      ]
    },
    {
      "cell_type": "code",
      "execution_count": null,
      "id": "64b8864e",
      "metadata": {
        "id": "64b8864e",
        "outputId": "9f7b686e-0a20-4791-e33d-4318b0894a15"
      },
      "outputs": [
        {
          "data": {
            "text/html": [
              "<table class=\"simpletable\">\n",
              "<caption>OLS Regression Results</caption>\n",
              "<tr>\n",
              "  <th>Dep. Variable:</th>         <td>Profit</td>      <th>  R-squared:         </th> <td>   0.948</td>\n",
              "</tr>\n",
              "<tr>\n",
              "  <th>Model:</th>                   <td>OLS</td>       <th>  Adj. R-squared:    </th> <td>   0.946</td>\n",
              "</tr>\n",
              "<tr>\n",
              "  <th>Method:</th>             <td>Least Squares</td>  <th>  F-statistic:       </th> <td>   426.8</td>\n",
              "</tr>\n",
              "<tr>\n",
              "  <th>Date:</th>             <td>Wed, 01 Nov 2023</td> <th>  Prob (F-statistic):</th> <td>7.29e-31</td>\n",
              "</tr>\n",
              "<tr>\n",
              "  <th>Time:</th>                 <td>11:46:55</td>     <th>  Log-Likelihood:    </th> <td> -526.83</td>\n",
              "</tr>\n",
              "<tr>\n",
              "  <th>No. Observations:</th>      <td>    50</td>      <th>  AIC:               </th> <td>   1060.</td>\n",
              "</tr>\n",
              "<tr>\n",
              "  <th>Df Residuals:</th>          <td>    47</td>      <th>  BIC:               </th> <td>   1065.</td>\n",
              "</tr>\n",
              "<tr>\n",
              "  <th>Df Model:</th>              <td>     2</td>      <th>                     </th>     <td> </td>   \n",
              "</tr>\n",
              "<tr>\n",
              "  <th>Covariance Type:</th>      <td>nonrobust</td>    <th>                     </th>     <td> </td>   \n",
              "</tr>\n",
              "</table>\n",
              "<table class=\"simpletable\">\n",
              "<tr>\n",
              "         <td></td>           <th>coef</th>     <th>std err</th>      <th>t</th>      <th>P>|t|</th>  <th>[0.025</th>    <th>0.975]</th>  \n",
              "</tr>\n",
              "<tr>\n",
              "  <th>Intercept</th>      <td> 5.489e+04</td> <td> 6016.718</td> <td>    9.122</td> <td> 0.000</td> <td> 4.28e+04</td> <td>  6.7e+04</td>\n",
              "</tr>\n",
              "<tr>\n",
              "  <th>Administration</th> <td>   -0.0530</td> <td>    0.049</td> <td>   -1.073</td> <td> 0.289</td> <td>   -0.152</td> <td>    0.046</td>\n",
              "</tr>\n",
              "<tr>\n",
              "  <th>RandDspend</th>     <td>    0.8621</td> <td>    0.030</td> <td>   28.589</td> <td> 0.000</td> <td>    0.801</td> <td>    0.923</td>\n",
              "</tr>\n",
              "</table>\n",
              "<table class=\"simpletable\">\n",
              "<tr>\n",
              "  <th>Omnibus:</th>       <td>14.678</td> <th>  Durbin-Watson:     </th> <td>   1.189</td>\n",
              "</tr>\n",
              "<tr>\n",
              "  <th>Prob(Omnibus):</th> <td> 0.001</td> <th>  Jarque-Bera (JB):  </th> <td>  20.449</td>\n",
              "</tr>\n",
              "<tr>\n",
              "  <th>Skew:</th>          <td>-0.961</td> <th>  Prob(JB):          </th> <td>3.63e-05</td>\n",
              "</tr>\n",
              "<tr>\n",
              "  <th>Kurtosis:</th>      <td> 5.474</td> <th>  Cond. No.          </th> <td>6.65e+05</td>\n",
              "</tr>\n",
              "</table><br/><br/>Notes:<br/>[1] Standard Errors assume that the covariance matrix of the errors is correctly specified.<br/>[2] The condition number is large, 6.65e+05. This might indicate that there are<br/>strong multicollinearity or other numerical problems."
            ],
            "text/plain": [
              "<class 'statsmodels.iolib.summary.Summary'>\n",
              "\"\"\"\n",
              "                            OLS Regression Results                            \n",
              "==============================================================================\n",
              "Dep. Variable:                 Profit   R-squared:                       0.948\n",
              "Model:                            OLS   Adj. R-squared:                  0.946\n",
              "Method:                 Least Squares   F-statistic:                     426.8\n",
              "Date:                Wed, 01 Nov 2023   Prob (F-statistic):           7.29e-31\n",
              "Time:                        11:46:55   Log-Likelihood:                -526.83\n",
              "No. Observations:                  50   AIC:                             1060.\n",
              "Df Residuals:                      47   BIC:                             1065.\n",
              "Df Model:                           2                                         \n",
              "Covariance Type:            nonrobust                                         \n",
              "==================================================================================\n",
              "                     coef    std err          t      P>|t|      [0.025      0.975]\n",
              "----------------------------------------------------------------------------------\n",
              "Intercept       5.489e+04   6016.718      9.122      0.000    4.28e+04     6.7e+04\n",
              "Administration    -0.0530      0.049     -1.073      0.289      -0.152       0.046\n",
              "RandDspend         0.8621      0.030     28.589      0.000       0.801       0.923\n",
              "==============================================================================\n",
              "Omnibus:                       14.678   Durbin-Watson:                   1.189\n",
              "Prob(Omnibus):                  0.001   Jarque-Bera (JB):               20.449\n",
              "Skew:                          -0.961   Prob(JB):                     3.63e-05\n",
              "Kurtosis:                       5.474   Cond. No.                     6.65e+05\n",
              "==============================================================================\n",
              "\n",
              "Notes:\n",
              "[1] Standard Errors assume that the covariance matrix of the errors is correctly specified.\n",
              "[2] The condition number is large, 6.65e+05. This might indicate that there are\n",
              "strong multicollinearity or other numerical problems.\n",
              "\"\"\""
            ]
          },
          "execution_count": 17,
          "metadata": {},
          "output_type": "execute_result"
        }
      ],
      "source": [
        "w2.summary()"
      ]
    },
    {
      "cell_type": "code",
      "execution_count": null,
      "id": "7265afc0",
      "metadata": {
        "id": "7265afc0"
      },
      "outputs": [],
      "source": [
        "w3=smf.ols(\"Profit~marketspend+Administration\",data=a).fit()"
      ]
    },
    {
      "cell_type": "code",
      "execution_count": null,
      "id": "1a0b8ca0",
      "metadata": {
        "id": "1a0b8ca0",
        "outputId": "9bc49957-7da7-48f2-a084-48ab6436d4a0"
      },
      "outputs": [
        {
          "data": {
            "text/html": [
              "<table class=\"simpletable\">\n",
              "<caption>OLS Regression Results</caption>\n",
              "<tr>\n",
              "  <th>Dep. Variable:</th>         <td>Profit</td>      <th>  R-squared:         </th> <td>   0.610</td>\n",
              "</tr>\n",
              "<tr>\n",
              "  <th>Model:</th>                   <td>OLS</td>       <th>  Adj. R-squared:    </th> <td>   0.593</td>\n",
              "</tr>\n",
              "<tr>\n",
              "  <th>Method:</th>             <td>Least Squares</td>  <th>  F-statistic:       </th> <td>   36.71</td>\n",
              "</tr>\n",
              "<tr>\n",
              "  <th>Date:</th>             <td>Wed, 01 Nov 2023</td> <th>  Prob (F-statistic):</th> <td>2.50e-10</td>\n",
              "</tr>\n",
              "<tr>\n",
              "  <th>Time:</th>                 <td>11:48:31</td>     <th>  Log-Likelihood:    </th> <td> -577.13</td>\n",
              "</tr>\n",
              "<tr>\n",
              "  <th>No. Observations:</th>      <td>    50</td>      <th>  AIC:               </th> <td>   1160.</td>\n",
              "</tr>\n",
              "<tr>\n",
              "  <th>Df Residuals:</th>          <td>    47</td>      <th>  BIC:               </th> <td>   1166.</td>\n",
              "</tr>\n",
              "<tr>\n",
              "  <th>Df Model:</th>              <td>     2</td>      <th>                     </th>     <td> </td>   \n",
              "</tr>\n",
              "<tr>\n",
              "  <th>Covariance Type:</th>      <td>nonrobust</td>    <th>                     </th>     <td> </td>   \n",
              "</tr>\n",
              "</table>\n",
              "<table class=\"simpletable\">\n",
              "<tr>\n",
              "         <td></td>           <th>coef</th>     <th>std err</th>      <th>t</th>      <th>P>|t|</th>  <th>[0.025</th>    <th>0.975]</th>  \n",
              "</tr>\n",
              "<tr>\n",
              "  <th>Intercept</th>      <td> 2.022e+04</td> <td> 1.77e+04</td> <td>    1.143</td> <td> 0.259</td> <td>-1.54e+04</td> <td> 5.58e+04</td>\n",
              "</tr>\n",
              "<tr>\n",
              "  <th>marketspend</th>    <td>    0.2488</td> <td>    0.030</td> <td>    8.281</td> <td> 0.000</td> <td>    0.188</td> <td>    0.309</td>\n",
              "</tr>\n",
              "<tr>\n",
              "  <th>Administration</th> <td>    0.3237</td> <td>    0.131</td> <td>    2.468</td> <td> 0.017</td> <td>    0.060</td> <td>    0.588</td>\n",
              "</tr>\n",
              "</table>\n",
              "<table class=\"simpletable\">\n",
              "<tr>\n",
              "  <th>Omnibus:</th>       <td> 6.584</td> <th>  Durbin-Watson:     </th> <td>   1.279</td>\n",
              "</tr>\n",
              "<tr>\n",
              "  <th>Prob(Omnibus):</th> <td> 0.037</td> <th>  Jarque-Bera (JB):  </th> <td>   6.524</td>\n",
              "</tr>\n",
              "<tr>\n",
              "  <th>Skew:</th>          <td>-0.512</td> <th>  Prob(JB):          </th> <td>  0.0383</td>\n",
              "</tr>\n",
              "<tr>\n",
              "  <th>Kurtosis:</th>      <td> 4.443</td> <th>  Cond. No.          </th> <td>1.30e+06</td>\n",
              "</tr>\n",
              "</table><br/><br/>Notes:<br/>[1] Standard Errors assume that the covariance matrix of the errors is correctly specified.<br/>[2] The condition number is large, 1.3e+06. This might indicate that there are<br/>strong multicollinearity or other numerical problems."
            ],
            "text/plain": [
              "<class 'statsmodels.iolib.summary.Summary'>\n",
              "\"\"\"\n",
              "                            OLS Regression Results                            \n",
              "==============================================================================\n",
              "Dep. Variable:                 Profit   R-squared:                       0.610\n",
              "Model:                            OLS   Adj. R-squared:                  0.593\n",
              "Method:                 Least Squares   F-statistic:                     36.71\n",
              "Date:                Wed, 01 Nov 2023   Prob (F-statistic):           2.50e-10\n",
              "Time:                        11:48:31   Log-Likelihood:                -577.13\n",
              "No. Observations:                  50   AIC:                             1160.\n",
              "Df Residuals:                      47   BIC:                             1166.\n",
              "Df Model:                           2                                         \n",
              "Covariance Type:            nonrobust                                         \n",
              "==================================================================================\n",
              "                     coef    std err          t      P>|t|      [0.025      0.975]\n",
              "----------------------------------------------------------------------------------\n",
              "Intercept       2.022e+04   1.77e+04      1.143      0.259   -1.54e+04    5.58e+04\n",
              "marketspend        0.2488      0.030      8.281      0.000       0.188       0.309\n",
              "Administration     0.3237      0.131      2.468      0.017       0.060       0.588\n",
              "==============================================================================\n",
              "Omnibus:                        6.584   Durbin-Watson:                   1.279\n",
              "Prob(Omnibus):                  0.037   Jarque-Bera (JB):                6.524\n",
              "Skew:                          -0.512   Prob(JB):                       0.0383\n",
              "Kurtosis:                       4.443   Cond. No.                     1.30e+06\n",
              "==============================================================================\n",
              "\n",
              "Notes:\n",
              "[1] Standard Errors assume that the covariance matrix of the errors is correctly specified.\n",
              "[2] The condition number is large, 1.3e+06. This might indicate that there are\n",
              "strong multicollinearity or other numerical problems.\n",
              "\"\"\""
            ]
          },
          "execution_count": 21,
          "metadata": {},
          "output_type": "execute_result"
        }
      ],
      "source": [
        "w3.summary()"
      ]
    },
    {
      "cell_type": "code",
      "execution_count": null,
      "id": "01291565",
      "metadata": {
        "id": "01291565"
      },
      "outputs": [],
      "source": [
        "#here Administration and markekspend getting greater then 0.05 values"
      ]
    },
    {
      "cell_type": "code",
      "execution_count": null,
      "id": "56d8a124",
      "metadata": {
        "id": "56d8a124"
      },
      "outputs": [],
      "source": [
        "vif=1/(1-rsquare)"
      ]
    },
    {
      "cell_type": "code",
      "execution_count": null,
      "id": "c11d7d66",
      "metadata": {
        "id": "c11d7d66"
      },
      "outputs": [],
      "source": [
        "m1=smf.ols(\"Administration~marketspend+RandDspend\",data=a).fit()"
      ]
    },
    {
      "cell_type": "code",
      "execution_count": null,
      "id": "0fdae33d",
      "metadata": {
        "id": "0fdae33d",
        "outputId": "69ba2861-7e90-418a-9f4b-56061ace3495"
      },
      "outputs": [
        {
          "data": {
            "text/html": [
              "<table class=\"simpletable\">\n",
              "<caption>OLS Regression Results</caption>\n",
              "<tr>\n",
              "  <th>Dep. Variable:</th>     <td>Administration</td>  <th>  R-squared:         </th> <td>   0.149</td>\n",
              "</tr>\n",
              "<tr>\n",
              "  <th>Model:</th>                   <td>OLS</td>       <th>  Adj. R-squared:    </th> <td>   0.113</td>\n",
              "</tr>\n",
              "<tr>\n",
              "  <th>Method:</th>             <td>Least Squares</td>  <th>  F-statistic:       </th> <td>   4.115</td>\n",
              "</tr>\n",
              "<tr>\n",
              "  <th>Date:</th>             <td>Wed, 01 Nov 2023</td> <th>  Prob (F-statistic):</th>  <td>0.0226</td> \n",
              "</tr>\n",
              "<tr>\n",
              "  <th>Time:</th>                 <td>11:51:52</td>     <th>  Log-Likelihood:    </th> <td> -578.44</td>\n",
              "</tr>\n",
              "<tr>\n",
              "  <th>No. Observations:</th>      <td>    50</td>      <th>  AIC:               </th> <td>   1163.</td>\n",
              "</tr>\n",
              "<tr>\n",
              "  <th>Df Residuals:</th>          <td>    47</td>      <th>  BIC:               </th> <td>   1169.</td>\n",
              "</tr>\n",
              "<tr>\n",
              "  <th>Df Model:</th>              <td>     2</td>      <th>                     </th>     <td> </td>   \n",
              "</tr>\n",
              "<tr>\n",
              "  <th>Covariance Type:</th>      <td>nonrobust</td>    <th>                     </th>     <td> </td>   \n",
              "</tr>\n",
              "</table>\n",
              "<table class=\"simpletable\">\n",
              "<tr>\n",
              "       <td></td>          <th>coef</th>     <th>std err</th>      <th>t</th>      <th>P>|t|</th>  <th>[0.025</th>    <th>0.975]</th>  \n",
              "</tr>\n",
              "<tr>\n",
              "  <th>Intercept</th>   <td> 1.173e+05</td> <td> 7749.035</td> <td>   15.141</td> <td> 0.000</td> <td> 1.02e+05</td> <td> 1.33e+05</td>\n",
              "</tr>\n",
              "<tr>\n",
              "  <th>marketspend</th> <td>   -0.0999</td> <td>    0.045</td> <td>   -2.235</td> <td> 0.030</td> <td>   -0.190</td> <td>   -0.010</td>\n",
              "</tr>\n",
              "<tr>\n",
              "  <th>RandDspend</th>  <td>    0.3405</td> <td>    0.119</td> <td>    2.859</td> <td> 0.006</td> <td>    0.101</td> <td>    0.580</td>\n",
              "</tr>\n",
              "</table>\n",
              "<table class=\"simpletable\">\n",
              "<tr>\n",
              "  <th>Omnibus:</th>       <td> 1.684</td> <th>  Durbin-Watson:     </th> <td>   1.748</td>\n",
              "</tr>\n",
              "<tr>\n",
              "  <th>Prob(Omnibus):</th> <td> 0.431</td> <th>  Jarque-Bera (JB):  </th> <td>   1.351</td>\n",
              "</tr>\n",
              "<tr>\n",
              "  <th>Skew:</th>          <td>-0.401</td> <th>  Prob(JB):          </th> <td>   0.509</td>\n",
              "</tr>\n",
              "<tr>\n",
              "  <th>Kurtosis:</th>      <td> 2.936</td> <th>  Cond. No.          </th> <td>5.32e+05</td>\n",
              "</tr>\n",
              "</table><br/><br/>Notes:<br/>[1] Standard Errors assume that the covariance matrix of the errors is correctly specified.<br/>[2] The condition number is large, 5.32e+05. This might indicate that there are<br/>strong multicollinearity or other numerical problems."
            ],
            "text/plain": [
              "<class 'statsmodels.iolib.summary.Summary'>\n",
              "\"\"\"\n",
              "                            OLS Regression Results                            \n",
              "==============================================================================\n",
              "Dep. Variable:         Administration   R-squared:                       0.149\n",
              "Model:                            OLS   Adj. R-squared:                  0.113\n",
              "Method:                 Least Squares   F-statistic:                     4.115\n",
              "Date:                Wed, 01 Nov 2023   Prob (F-statistic):             0.0226\n",
              "Time:                        11:51:52   Log-Likelihood:                -578.44\n",
              "No. Observations:                  50   AIC:                             1163.\n",
              "Df Residuals:                      47   BIC:                             1169.\n",
              "Df Model:                           2                                         \n",
              "Covariance Type:            nonrobust                                         \n",
              "===============================================================================\n",
              "                  coef    std err          t      P>|t|      [0.025      0.975]\n",
              "-------------------------------------------------------------------------------\n",
              "Intercept    1.173e+05   7749.035     15.141      0.000    1.02e+05    1.33e+05\n",
              "marketspend    -0.0999      0.045     -2.235      0.030      -0.190      -0.010\n",
              "RandDspend      0.3405      0.119      2.859      0.006       0.101       0.580\n",
              "==============================================================================\n",
              "Omnibus:                        1.684   Durbin-Watson:                   1.748\n",
              "Prob(Omnibus):                  0.431   Jarque-Bera (JB):                1.351\n",
              "Skew:                          -0.401   Prob(JB):                        0.509\n",
              "Kurtosis:                       2.936   Cond. No.                     5.32e+05\n",
              "==============================================================================\n",
              "\n",
              "Notes:\n",
              "[1] Standard Errors assume that the covariance matrix of the errors is correctly specified.\n",
              "[2] The condition number is large, 5.32e+05. This might indicate that there are\n",
              "strong multicollinearity or other numerical problems.\n",
              "\"\"\""
            ]
          },
          "execution_count": 23,
          "metadata": {},
          "output_type": "execute_result"
        }
      ],
      "source": [
        "m1.summary()"
      ]
    },
    {
      "cell_type": "code",
      "execution_count": null,
      "id": "4905b20b",
      "metadata": {
        "id": "4905b20b"
      },
      "outputs": [],
      "source": [
        "vif=m1.rsquared\n",
        "ad_a=1/(1-vif)"
      ]
    },
    {
      "cell_type": "code",
      "execution_count": null,
      "id": "61626316",
      "metadata": {
        "id": "61626316",
        "outputId": "c5fea0b1-ad2c-4211-b296-72dfa20114a6"
      },
      "outputs": [
        {
          "data": {
            "text/plain": [
              "1.1750910070550455"
            ]
          },
          "execution_count": 25,
          "metadata": {},
          "output_type": "execute_result"
        }
      ],
      "source": [
        "ad_a"
      ]
    },
    {
      "cell_type": "code",
      "execution_count": null,
      "id": "9830c02c",
      "metadata": {
        "id": "9830c02c"
      },
      "outputs": [],
      "source": [
        "m2=smf.ols(\"marketspend~Administration+RandDspend\",data=a).fit()"
      ]
    },
    {
      "cell_type": "code",
      "execution_count": null,
      "id": "7ef844e5",
      "metadata": {
        "id": "7ef844e5",
        "outputId": "006ccd41-5f56-4cc9-f0f6-60b44c398670"
      },
      "outputs": [
        {
          "data": {
            "text/html": [
              "<table class=\"simpletable\">\n",
              "<caption>OLS Regression Results</caption>\n",
              "<tr>\n",
              "  <th>Dep. Variable:</th>       <td>marketspend</td>   <th>  R-squared:         </th> <td>   0.570</td>\n",
              "</tr>\n",
              "<tr>\n",
              "  <th>Model:</th>                   <td>OLS</td>       <th>  Adj. R-squared:    </th> <td>   0.552</td>\n",
              "</tr>\n",
              "<tr>\n",
              "  <th>Method:</th>             <td>Least Squares</td>  <th>  F-statistic:       </th> <td>   31.18</td>\n",
              "</tr>\n",
              "<tr>\n",
              "  <th>Date:</th>             <td>Wed, 01 Nov 2023</td> <th>  Prob (F-statistic):</th> <td>2.41e-09</td>\n",
              "</tr>\n",
              "<tr>\n",
              "  <th>Time:</th>                 <td>11:54:14</td>     <th>  Log-Likelihood:    </th> <td> -635.04</td>\n",
              "</tr>\n",
              "<tr>\n",
              "  <th>No. Observations:</th>      <td>    50</td>      <th>  AIC:               </th> <td>   1276.</td>\n",
              "</tr>\n",
              "<tr>\n",
              "  <th>Df Residuals:</th>          <td>    47</td>      <th>  BIC:               </th> <td>   1282.</td>\n",
              "</tr>\n",
              "<tr>\n",
              "  <th>Df Model:</th>              <td>     2</td>      <th>                     </th>     <td> </td>   \n",
              "</tr>\n",
              "<tr>\n",
              "  <th>Covariance Type:</th>      <td>nonrobust</td>    <th>                     </th>     <td> </td>   \n",
              "</tr>\n",
              "</table>\n",
              "<table class=\"simpletable\">\n",
              "<tr>\n",
              "         <td></td>           <th>coef</th>     <th>std err</th>      <th>t</th>      <th>P>|t|</th>  <th>[0.025</th>    <th>0.975]</th>  \n",
              "</tr>\n",
              "<tr>\n",
              "  <th>Intercept</th>      <td>  1.75e+05</td> <td> 5.24e+04</td> <td>    3.340</td> <td> 0.002</td> <td> 6.96e+04</td> <td>  2.8e+05</td>\n",
              "</tr>\n",
              "<tr>\n",
              "  <th>Administration</th> <td>   -0.9615</td> <td>    0.430</td> <td>   -2.235</td> <td> 0.030</td> <td>   -1.827</td> <td>   -0.096</td>\n",
              "</tr>\n",
              "<tr>\n",
              "  <th>RandDspend</th>     <td>    2.0715</td> <td>    0.263</td> <td>    7.890</td> <td> 0.000</td> <td>    1.543</td> <td>    2.600</td>\n",
              "</tr>\n",
              "</table>\n",
              "<table class=\"simpletable\">\n",
              "<tr>\n",
              "  <th>Omnibus:</th>       <td> 2.504</td> <th>  Durbin-Watson:     </th> <td>   1.923</td>\n",
              "</tr>\n",
              "<tr>\n",
              "  <th>Prob(Omnibus):</th> <td> 0.286</td> <th>  Jarque-Bera (JB):  </th> <td>   1.797</td>\n",
              "</tr>\n",
              "<tr>\n",
              "  <th>Skew:</th>          <td>-0.035</td> <th>  Prob(JB):          </th> <td>   0.407</td>\n",
              "</tr>\n",
              "<tr>\n",
              "  <th>Kurtosis:</th>      <td> 3.926</td> <th>  Cond. No.          </th> <td>6.65e+05</td>\n",
              "</tr>\n",
              "</table><br/><br/>Notes:<br/>[1] Standard Errors assume that the covariance matrix of the errors is correctly specified.<br/>[2] The condition number is large, 6.65e+05. This might indicate that there are<br/>strong multicollinearity or other numerical problems."
            ],
            "text/plain": [
              "<class 'statsmodels.iolib.summary.Summary'>\n",
              "\"\"\"\n",
              "                            OLS Regression Results                            \n",
              "==============================================================================\n",
              "Dep. Variable:            marketspend   R-squared:                       0.570\n",
              "Model:                            OLS   Adj. R-squared:                  0.552\n",
              "Method:                 Least Squares   F-statistic:                     31.18\n",
              "Date:                Wed, 01 Nov 2023   Prob (F-statistic):           2.41e-09\n",
              "Time:                        11:54:14   Log-Likelihood:                -635.04\n",
              "No. Observations:                  50   AIC:                             1276.\n",
              "Df Residuals:                      47   BIC:                             1282.\n",
              "Df Model:                           2                                         \n",
              "Covariance Type:            nonrobust                                         \n",
              "==================================================================================\n",
              "                     coef    std err          t      P>|t|      [0.025      0.975]\n",
              "----------------------------------------------------------------------------------\n",
              "Intercept        1.75e+05   5.24e+04      3.340      0.002    6.96e+04     2.8e+05\n",
              "Administration    -0.9615      0.430     -2.235      0.030      -1.827      -0.096\n",
              "RandDspend         2.0715      0.263      7.890      0.000       1.543       2.600\n",
              "==============================================================================\n",
              "Omnibus:                        2.504   Durbin-Watson:                   1.923\n",
              "Prob(Omnibus):                  0.286   Jarque-Bera (JB):                1.797\n",
              "Skew:                          -0.035   Prob(JB):                        0.407\n",
              "Kurtosis:                       3.926   Cond. No.                     6.65e+05\n",
              "==============================================================================\n",
              "\n",
              "Notes:\n",
              "[1] Standard Errors assume that the covariance matrix of the errors is correctly specified.\n",
              "[2] The condition number is large, 6.65e+05. This might indicate that there are\n",
              "strong multicollinearity or other numerical problems.\n",
              "\"\"\""
            ]
          },
          "execution_count": 27,
          "metadata": {},
          "output_type": "execute_result"
        }
      ],
      "source": [
        "m2.summary()"
      ]
    },
    {
      "cell_type": "code",
      "execution_count": null,
      "id": "2b352f14",
      "metadata": {
        "id": "2b352f14"
      },
      "outputs": [],
      "source": [
        "vif1=m2.rsquared\n",
        "m_a=1/(1-vif1)"
      ]
    },
    {
      "cell_type": "code",
      "execution_count": null,
      "id": "900195ff",
      "metadata": {
        "id": "900195ff",
        "outputId": "0c756ed9-9174-4b9d-88d6-057c4b511558"
      },
      "outputs": [
        {
          "data": {
            "text/plain": [
              "2.3267732905308773"
            ]
          },
          "execution_count": 29,
          "metadata": {},
          "output_type": "execute_result"
        }
      ],
      "source": [
        "m_a"
      ]
    },
    {
      "cell_type": "code",
      "execution_count": null,
      "id": "dcfebee0",
      "metadata": {
        "id": "dcfebee0"
      },
      "outputs": [],
      "source": [
        "m3=smf.ols(\"RandDspend~Administration+marketspend\",data=a).fit()"
      ]
    },
    {
      "cell_type": "code",
      "execution_count": null,
      "id": "30257d30",
      "metadata": {
        "id": "30257d30",
        "outputId": "c59da0a1-3f1a-4d64-94fd-e30597f75f9d"
      },
      "outputs": [
        {
          "data": {
            "text/html": [
              "<table class=\"simpletable\">\n",
              "<caption>OLS Regression Results</caption>\n",
              "<tr>\n",
              "  <th>Dep. Variable:</th>       <td>RandDspend</td>    <th>  R-squared:         </th> <td>   0.595</td>\n",
              "</tr>\n",
              "<tr>\n",
              "  <th>Model:</th>                   <td>OLS</td>       <th>  Adj. R-squared:    </th> <td>   0.578</td>\n",
              "</tr>\n",
              "<tr>\n",
              "  <th>Method:</th>             <td>Least Squares</td>  <th>  F-statistic:       </th> <td>   34.52</td>\n",
              "</tr>\n",
              "<tr>\n",
              "  <th>Date:</th>             <td>Wed, 01 Nov 2023</td> <th>  Prob (F-statistic):</th> <td>5.97e-10</td>\n",
              "</tr>\n",
              "<tr>\n",
              "  <th>Time:</th>                 <td>11:56:56</td>     <th>  Log-Likelihood:    </th> <td> -584.56</td>\n",
              "</tr>\n",
              "<tr>\n",
              "  <th>No. Observations:</th>      <td>    50</td>      <th>  AIC:               </th> <td>   1175.</td>\n",
              "</tr>\n",
              "<tr>\n",
              "  <th>Df Residuals:</th>          <td>    47</td>      <th>  BIC:               </th> <td>   1181.</td>\n",
              "</tr>\n",
              "<tr>\n",
              "  <th>Df Model:</th>              <td>     2</td>      <th>                     </th>     <td> </td>   \n",
              "</tr>\n",
              "<tr>\n",
              "  <th>Covariance Type:</th>      <td>nonrobust</td>    <th>                     </th>     <td> </td>   \n",
              "</tr>\n",
              "</table>\n",
              "<table class=\"simpletable\">\n",
              "<tr>\n",
              "         <td></td>           <th>coef</th>     <th>std err</th>      <th>t</th>      <th>P>|t|</th>  <th>[0.025</th>    <th>0.975]</th>  \n",
              "</tr>\n",
              "<tr>\n",
              "  <th>Intercept</th>      <td>-3.711e+04</td> <td> 2.05e+04</td> <td>   -1.807</td> <td> 0.077</td> <td>-7.84e+04</td> <td> 4199.950</td>\n",
              "</tr>\n",
              "<tr>\n",
              "  <th>Administration</th> <td>    0.4350</td> <td>    0.152</td> <td>    2.859</td> <td> 0.006</td> <td>    0.129</td> <td>    0.741</td>\n",
              "</tr>\n",
              "<tr>\n",
              "  <th>marketspend</th>    <td>    0.2751</td> <td>    0.035</td> <td>    7.890</td> <td> 0.000</td> <td>    0.205</td> <td>    0.345</td>\n",
              "</tr>\n",
              "</table>\n",
              "<table class=\"simpletable\">\n",
              "<tr>\n",
              "  <th>Omnibus:</th>       <td> 3.767</td> <th>  Durbin-Watson:     </th> <td>   1.253</td>\n",
              "</tr>\n",
              "<tr>\n",
              "  <th>Prob(Omnibus):</th> <td> 0.152</td> <th>  Jarque-Bera (JB):  </th> <td>   3.001</td>\n",
              "</tr>\n",
              "<tr>\n",
              "  <th>Skew:</th>          <td>-0.311</td> <th>  Prob(JB):          </th> <td>   0.223</td>\n",
              "</tr>\n",
              "<tr>\n",
              "  <th>Kurtosis:</th>      <td> 4.027</td> <th>  Cond. No.          </th> <td>1.30e+06</td>\n",
              "</tr>\n",
              "</table><br/><br/>Notes:<br/>[1] Standard Errors assume that the covariance matrix of the errors is correctly specified.<br/>[2] The condition number is large, 1.3e+06. This might indicate that there are<br/>strong multicollinearity or other numerical problems."
            ],
            "text/plain": [
              "<class 'statsmodels.iolib.summary.Summary'>\n",
              "\"\"\"\n",
              "                            OLS Regression Results                            \n",
              "==============================================================================\n",
              "Dep. Variable:             RandDspend   R-squared:                       0.595\n",
              "Model:                            OLS   Adj. R-squared:                  0.578\n",
              "Method:                 Least Squares   F-statistic:                     34.52\n",
              "Date:                Wed, 01 Nov 2023   Prob (F-statistic):           5.97e-10\n",
              "Time:                        11:56:56   Log-Likelihood:                -584.56\n",
              "No. Observations:                  50   AIC:                             1175.\n",
              "Df Residuals:                      47   BIC:                             1181.\n",
              "Df Model:                           2                                         \n",
              "Covariance Type:            nonrobust                                         \n",
              "==================================================================================\n",
              "                     coef    std err          t      P>|t|      [0.025      0.975]\n",
              "----------------------------------------------------------------------------------\n",
              "Intercept      -3.711e+04   2.05e+04     -1.807      0.077   -7.84e+04    4199.950\n",
              "Administration     0.4350      0.152      2.859      0.006       0.129       0.741\n",
              "marketspend        0.2751      0.035      7.890      0.000       0.205       0.345\n",
              "==============================================================================\n",
              "Omnibus:                        3.767   Durbin-Watson:                   1.253\n",
              "Prob(Omnibus):                  0.152   Jarque-Bera (JB):                3.001\n",
              "Skew:                          -0.311   Prob(JB):                        0.223\n",
              "Kurtosis:                       4.027   Cond. No.                     1.30e+06\n",
              "==============================================================================\n",
              "\n",
              "Notes:\n",
              "[1] Standard Errors assume that the covariance matrix of the errors is correctly specified.\n",
              "[2] The condition number is large, 1.3e+06. This might indicate that there are\n",
              "strong multicollinearity or other numerical problems.\n",
              "\"\"\""
            ]
          },
          "execution_count": 32,
          "metadata": {},
          "output_type": "execute_result"
        }
      ],
      "source": [
        "m3.summary()"
      ]
    },
    {
      "cell_type": "code",
      "execution_count": null,
      "id": "82e12eb8",
      "metadata": {
        "id": "82e12eb8"
      },
      "outputs": [],
      "source": [
        "vif3=m3.rsquared\n",
        "r_a=1/(1-vif3)"
      ]
    },
    {
      "cell_type": "code",
      "execution_count": null,
      "id": "e39d8735",
      "metadata": {
        "id": "e39d8735",
        "outputId": "c13c21e8-affa-4709-f15b-57bd2b7dd649"
      },
      "outputs": [
        {
          "data": {
            "text/plain": [
              "2.468903069994701"
            ]
          },
          "execution_count": 34,
          "metadata": {},
          "output_type": "execute_result"
        }
      ],
      "source": [
        "r_a"
      ]
    },
    {
      "cell_type": "code",
      "execution_count": null,
      "id": "9a6b47fe",
      "metadata": {
        "id": "9a6b47fe"
      },
      "outputs": [],
      "source": [
        "d2={\"variables\":[\"Administration\",\"marketspend\",\"RandDsepend\"],\"vif\":[ad_a,m_a,r_a]}"
      ]
    },
    {
      "cell_type": "code",
      "execution_count": null,
      "id": "dff536c3",
      "metadata": {
        "id": "dff536c3",
        "outputId": "49e7e7d3-9f01-480b-9d55-bd86814a710f"
      },
      "outputs": [
        {
          "data": {
            "text/plain": [
              "{'variables': ['Administration', 'marketspend', 'RandDsepend'],\n",
              " 'vif': [1.1750910070550455, 2.3267732905308773, 2.468903069994701]}"
            ]
          },
          "execution_count": 36,
          "metadata": {},
          "output_type": "execute_result"
        }
      ],
      "source": [
        "d2"
      ]
    },
    {
      "cell_type": "code",
      "execution_count": null,
      "id": "57cc69cf",
      "metadata": {
        "id": "57cc69cf"
      },
      "outputs": [],
      "source": [
        "a1=pd.DataFrame(d2)"
      ]
    },
    {
      "cell_type": "code",
      "execution_count": null,
      "id": "bf9a593e",
      "metadata": {
        "id": "bf9a593e",
        "outputId": "d1566f6a-c499-415f-caa8-03d5a8e282e2"
      },
      "outputs": [
        {
          "data": {
            "text/html": [
              "<div>\n",
              "<style scoped>\n",
              "    .dataframe tbody tr th:only-of-type {\n",
              "        vertical-align: middle;\n",
              "    }\n",
              "\n",
              "    .dataframe tbody tr th {\n",
              "        vertical-align: top;\n",
              "    }\n",
              "\n",
              "    .dataframe thead th {\n",
              "        text-align: right;\n",
              "    }\n",
              "</style>\n",
              "<table border=\"1\" class=\"dataframe\">\n",
              "  <thead>\n",
              "    <tr style=\"text-align: right;\">\n",
              "      <th></th>\n",
              "      <th>variables</th>\n",
              "      <th>vif</th>\n",
              "    </tr>\n",
              "  </thead>\n",
              "  <tbody>\n",
              "    <tr>\n",
              "      <th>0</th>\n",
              "      <td>Administration</td>\n",
              "      <td>1.175091</td>\n",
              "    </tr>\n",
              "    <tr>\n",
              "      <th>1</th>\n",
              "      <td>marketspend</td>\n",
              "      <td>2.326773</td>\n",
              "    </tr>\n",
              "    <tr>\n",
              "      <th>2</th>\n",
              "      <td>RandDsepend</td>\n",
              "      <td>2.468903</td>\n",
              "    </tr>\n",
              "  </tbody>\n",
              "</table>\n",
              "</div>"
            ],
            "text/plain": [
              "        variables       vif\n",
              "0  Administration  1.175091\n",
              "1     marketspend  2.326773\n",
              "2     RandDsepend  2.468903"
            ]
          },
          "execution_count": 38,
          "metadata": {},
          "output_type": "execute_result"
        }
      ],
      "source": [
        "a1"
      ]
    },
    {
      "cell_type": "code",
      "execution_count": null,
      "id": "ccfeadc0",
      "metadata": {
        "id": "ccfeadc0"
      },
      "outputs": [],
      "source": [
        "mod1=smf.ols(\"Profit~Administration+RandDspend\",data=a).fit()"
      ]
    },
    {
      "cell_type": "code",
      "execution_count": null,
      "id": "712a866c",
      "metadata": {
        "id": "712a866c",
        "outputId": "0a50fb6a-d51b-4485-82cb-d69d11af4bbf"
      },
      "outputs": [
        {
          "data": {
            "text/html": [
              "<table class=\"simpletable\">\n",
              "<caption>OLS Regression Results</caption>\n",
              "<tr>\n",
              "  <th>Dep. Variable:</th>         <td>Profit</td>      <th>  R-squared:         </th> <td>   0.948</td>\n",
              "</tr>\n",
              "<tr>\n",
              "  <th>Model:</th>                   <td>OLS</td>       <th>  Adj. R-squared:    </th> <td>   0.946</td>\n",
              "</tr>\n",
              "<tr>\n",
              "  <th>Method:</th>             <td>Least Squares</td>  <th>  F-statistic:       </th> <td>   426.8</td>\n",
              "</tr>\n",
              "<tr>\n",
              "  <th>Date:</th>             <td>Wed, 01 Nov 2023</td> <th>  Prob (F-statistic):</th> <td>7.29e-31</td>\n",
              "</tr>\n",
              "<tr>\n",
              "  <th>Time:</th>                 <td>12:07:02</td>     <th>  Log-Likelihood:    </th> <td> -526.83</td>\n",
              "</tr>\n",
              "<tr>\n",
              "  <th>No. Observations:</th>      <td>    50</td>      <th>  AIC:               </th> <td>   1060.</td>\n",
              "</tr>\n",
              "<tr>\n",
              "  <th>Df Residuals:</th>          <td>    47</td>      <th>  BIC:               </th> <td>   1065.</td>\n",
              "</tr>\n",
              "<tr>\n",
              "  <th>Df Model:</th>              <td>     2</td>      <th>                     </th>     <td> </td>   \n",
              "</tr>\n",
              "<tr>\n",
              "  <th>Covariance Type:</th>      <td>nonrobust</td>    <th>                     </th>     <td> </td>   \n",
              "</tr>\n",
              "</table>\n",
              "<table class=\"simpletable\">\n",
              "<tr>\n",
              "         <td></td>           <th>coef</th>     <th>std err</th>      <th>t</th>      <th>P>|t|</th>  <th>[0.025</th>    <th>0.975]</th>  \n",
              "</tr>\n",
              "<tr>\n",
              "  <th>Intercept</th>      <td> 5.489e+04</td> <td> 6016.718</td> <td>    9.122</td> <td> 0.000</td> <td> 4.28e+04</td> <td>  6.7e+04</td>\n",
              "</tr>\n",
              "<tr>\n",
              "  <th>Administration</th> <td>   -0.0530</td> <td>    0.049</td> <td>   -1.073</td> <td> 0.289</td> <td>   -0.152</td> <td>    0.046</td>\n",
              "</tr>\n",
              "<tr>\n",
              "  <th>RandDspend</th>     <td>    0.8621</td> <td>    0.030</td> <td>   28.589</td> <td> 0.000</td> <td>    0.801</td> <td>    0.923</td>\n",
              "</tr>\n",
              "</table>\n",
              "<table class=\"simpletable\">\n",
              "<tr>\n",
              "  <th>Omnibus:</th>       <td>14.678</td> <th>  Durbin-Watson:     </th> <td>   1.189</td>\n",
              "</tr>\n",
              "<tr>\n",
              "  <th>Prob(Omnibus):</th> <td> 0.001</td> <th>  Jarque-Bera (JB):  </th> <td>  20.449</td>\n",
              "</tr>\n",
              "<tr>\n",
              "  <th>Skew:</th>          <td>-0.961</td> <th>  Prob(JB):          </th> <td>3.63e-05</td>\n",
              "</tr>\n",
              "<tr>\n",
              "  <th>Kurtosis:</th>      <td> 5.474</td> <th>  Cond. No.          </th> <td>6.65e+05</td>\n",
              "</tr>\n",
              "</table><br/><br/>Notes:<br/>[1] Standard Errors assume that the covariance matrix of the errors is correctly specified.<br/>[2] The condition number is large, 6.65e+05. This might indicate that there are<br/>strong multicollinearity or other numerical problems."
            ],
            "text/plain": [
              "<class 'statsmodels.iolib.summary.Summary'>\n",
              "\"\"\"\n",
              "                            OLS Regression Results                            \n",
              "==============================================================================\n",
              "Dep. Variable:                 Profit   R-squared:                       0.948\n",
              "Model:                            OLS   Adj. R-squared:                  0.946\n",
              "Method:                 Least Squares   F-statistic:                     426.8\n",
              "Date:                Wed, 01 Nov 2023   Prob (F-statistic):           7.29e-31\n",
              "Time:                        12:07:02   Log-Likelihood:                -526.83\n",
              "No. Observations:                  50   AIC:                             1060.\n",
              "Df Residuals:                      47   BIC:                             1065.\n",
              "Df Model:                           2                                         \n",
              "Covariance Type:            nonrobust                                         \n",
              "==================================================================================\n",
              "                     coef    std err          t      P>|t|      [0.025      0.975]\n",
              "----------------------------------------------------------------------------------\n",
              "Intercept       5.489e+04   6016.718      9.122      0.000    4.28e+04     6.7e+04\n",
              "Administration    -0.0530      0.049     -1.073      0.289      -0.152       0.046\n",
              "RandDspend         0.8621      0.030     28.589      0.000       0.801       0.923\n",
              "==============================================================================\n",
              "Omnibus:                       14.678   Durbin-Watson:                   1.189\n",
              "Prob(Omnibus):                  0.001   Jarque-Bera (JB):               20.449\n",
              "Skew:                          -0.961   Prob(JB):                     3.63e-05\n",
              "Kurtosis:                       5.474   Cond. No.                     6.65e+05\n",
              "==============================================================================\n",
              "\n",
              "Notes:\n",
              "[1] Standard Errors assume that the covariance matrix of the errors is correctly specified.\n",
              "[2] The condition number is large, 6.65e+05. This might indicate that there are\n",
              "strong multicollinearity or other numerical problems.\n",
              "\"\"\""
            ]
          },
          "execution_count": 42,
          "metadata": {},
          "output_type": "execute_result"
        }
      ],
      "source": [
        "mod1.summary()"
      ]
    },
    {
      "cell_type": "code",
      "execution_count": null,
      "id": "88619889",
      "metadata": {
        "id": "88619889",
        "outputId": "9793ee5a-4864-416d-b4ea-a81ddb2a4b43"
      },
      "outputs": [
        {
          "name": "stdout",
          "output_type": "stream",
          "text": [
            "1059.6636934567293\n",
            "0.9478129385009173\n"
          ]
        }
      ],
      "source": [
        "print(mod1.aic)\n",
        "print(mod1.rsquared)"
      ]
    },
    {
      "cell_type": "code",
      "execution_count": null,
      "id": "1e7964b6",
      "metadata": {
        "id": "1e7964b6"
      },
      "outputs": [],
      "source": [
        "mod2=smf.ols(\"Profit~marketspend+RandDspend\",data=a).fit()"
      ]
    },
    {
      "cell_type": "code",
      "execution_count": null,
      "id": "1ac6220e",
      "metadata": {
        "id": "1ac6220e",
        "outputId": "a9aa121d-d3fa-44e7-d817-079e05967105"
      },
      "outputs": [
        {
          "data": {
            "text/html": [
              "<table class=\"simpletable\">\n",
              "<caption>OLS Regression Results</caption>\n",
              "<tr>\n",
              "  <th>Dep. Variable:</th>         <td>Profit</td>      <th>  R-squared:         </th> <td>   0.950</td>\n",
              "</tr>\n",
              "<tr>\n",
              "  <th>Model:</th>                   <td>OLS</td>       <th>  Adj. R-squared:    </th> <td>   0.948</td>\n",
              "</tr>\n",
              "<tr>\n",
              "  <th>Method:</th>             <td>Least Squares</td>  <th>  F-statistic:       </th> <td>   450.8</td>\n",
              "</tr>\n",
              "<tr>\n",
              "  <th>Date:</th>             <td>Wed, 01 Nov 2023</td> <th>  Prob (F-statistic):</th> <td>2.16e-31</td>\n",
              "</tr>\n",
              "<tr>\n",
              "  <th>Time:</th>                 <td>12:09:58</td>     <th>  Log-Likelihood:    </th> <td> -525.54</td>\n",
              "</tr>\n",
              "<tr>\n",
              "  <th>No. Observations:</th>      <td>    50</td>      <th>  AIC:               </th> <td>   1057.</td>\n",
              "</tr>\n",
              "<tr>\n",
              "  <th>Df Residuals:</th>          <td>    47</td>      <th>  BIC:               </th> <td>   1063.</td>\n",
              "</tr>\n",
              "<tr>\n",
              "  <th>Df Model:</th>              <td>     2</td>      <th>                     </th>     <td> </td>   \n",
              "</tr>\n",
              "<tr>\n",
              "  <th>Covariance Type:</th>      <td>nonrobust</td>    <th>                     </th>     <td> </td>   \n",
              "</tr>\n",
              "</table>\n",
              "<table class=\"simpletable\">\n",
              "<tr>\n",
              "       <td></td>          <th>coef</th>     <th>std err</th>      <th>t</th>      <th>P>|t|</th>  <th>[0.025</th>    <th>0.975]</th>  \n",
              "</tr>\n",
              "<tr>\n",
              "  <th>Intercept</th>   <td> 4.698e+04</td> <td> 2689.933</td> <td>   17.464</td> <td> 0.000</td> <td> 4.16e+04</td> <td> 5.24e+04</td>\n",
              "</tr>\n",
              "<tr>\n",
              "  <th>marketspend</th> <td>    0.0299</td> <td>    0.016</td> <td>    1.927</td> <td> 0.060</td> <td>   -0.001</td> <td>    0.061</td>\n",
              "</tr>\n",
              "<tr>\n",
              "  <th>RandDspend</th>  <td>    0.7966</td> <td>    0.041</td> <td>   19.266</td> <td> 0.000</td> <td>    0.713</td> <td>    0.880</td>\n",
              "</tr>\n",
              "</table>\n",
              "<table class=\"simpletable\">\n",
              "<tr>\n",
              "  <th>Omnibus:</th>       <td>14.677</td> <th>  Durbin-Watson:     </th> <td>   1.257</td>\n",
              "</tr>\n",
              "<tr>\n",
              "  <th>Prob(Omnibus):</th> <td> 0.001</td> <th>  Jarque-Bera (JB):  </th> <td>  21.161</td>\n",
              "</tr>\n",
              "<tr>\n",
              "  <th>Skew:</th>          <td>-0.939</td> <th>  Prob(JB):          </th> <td>2.54e-05</td>\n",
              "</tr>\n",
              "<tr>\n",
              "  <th>Kurtosis:</th>      <td> 5.575</td> <th>  Cond. No.          </th> <td>5.32e+05</td>\n",
              "</tr>\n",
              "</table><br/><br/>Notes:<br/>[1] Standard Errors assume that the covariance matrix of the errors is correctly specified.<br/>[2] The condition number is large, 5.32e+05. This might indicate that there are<br/>strong multicollinearity or other numerical problems."
            ],
            "text/plain": [
              "<class 'statsmodels.iolib.summary.Summary'>\n",
              "\"\"\"\n",
              "                            OLS Regression Results                            \n",
              "==============================================================================\n",
              "Dep. Variable:                 Profit   R-squared:                       0.950\n",
              "Model:                            OLS   Adj. R-squared:                  0.948\n",
              "Method:                 Least Squares   F-statistic:                     450.8\n",
              "Date:                Wed, 01 Nov 2023   Prob (F-statistic):           2.16e-31\n",
              "Time:                        12:09:58   Log-Likelihood:                -525.54\n",
              "No. Observations:                  50   AIC:                             1057.\n",
              "Df Residuals:                      47   BIC:                             1063.\n",
              "Df Model:                           2                                         \n",
              "Covariance Type:            nonrobust                                         \n",
              "===============================================================================\n",
              "                  coef    std err          t      P>|t|      [0.025      0.975]\n",
              "-------------------------------------------------------------------------------\n",
              "Intercept    4.698e+04   2689.933     17.464      0.000    4.16e+04    5.24e+04\n",
              "marketspend     0.0299      0.016      1.927      0.060      -0.001       0.061\n",
              "RandDspend      0.7966      0.041     19.266      0.000       0.713       0.880\n",
              "==============================================================================\n",
              "Omnibus:                       14.677   Durbin-Watson:                   1.257\n",
              "Prob(Omnibus):                  0.001   Jarque-Bera (JB):               21.161\n",
              "Skew:                          -0.939   Prob(JB):                     2.54e-05\n",
              "Kurtosis:                       5.575   Cond. No.                     5.32e+05\n",
              "==============================================================================\n",
              "\n",
              "Notes:\n",
              "[1] Standard Errors assume that the covariance matrix of the errors is correctly specified.\n",
              "[2] The condition number is large, 5.32e+05. This might indicate that there are\n",
              "strong multicollinearity or other numerical problems.\n",
              "\"\"\""
            ]
          },
          "execution_count": 46,
          "metadata": {},
          "output_type": "execute_result"
        }
      ],
      "source": [
        "mod2.summary()"
      ]
    },
    {
      "cell_type": "code",
      "execution_count": null,
      "id": "4ad7ff35",
      "metadata": {
        "id": "4ad7ff35",
        "outputId": "e7879be2-914c-4b54-f040-c573478533a0"
      },
      "outputs": [
        {
          "name": "stdout",
          "output_type": "stream",
          "text": [
            "1057.070772191826\n",
            "0.9504503015559763\n"
          ]
        }
      ],
      "source": [
        "print(mod2.aic)\n",
        "print(mod2.rsquared)"
      ]
    },
    {
      "cell_type": "code",
      "execution_count": null,
      "id": "8b128941",
      "metadata": {
        "id": "8b128941"
      },
      "outputs": [],
      "source": [
        "#test for normality"
      ]
    },
    {
      "cell_type": "code",
      "execution_count": null,
      "id": "59e87133",
      "metadata": {
        "id": "59e87133",
        "outputId": "0b0f5b1d-28c8-4f7e-ce6f-5059516fa7be"
      },
      "outputs": [
        {
          "data": {
            "image/png": "[encoded data removed]",
            "text/plain": [
              "<Figure size 432x288 with 1 Axes>"
            ]
          },
          "metadata": {
            "needs_background": "light"
          },
          "output_type": "display_data"
        }
      ],
      "source": [
        "qqplot=sm.qqplot(mod2.resid,line=\"q\")"
      ]
    },
    {
      "cell_type": "code",
      "execution_count": null,
      "id": "c641b391",
      "metadata": {
        "id": "c641b391"
      },
      "outputs": [],
      "source": [
        "def standardized(v):\n",
        "  eqn = (v-v.mean())/v.std()\n",
        "  return eqn"
      ]
    },
    {
      "cell_type": "code",
      "execution_count": null,
      "id": "764766ad",
      "metadata": {
        "id": "764766ad",
        "outputId": "5eee1d40-fa96-4e69-e107-75e4a6fa745b"
      },
      "outputs": [
        {
          "data": {
            "image/png": "[encoded data removed]",
            "text/plain": [
              "<Figure size 432x288 with 1 Axes>"
            ]
          },
          "metadata": {
            "needs_background": "light"
          },
          "output_type": "display_data"
        }
      ],
      "source": [
        "sns.scatterplot(x=standardized(mod1.fittedvalues),y=standardized(mod1.resid))\n",
        "plt.xlabel=(\"standardized fitted values\")\n",
        "plt.ylabel=(\"standardized fitted values\")"
      ]
    },
    {
      "cell_type": "code",
      "execution_count": null,
      "id": "5a1ba012",
      "metadata": {
        "id": "5a1ba012",
        "outputId": "f89414d7-3e17-412c-f5cd-9afcab8aaf32"
      },
      "outputs": [
        {
          "name": "stdout",
          "output_type": "stream",
          "text": [
            "eval_env: 1\n"
          ]
        },
        {
          "data": {
            "image/png": "[encoded data removed]",
            "text/plain": [
              "<Figure size 1080x720 with 4 Axes>"
            ]
          },
          "metadata": {
            "needs_background": "light"
          },
          "output_type": "display_data"
        }
      ],
      "source": [
        "fig=plt.figure(figsize=(15,10))\n",
        "fig=sm.graphics.plot_regress_exog(w1,\"Administration\",fig=fig)\n",
        "plt.show()"
      ]
    },
    {
      "cell_type": "code",
      "execution_count": null,
      "id": "710a3a5c",
      "metadata": {
        "id": "710a3a5c",
        "outputId": "89b262f0-399b-418c-edb9-3eef059255a0"
      },
      "outputs": [
        {
          "name": "stdout",
          "output_type": "stream",
          "text": [
            "eval_env: 1\n"
          ]
        },
        {
          "data": {
            "image/png": "[encoded data removed]",
            "text/plain": [
              "<Figure size 720x720 with 4 Axes>"
            ]
          },
          "metadata": {
            "needs_background": "light"
          },
          "output_type": "display_data"
        }
      ],
      "source": [
        "fig=plt.figure(figsize=(10,10))\n",
        "fig = sm.graphics.plot_regress_exog(w1,\"RandDspend\",fig=fig)\n",
        "plt.show()"
      ]
    },
    {
      "cell_type": "code",
      "execution_count": null,
      "id": "dc3d2c3d",
      "metadata": {
        "id": "dc3d2c3d",
        "outputId": "7050f93a-e011-4894-adb9-d4db3f7b0319"
      },
      "outputs": [
        {
          "data": {
            "image/png": "[encoded data removed]",
            "text/plain": [
              "<Figure size 432x288 with 1 Axes>"
            ]
          },
          "metadata": {
            "needs_background": "light"
          },
          "output_type": "display_data"
        }
      ],
      "source": [
        "influence_plot(w1)\n",
        "plt.show()"
      ]
    },
    {
      "cell_type": "code",
      "execution_count": null,
      "id": "ebcf5eb3",
      "metadata": {
        "id": "ebcf5eb3",
        "outputId": "36b6c2d8-1a34-42d6-c544-b829585d7010"
      },
      "outputs": [
        {
          "data": {
            "text/plain": [
              "(50, 4)"
            ]
          },
          "execution_count": 69,
          "metadata": {},
          "output_type": "execute_result"
        }
      ],
      "source": [
        "a.shape"
      ]
    },
    {
      "cell_type": "code",
      "execution_count": null,
      "id": "c3de550c",
      "metadata": {
        "id": "c3de550c"
      },
      "outputs": [],
      "source": [
        "k=a.shape[1]\n",
        "n=a.shape[0]\n",
        "leverage_cutoff=2*((k+1)/n)"
      ]
    },
    {
      "cell_type": "code",
      "execution_count": null,
      "id": "31d67714",
      "metadata": {
        "id": "31d67714",
        "outputId": "e9ab8a2d-619f-4d8b-82df-2318630c4f78"
      },
      "outputs": [
        {
          "data": {
            "text/plain": [
              "0.2"
            ]
          },
          "execution_count": 113,
          "metadata": {},
          "output_type": "execute_result"
        }
      ],
      "source": [
        "leverage_cutoff"
      ]
    },
    {
      "cell_type": "code",
      "execution_count": null,
      "id": "2f099ef3",
      "metadata": {
        "id": "2f099ef3",
        "outputId": "3022dd2f-0f6d-4ba6-c09f-f8ad07cae3bf"
      },
      "outputs": [
        {
          "data": {
            "text/html": [
              "<div>\n",
              "<style scoped>\n",
              "    .dataframe tbody tr th:only-of-type {\n",
              "        vertical-align: middle;\n",
              "    }\n",
              "\n",
              "    .dataframe tbody tr th {\n",
              "        vertical-align: top;\n",
              "    }\n",
              "\n",
              "    .dataframe thead th {\n",
              "        text-align: right;\n",
              "    }\n",
              "</style>\n",
              "<table border=\"1\" class=\"dataframe\">\n",
              "  <thead>\n",
              "    <tr style=\"text-align: right;\">\n",
              "      <th></th>\n",
              "      <th>RandDspend</th>\n",
              "      <th>Administration</th>\n",
              "      <th>marketspend</th>\n",
              "      <th>Profit</th>\n",
              "    </tr>\n",
              "  </thead>\n",
              "  <tbody>\n",
              "    <tr>\n",
              "      <th>0</th>\n",
              "      <td>165349.20</td>\n",
              "      <td>136897.80</td>\n",
              "      <td>471784.10</td>\n",
              "      <td>192261.83</td>\n",
              "    </tr>\n",
              "    <tr>\n",
              "      <th>1</th>\n",
              "      <td>162597.70</td>\n",
              "      <td>151377.59</td>\n",
              "      <td>443898.53</td>\n",
              "      <td>191792.06</td>\n",
              "    </tr>\n",
              "    <tr>\n",
              "      <th>2</th>\n",
              "      <td>153441.51</td>\n",
              "      <td>101145.55</td>\n",
              "      <td>407934.54</td>\n",
              "      <td>191050.39</td>\n",
              "    </tr>\n",
              "    <tr>\n",
              "      <th>3</th>\n",
              "      <td>144372.41</td>\n",
              "      <td>118671.85</td>\n",
              "      <td>383199.62</td>\n",
              "      <td>182901.99</td>\n",
              "    </tr>\n",
              "    <tr>\n",
              "      <th>4</th>\n",
              "      <td>142107.34</td>\n",
              "      <td>91391.77</td>\n",
              "      <td>366168.42</td>\n",
              "      <td>166187.94</td>\n",
              "    </tr>\n",
              "  </tbody>\n",
              "</table>\n",
              "</div>"
            ],
            "text/plain": [
              "   RandDspend  Administration  marketspend     Profit\n",
              "0   165349.20       136897.80    471784.10  192261.83\n",
              "1   162597.70       151377.59    443898.53  191792.06\n",
              "2   153441.51       101145.55    407934.54  191050.39\n",
              "3   144372.41       118671.85    383199.62  182901.99\n",
              "4   142107.34        91391.77    366168.42  166187.94"
            ]
          },
          "execution_count": 72,
          "metadata": {},
          "output_type": "execute_result"
        }
      ],
      "source": [
        "a.head()"
      ]
    },
    {
      "cell_type": "code",
      "execution_count": null,
      "id": "b40aa7d0",
      "metadata": {
        "id": "b40aa7d0"
      },
      "outputs": [],
      "source": [
        "a1=a.copy"
      ]
    },
    {
      "cell_type": "code",
      "execution_count": null,
      "id": "65adee7a",
      "metadata": {
        "id": "65adee7a"
      },
      "outputs": [],
      "source": [
        "a3=pd.read_csv(\"50_Startups (2).csv\")"
      ]
    },
    {
      "cell_type": "code",
      "execution_count": null,
      "id": "f0227b36",
      "metadata": {
        "id": "f0227b36"
      },
      "outputs": [],
      "source": [
        "a3.rename(columns={\"R&D Spend\":\"RandDspend\",\"Marketing Spend\":\"marketspend\"},inplace=True)"
      ]
    },
    {
      "cell_type": "code",
      "execution_count": null,
      "id": "4db40ab3",
      "metadata": {
        "id": "4db40ab3",
        "outputId": "a554cb62-1842-45ff-f796-a2bdbabcaf60"
      },
      "outputs": [
        {
          "data": {
            "text/html": [
              "<div>\n",
              "<style scoped>\n",
              "    .dataframe tbody tr th:only-of-type {\n",
              "        vertical-align: middle;\n",
              "    }\n",
              "\n",
              "    .dataframe tbody tr th {\n",
              "        vertical-align: top;\n",
              "    }\n",
              "\n",
              "    .dataframe thead th {\n",
              "        text-align: right;\n",
              "    }\n",
              "</style>\n",
              "<table border=\"1\" class=\"dataframe\">\n",
              "  <thead>\n",
              "    <tr style=\"text-align: right;\">\n",
              "      <th></th>\n",
              "      <th>RandDspend</th>\n",
              "      <th>Administration</th>\n",
              "      <th>marketspend</th>\n",
              "      <th>State</th>\n",
              "      <th>Profit</th>\n",
              "    </tr>\n",
              "  </thead>\n",
              "  <tbody>\n",
              "    <tr>\n",
              "      <th>0</th>\n",
              "      <td>165349.20</td>\n",
              "      <td>136897.80</td>\n",
              "      <td>471784.10</td>\n",
              "      <td>New York</td>\n",
              "      <td>192261.83</td>\n",
              "    </tr>\n",
              "    <tr>\n",
              "      <th>1</th>\n",
              "      <td>162597.70</td>\n",
              "      <td>151377.59</td>\n",
              "      <td>443898.53</td>\n",
              "      <td>California</td>\n",
              "      <td>191792.06</td>\n",
              "    </tr>\n",
              "    <tr>\n",
              "      <th>2</th>\n",
              "      <td>153441.51</td>\n",
              "      <td>101145.55</td>\n",
              "      <td>407934.54</td>\n",
              "      <td>Florida</td>\n",
              "      <td>191050.39</td>\n",
              "    </tr>\n",
              "    <tr>\n",
              "      <th>3</th>\n",
              "      <td>144372.41</td>\n",
              "      <td>118671.85</td>\n",
              "      <td>383199.62</td>\n",
              "      <td>New York</td>\n",
              "      <td>182901.99</td>\n",
              "    </tr>\n",
              "    <tr>\n",
              "      <th>4</th>\n",
              "      <td>142107.34</td>\n",
              "      <td>91391.77</td>\n",
              "      <td>366168.42</td>\n",
              "      <td>Florida</td>\n",
              "      <td>166187.94</td>\n",
              "    </tr>\n",
              "  </tbody>\n",
              "</table>\n",
              "</div>"
            ],
            "text/plain": [
              "   RandDspend  Administration  marketspend       State     Profit\n",
              "0   165349.20       136897.80    471784.10    New York  192261.83\n",
              "1   162597.70       151377.59    443898.53  California  191792.06\n",
              "2   153441.51       101145.55    407934.54     Florida  191050.39\n",
              "3   144372.41       118671.85    383199.62    New York  182901.99\n",
              "4   142107.34        91391.77    366168.42     Florida  166187.94"
            ]
          },
          "execution_count": 79,
          "metadata": {},
          "output_type": "execute_result"
        }
      ],
      "source": [
        "a3.head()"
      ]
    },
    {
      "cell_type": "code",
      "execution_count": null,
      "id": "c602ee37",
      "metadata": {
        "id": "c602ee37"
      },
      "outputs": [],
      "source": [
        "a3.drop(\"State\",axis=1,inplace=True)"
      ]
    },
    {
      "cell_type": "code",
      "execution_count": null,
      "id": "9083582d",
      "metadata": {
        "id": "9083582d"
      },
      "outputs": [],
      "source": [
        "a3"
      ]
    },
    {
      "cell_type": "code",
      "execution_count": null,
      "id": "a38ab7fd",
      "metadata": {
        "id": "a38ab7fd",
        "outputId": "ffcc6aee-0411-4ee5-f99e-af4eb2f1ab9a"
      },
      "outputs": [
        {
          "data": {
            "text/plain": [
              "array([3.21825244e-05, 3.27591036e-03, 3.23842699e-02, 2.17206555e-02,\n",
              "       1.44833032e-02, 1.17158463e-02, 2.91766303e-03, 3.56513444e-03,\n",
              "       4.04303948e-05, 4.86758017e-03, 1.51064757e-02, 1.63564959e-02,\n",
              "       1.15516625e-02, 4.01422811e-03, 6.12934253e-02, 3.40013448e-02,\n",
              "       8.33556413e-03, 3.30534399e-03, 2.16819303e-03, 4.07440577e-02,\n",
              "       4.25137222e-04, 1.09844352e-02, 2.91768000e-03, 2.76030254e-04,\n",
              "       5.04643588e-03, 3.00074623e-03, 3.41957068e-03, 2.98396413e-02,\n",
              "       1.31590664e-03, 1.25992620e-04, 4.18505125e-05, 9.27434786e-06,\n",
              "       7.08656521e-04, 1.28122674e-04, 2.09815032e-02, 6.69508674e-03,\n",
              "       5.55314705e-02, 6.55050578e-05, 5.61547311e-02, 1.54279607e-03,\n",
              "       1.84850929e-03, 1.97578066e-03, 1.36089280e-04, 2.05553171e-02,\n",
              "       1.23156041e-04, 9.03234206e-02, 5.45303387e-02, 5.33885616e-03,\n",
              "       1.90527441e-01, 2.88082293e-01])"
            ]
          },
          "execution_count": 104,
          "metadata": {},
          "output_type": "execute_result"
        }
      ],
      "source": [
        "model_influence=w1.get_influence()\n",
        "(c,_)=model_influence.cooks_distance\n",
        "c\n"
      ]
    },
    {
      "cell_type": "code",
      "execution_count": null,
      "id": "4677efd0",
      "metadata": {
        "id": "4677efd0",
        "outputId": "207ef920-7209-4df1-919b-11f2c0380dd3"
      },
      "outputs": [
        {
          "data": {
            "image/png": "[encoded data removed]",
            "text/plain": [
              "<Figure size 720x432 with 1 Axes>"
            ]
          },
          "metadata": {
            "needs_background": "light"
          },
          "output_type": "display_data"
        }
      ],
      "source": [
        "fig=plt.subplots(figsize=(10,6))\n",
        "plt.stem(np.arange(len(a)),np.round(c,5))\n",
        "\n",
        "plt.show()"
      ]
    },
    {
      "cell_type": "code",
      "execution_count": null,
      "id": "5a3132ca",
      "metadata": {
        "id": "5a3132ca",
        "outputId": "6cb4dc19-5af6-454f-edb3-85ac8ee59dfa"
      },
      "outputs": [
        {
          "data": {
            "text/plain": [
              "(49, 0.2880822927543274)"
            ]
          },
          "execution_count": 114,
          "metadata": {},
          "output_type": "execute_result"
        }
      ],
      "source": [
        "(np.argmax(c),np.max(c))"
      ]
    },
    {
      "cell_type": "code",
      "execution_count": null,
      "id": "16b5fd73",
      "metadata": {
        "id": "16b5fd73"
      },
      "outputs": [],
      "source": [
        "# remove 49 row"
      ]
    },
    {
      "cell_type": "code",
      "execution_count": null,
      "id": "0d50ed46",
      "metadata": {
        "id": "0d50ed46",
        "outputId": "a96500f8-2052-4ed5-dcd6-0e5660b5a22c"
      },
      "outputs": [
        {
          "data": {
            "image/png": "[encoded data removed]",
            "text/plain": [
              "<Figure size 432x288 with 1 Axes>"
            ]
          },
          "metadata": {
            "needs_background": "light"
          },
          "output_type": "display_data"
        }
      ],
      "source": [
        "influence_plot(w1,alpha=0.5)\n",
        "y=[i for i in range(-2,18)]\n",
        "x=[leverage_cutoff for i in range(20)]\n",
        "plt.plot(x,y,\"r+\")\n",
        "plt.show()"
      ]
    },
    {
      "cell_type": "code",
      "execution_count": null,
      "id": "54061b80",
      "metadata": {
        "id": "54061b80",
        "outputId": "5259ff00-fa16-41b9-af4d-57b3bda6d26c"
      },
      "outputs": [
        {
          "data": {
            "text/html": [
              "<div>\n",
              "<style scoped>\n",
              "    .dataframe tbody tr th:only-of-type {\n",
              "        vertical-align: middle;\n",
              "    }\n",
              "\n",
              "    .dataframe tbody tr th {\n",
              "        vertical-align: top;\n",
              "    }\n",
              "\n",
              "    .dataframe thead th {\n",
              "        text-align: right;\n",
              "    }\n",
              "</style>\n",
              "<table border=\"1\" class=\"dataframe\">\n",
              "  <thead>\n",
              "    <tr style=\"text-align: right;\">\n",
              "      <th></th>\n",
              "      <th>RandDspend</th>\n",
              "      <th>Administration</th>\n",
              "      <th>marketspend</th>\n",
              "      <th>Profit</th>\n",
              "    </tr>\n",
              "  </thead>\n",
              "  <tbody>\n",
              "    <tr>\n",
              "      <th>46</th>\n",
              "      <td>1315.46</td>\n",
              "      <td>115816.21</td>\n",
              "      <td>297114.46</td>\n",
              "      <td>49490.75</td>\n",
              "    </tr>\n",
              "    <tr>\n",
              "      <th>48</th>\n",
              "      <td>542.05</td>\n",
              "      <td>51743.15</td>\n",
              "      <td>0.00</td>\n",
              "      <td>35673.41</td>\n",
              "    </tr>\n",
              "  </tbody>\n",
              "</table>\n",
              "</div>"
            ],
            "text/plain": [
              "    RandDspend  Administration  marketspend    Profit\n",
              "46     1315.46       115816.21    297114.46  49490.75\n",
              "48      542.05        51743.15         0.00  35673.41"
            ]
          },
          "execution_count": 123,
          "metadata": {},
          "output_type": "execute_result"
        }
      ],
      "source": [
        "a[a.index.isin([48,46])]"
      ]
    },
    {
      "cell_type": "code",
      "execution_count": null,
      "id": "f87fde22",
      "metadata": {
        "id": "f87fde22"
      },
      "outputs": [],
      "source": [
        "# remove 46 and 48 and 49 rows\n",
        "a1=a.drop(a.index[[46,48,49]],axis=0).reset_index()"
      ]
    },
    {
      "cell_type": "code",
      "execution_count": null,
      "id": "bfccc4a5",
      "metadata": {
        "id": "bfccc4a5",
        "outputId": "efa4d558-edf7-4926-93c4-f8545df54f4d"
      },
      "outputs": [
        {
          "data": {
            "text/html": [
              "<div>\n",
              "<style scoped>\n",
              "    .dataframe tbody tr th:only-of-type {\n",
              "        vertical-align: middle;\n",
              "    }\n",
              "\n",
              "    .dataframe tbody tr th {\n",
              "        vertical-align: top;\n",
              "    }\n",
              "\n",
              "    .dataframe thead th {\n",
              "        text-align: right;\n",
              "    }\n",
              "</style>\n",
              "<table border=\"1\" class=\"dataframe\">\n",
              "  <thead>\n",
              "    <tr style=\"text-align: right;\">\n",
              "      <th></th>\n",
              "      <th>index</th>\n",
              "      <th>RandDspend</th>\n",
              "      <th>Administration</th>\n",
              "      <th>marketspend</th>\n",
              "      <th>Profit</th>\n",
              "    </tr>\n",
              "  </thead>\n",
              "  <tbody>\n",
              "    <tr>\n",
              "      <th>42</th>\n",
              "      <td>42</td>\n",
              "      <td>23640.93</td>\n",
              "      <td>96189.63</td>\n",
              "      <td>148001.11</td>\n",
              "      <td>71498.49</td>\n",
              "    </tr>\n",
              "    <tr>\n",
              "      <th>43</th>\n",
              "      <td>43</td>\n",
              "      <td>15505.73</td>\n",
              "      <td>127382.30</td>\n",
              "      <td>35534.17</td>\n",
              "      <td>69758.98</td>\n",
              "    </tr>\n",
              "    <tr>\n",
              "      <th>44</th>\n",
              "      <td>44</td>\n",
              "      <td>22177.74</td>\n",
              "      <td>154806.14</td>\n",
              "      <td>28334.72</td>\n",
              "      <td>65200.33</td>\n",
              "    </tr>\n",
              "    <tr>\n",
              "      <th>45</th>\n",
              "      <td>45</td>\n",
              "      <td>1000.23</td>\n",
              "      <td>124153.04</td>\n",
              "      <td>1903.93</td>\n",
              "      <td>64926.08</td>\n",
              "    </tr>\n",
              "    <tr>\n",
              "      <th>46</th>\n",
              "      <td>47</td>\n",
              "      <td>0.00</td>\n",
              "      <td>135426.92</td>\n",
              "      <td>0.00</td>\n",
              "      <td>42559.73</td>\n",
              "    </tr>\n",
              "  </tbody>\n",
              "</table>\n",
              "</div>"
            ],
            "text/plain": [
              "    index  RandDspend  Administration  marketspend    Profit\n",
              "42     42    23640.93        96189.63    148001.11  71498.49\n",
              "43     43    15505.73       127382.30     35534.17  69758.98\n",
              "44     44    22177.74       154806.14     28334.72  65200.33\n",
              "45     45     1000.23       124153.04      1903.93  64926.08\n",
              "46     47        0.00       135426.92         0.00  42559.73"
            ]
          },
          "execution_count": 150,
          "metadata": {},
          "output_type": "execute_result"
        }
      ],
      "source": [
        "a1.tail()"
      ]
    },
    {
      "cell_type": "code",
      "execution_count": null,
      "id": "77d3c5a2",
      "metadata": {
        "id": "77d3c5a2"
      },
      "outputs": [],
      "source": [
        "final=smf.ols(\"Profit~marketspend+RandDspend\",data=a1).fit()"
      ]
    },
    {
      "cell_type": "code",
      "execution_count": null,
      "id": "57b92d96",
      "metadata": {
        "id": "57b92d96",
        "outputId": "43a1e71b-c6dc-4038-8215-2cb5bd6981a7"
      },
      "outputs": [
        {
          "data": {
            "text/html": [
              "<table class=\"simpletable\">\n",
              "<caption>OLS Regression Results</caption>\n",
              "<tr>\n",
              "  <th>Dep. Variable:</th>         <td>Profit</td>      <th>  R-squared:         </th> <td>   0.960</td>\n",
              "</tr>\n",
              "<tr>\n",
              "  <th>Model:</th>                   <td>OLS</td>       <th>  Adj. R-squared:    </th> <td>   0.958</td>\n",
              "</tr>\n",
              "<tr>\n",
              "  <th>Method:</th>             <td>Least Squares</td>  <th>  F-statistic:       </th> <td>   529.6</td>\n",
              "</tr>\n",
              "<tr>\n",
              "  <th>Date:</th>             <td>Wed, 01 Nov 2023</td> <th>  Prob (F-statistic):</th> <td>1.65e-31</td>\n",
              "</tr>\n",
              "<tr>\n",
              "  <th>Time:</th>                 <td>13:53:01</td>     <th>  Log-Likelihood:    </th> <td> -483.40</td>\n",
              "</tr>\n",
              "<tr>\n",
              "  <th>No. Observations:</th>      <td>    47</td>      <th>  AIC:               </th> <td>   972.8</td>\n",
              "</tr>\n",
              "<tr>\n",
              "  <th>Df Residuals:</th>          <td>    44</td>      <th>  BIC:               </th> <td>   978.4</td>\n",
              "</tr>\n",
              "<tr>\n",
              "  <th>Df Model:</th>              <td>     2</td>      <th>                     </th>     <td> </td>   \n",
              "</tr>\n",
              "<tr>\n",
              "  <th>Covariance Type:</th>      <td>nonrobust</td>    <th>                     </th>     <td> </td>   \n",
              "</tr>\n",
              "</table>\n",
              "<table class=\"simpletable\">\n",
              "<tr>\n",
              "       <td></td>          <th>coef</th>     <th>std err</th>      <th>t</th>      <th>P>|t|</th>  <th>[0.025</th>    <th>0.975]</th>  \n",
              "</tr>\n",
              "<tr>\n",
              "  <th>Intercept</th>   <td> 5.171e+04</td> <td> 2358.725</td> <td>   21.924</td> <td> 0.000</td> <td>  4.7e+04</td> <td> 5.65e+04</td>\n",
              "</tr>\n",
              "<tr>\n",
              "  <th>marketspend</th> <td>    0.0323</td> <td>    0.014</td> <td>    2.376</td> <td> 0.022</td> <td>    0.005</td> <td>    0.060</td>\n",
              "</tr>\n",
              "<tr>\n",
              "  <th>RandDspend</th>  <td>    0.7439</td> <td>    0.037</td> <td>   19.902</td> <td> 0.000</td> <td>    0.669</td> <td>    0.819</td>\n",
              "</tr>\n",
              "</table>\n",
              "<table class=\"simpletable\">\n",
              "<tr>\n",
              "  <th>Omnibus:</th>       <td> 0.086</td> <th>  Durbin-Watson:     </th> <td>   1.660</td>\n",
              "</tr>\n",
              "<tr>\n",
              "  <th>Prob(Omnibus):</th> <td> 0.958</td> <th>  Jarque-Bera (JB):  </th> <td>   0.292</td>\n",
              "</tr>\n",
              "<tr>\n",
              "  <th>Skew:</th>          <td> 0.000</td> <th>  Prob(JB):          </th> <td>   0.864</td>\n",
              "</tr>\n",
              "<tr>\n",
              "  <th>Kurtosis:</th>      <td> 2.614</td> <th>  Cond. No.          </th> <td>5.76e+05</td>\n",
              "</tr>\n",
              "</table><br/><br/>Notes:<br/>[1] Standard Errors assume that the covariance matrix of the errors is correctly specified.<br/>[2] The condition number is large, 5.76e+05. This might indicate that there are<br/>strong multicollinearity or other numerical problems."
            ],
            "text/plain": [
              "<class 'statsmodels.iolib.summary.Summary'>\n",
              "\"\"\"\n",
              "                            OLS Regression Results                            \n",
              "==============================================================================\n",
              "Dep. Variable:                 Profit   R-squared:                       0.960\n",
              "Model:                            OLS   Adj. R-squared:                  0.958\n",
              "Method:                 Least Squares   F-statistic:                     529.6\n",
              "Date:                Wed, 01 Nov 2023   Prob (F-statistic):           1.65e-31\n",
              "Time:                        13:53:01   Log-Likelihood:                -483.40\n",
              "No. Observations:                  47   AIC:                             972.8\n",
              "Df Residuals:                      44   BIC:                             978.4\n",
              "Df Model:                           2                                         \n",
              "Covariance Type:            nonrobust                                         \n",
              "===============================================================================\n",
              "                  coef    std err          t      P>|t|      [0.025      0.975]\n",
              "-------------------------------------------------------------------------------\n",
              "Intercept    5.171e+04   2358.725     21.924      0.000     4.7e+04    5.65e+04\n",
              "marketspend     0.0323      0.014      2.376      0.022       0.005       0.060\n",
              "RandDspend      0.7439      0.037     19.902      0.000       0.669       0.819\n",
              "==============================================================================\n",
              "Omnibus:                        0.086   Durbin-Watson:                   1.660\n",
              "Prob(Omnibus):                  0.958   Jarque-Bera (JB):                0.292\n",
              "Skew:                           0.000   Prob(JB):                        0.864\n",
              "Kurtosis:                       2.614   Cond. No.                     5.76e+05\n",
              "==============================================================================\n",
              "\n",
              "Notes:\n",
              "[1] Standard Errors assume that the covariance matrix of the errors is correctly specified.\n",
              "[2] The condition number is large, 5.76e+05. This might indicate that there are\n",
              "strong multicollinearity or other numerical problems.\n",
              "\"\"\""
            ]
          },
          "execution_count": 152,
          "metadata": {},
          "output_type": "execute_result"
        }
      ],
      "source": [
        "final.summary()\n"
      ]
    },
    {
      "cell_type": "code",
      "execution_count": null,
      "id": "6392a668",
      "metadata": {
        "id": "6392a668"
      },
      "outputs": [],
      "source": [
        "model2=final.get_influence()\n",
        "(c_v,_)=model2.cooks_distance"
      ]
    },
    {
      "cell_type": "code",
      "execution_count": null,
      "id": "c60266e0",
      "metadata": {
        "id": "c60266e0",
        "outputId": "9331c63f-a8f8-44d7-b36f-29bd271104ad"
      },
      "outputs": [
        {
          "data": {
            "text/plain": [
              "<StemContainer object of 3 artists>"
            ]
          },
          "execution_count": 154,
          "metadata": {},
          "output_type": "execute_result"
        },
        {
          "data": {
            "image/png": "[encoded data removed]",
            "text/plain": [
              "<Figure size 1440x504 with 1 Axes>"
            ]
          },
          "metadata": {
            "needs_background": "light"
          },
          "output_type": "display_data"
        }
      ],
      "source": [
        "fig=plt.subplots(figsize=(20,7))\n",
        "plt.stem(np.arange(len(a1)),np.round(c_v,3))"
      ]
    },
    {
      "cell_type": "code",
      "execution_count": null,
      "id": "f91f0fa7",
      "metadata": {
        "id": "f91f0fa7",
        "outputId": "945280cf-5a26-40e6-c468-2e57541feb02"
      },
      "outputs": [
        {
          "data": {
            "text/plain": [
              "(45, 0.12080904032647992)"
            ]
          },
          "execution_count": 155,
          "metadata": {},
          "output_type": "execute_result"
        }
      ],
      "source": [
        "(np.argmax(c_v),np.max(c_v))"
      ]
    },
    {
      "cell_type": "code",
      "execution_count": null,
      "id": "cfe66e9e",
      "metadata": {
        "id": "cfe66e9e"
      },
      "outputs": [],
      "source": [
        "# remove 47 row\n",
        "a1=a.drop(a.index[[45]],axis=0).reset_index()"
      ]
    },
    {
      "cell_type": "code",
      "execution_count": null,
      "id": "f773a3fc",
      "metadata": {
        "id": "f773a3fc"
      },
      "outputs": [],
      "source": [
        "w=smf.ols(\"Profit~marketspend+RandDspend\",data=a1).fit()"
      ]
    },
    {
      "cell_type": "code",
      "execution_count": null,
      "id": "6276f0dd",
      "metadata": {
        "id": "6276f0dd",
        "outputId": "05a4dfd7-4260-41eb-f23a-d818a09cbddc"
      },
      "outputs": [
        {
          "data": {
            "text/html": [
              "<table class=\"simpletable\">\n",
              "<caption>OLS Regression Results</caption>\n",
              "<tr>\n",
              "  <th>Dep. Variable:</th>         <td>Profit</td>      <th>  R-squared:         </th> <td>   0.953</td>\n",
              "</tr>\n",
              "<tr>\n",
              "  <th>Model:</th>                   <td>OLS</td>       <th>  Adj. R-squared:    </th> <td>   0.951</td>\n",
              "</tr>\n",
              "<tr>\n",
              "  <th>Method:</th>             <td>Least Squares</td>  <th>  F-statistic:       </th> <td>   467.7</td>\n",
              "</tr>\n",
              "<tr>\n",
              "  <th>Date:</th>             <td>Wed, 01 Nov 2023</td> <th>  Prob (F-statistic):</th> <td>2.69e-31</td>\n",
              "</tr>\n",
              "<tr>\n",
              "  <th>Time:</th>                 <td>13:55:26</td>     <th>  Log-Likelihood:    </th> <td> -513.45</td>\n",
              "</tr>\n",
              "<tr>\n",
              "  <th>No. Observations:</th>      <td>    49</td>      <th>  AIC:               </th> <td>   1033.</td>\n",
              "</tr>\n",
              "<tr>\n",
              "  <th>Df Residuals:</th>          <td>    46</td>      <th>  BIC:               </th> <td>   1039.</td>\n",
              "</tr>\n",
              "<tr>\n",
              "  <th>Df Model:</th>              <td>     2</td>      <th>                     </th>     <td> </td>   \n",
              "</tr>\n",
              "<tr>\n",
              "  <th>Covariance Type:</th>      <td>nonrobust</td>    <th>                     </th>     <td> </td>   \n",
              "</tr>\n",
              "</table>\n",
              "<table class=\"simpletable\">\n",
              "<tr>\n",
              "       <td></td>          <th>coef</th>     <th>std err</th>      <th>t</th>      <th>P>|t|</th>  <th>[0.025</th>    <th>0.975]</th>  \n",
              "</tr>\n",
              "<tr>\n",
              "  <th>Intercept</th>   <td> 4.538e+04</td> <td> 2724.707</td> <td>   16.654</td> <td> 0.000</td> <td> 3.99e+04</td> <td> 5.09e+04</td>\n",
              "</tr>\n",
              "<tr>\n",
              "  <th>marketspend</th> <td>    0.0336</td> <td>    0.015</td> <td>    2.218</td> <td> 0.032</td> <td>    0.003</td> <td>    0.064</td>\n",
              "</tr>\n",
              "<tr>\n",
              "  <th>RandDspend</th>  <td>    0.8026</td> <td>    0.040</td> <td>   19.976</td> <td> 0.000</td> <td>    0.722</td> <td>    0.884</td>\n",
              "</tr>\n",
              "</table>\n",
              "<table class=\"simpletable\">\n",
              "<tr>\n",
              "  <th>Omnibus:</th>       <td>14.947</td> <th>  Durbin-Watson:     </th> <td>   1.178</td>\n",
              "</tr>\n",
              "<tr>\n",
              "  <th>Prob(Omnibus):</th> <td> 0.001</td> <th>  Jarque-Bera (JB):  </th> <td>  20.493</td>\n",
              "</tr>\n",
              "<tr>\n",
              "  <th>Skew:</th>          <td>-1.000</td> <th>  Prob(JB):          </th> <td>3.55e-05</td>\n",
              "</tr>\n",
              "<tr>\n",
              "  <th>Kurtosis:</th>      <td> 5.457</td> <th>  Cond. No.          </th> <td>5.56e+05</td>\n",
              "</tr>\n",
              "</table><br/><br/>Notes:<br/>[1] Standard Errors assume that the covariance matrix of the errors is correctly specified.<br/>[2] The condition number is large, 5.56e+05. This might indicate that there are<br/>strong multicollinearity or other numerical problems."
            ],
            "text/plain": [
              "<class 'statsmodels.iolib.summary.Summary'>\n",
              "\"\"\"\n",
              "                            OLS Regression Results                            \n",
              "==============================================================================\n",
              "Dep. Variable:                 Profit   R-squared:                       0.953\n",
              "Model:                            OLS   Adj. R-squared:                  0.951\n",
              "Method:                 Least Squares   F-statistic:                     467.7\n",
              "Date:                Wed, 01 Nov 2023   Prob (F-statistic):           2.69e-31\n",
              "Time:                        13:55:26   Log-Likelihood:                -513.45\n",
              "No. Observations:                  49   AIC:                             1033.\n",
              "Df Residuals:                      46   BIC:                             1039.\n",
              "Df Model:                           2                                         \n",
              "Covariance Type:            nonrobust                                         \n",
              "===============================================================================\n",
              "                  coef    std err          t      P>|t|      [0.025      0.975]\n",
              "-------------------------------------------------------------------------------\n",
              "Intercept    4.538e+04   2724.707     16.654      0.000    3.99e+04    5.09e+04\n",
              "marketspend     0.0336      0.015      2.218      0.032       0.003       0.064\n",
              "RandDspend      0.8026      0.040     19.976      0.000       0.722       0.884\n",
              "==============================================================================\n",
              "Omnibus:                       14.947   Durbin-Watson:                   1.178\n",
              "Prob(Omnibus):                  0.001   Jarque-Bera (JB):               20.493\n",
              "Skew:                          -1.000   Prob(JB):                     3.55e-05\n",
              "Kurtosis:                       5.457   Cond. No.                     5.56e+05\n",
              "==============================================================================\n",
              "\n",
              "Notes:\n",
              "[1] Standard Errors assume that the covariance matrix of the errors is correctly specified.\n",
              "[2] The condition number is large, 5.56e+05. This might indicate that there are\n",
              "strong multicollinearity or other numerical problems.\n",
              "\"\"\""
            ]
          },
          "execution_count": 158,
          "metadata": {},
          "output_type": "execute_result"
        }
      ],
      "source": [
        "w.summary()"
      ]
    },
    {
      "cell_type": "code",
      "execution_count": null,
      "id": "42476007",
      "metadata": {
        "id": "42476007",
        "outputId": "afa90198-6abb-4c5f-9f3a-98d22f647b8f"
      },
      "outputs": [
        {
          "data": {
            "text/plain": [
              "(0.9601156240945741, 972.8030903954616)"
            ]
          },
          "execution_count": 159,
          "metadata": {},
          "output_type": "execute_result"
        }
      ],
      "source": [
        "(final.rsquared,final.aic)"
      ]
    },
    {
      "cell_type": "code",
      "execution_count": null,
      "id": "459115e5",
      "metadata": {
        "id": "459115e5"
      },
      "outputs": [],
      "source": []
    },
    {
      "cell_type": "code",
      "execution_count": null,
      "id": "060b22ab",
      "metadata": {
        "id": "060b22ab"
      },
      "outputs": [],
      "source": []
    }
  ],
  "metadata": {
    "kernelspec": {
      "display_name": "Python 3 (ipykernel)",
      "language": "python",
      "name": "python3"
    },
    "language_info": {
      "codemirror_mode": {
        "name": "ipython",
        "version": 3
      },
      "file_extension": ".py",
      "mimetype": "text/x-python",
      "name": "python",
      "nbconvert_exporter": "python",
      "pygments_lexer": "ipython3",
      "version": "3.9.12"
    },
    "colab": {
      "provenance": []
    }
  },
  "nbformat": 4,
  "nbformat_minor": 5
}